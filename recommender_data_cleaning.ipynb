{
  "nbformat": 4,
  "nbformat_minor": 0,
  "metadata": {
    "colab": {
      "name": "recommender_data_cleaning.ipynb",
      "provenance": [],
      "collapsed_sections": [
        "jYKEaHJvairZ",
        "EtbWHc6baoSG",
        "T91Sjn9P2raJ"
      ],
      "toc_visible": true
    },
    "kernelspec": {
      "name": "python385jvsc74a57bd0082558e69d658a3c5e44001fe6518b5717e52b61fd75d6ca5e37a9989eaee2aa",
      "display_name": "Python 3.8.5 64-bit ('base': conda)"
    },
    "language_info": {
      "name": "python",
      "version": "3.8.5"
    }
  },
  "cells": [
    {
      "cell_type": "markdown",
      "metadata": {
        "id": "jYKEaHJvairZ"
      },
      "source": [
        "# Data Preparation"
      ]
    },
    {
      "cell_type": "code",
      "metadata": {
        "id": "oc6KCox1XAgq"
      },
      "source": [
        "# Import package\n",
        "import pandas as pd"
      ],
      "execution_count": 2,
      "outputs": []
    },
    {
      "cell_type": "code",
      "metadata": {
        "id": "SSg0JJgea-zo"
      },
      "source": [
        "# Import data\n",
        "buku = pd.read_csv(\"https://github.com/zygmuntz/goodbooks-10k/blob/master/books.csv?raw=true\")"
      ],
      "execution_count": 3,
      "outputs": []
    },
    {
      "cell_type": "markdown",
      "metadata": {
        "id": "EtbWHc6baoSG"
      },
      "source": [
        "# EDA & Completing Missing Values"
      ]
    },
    {
      "cell_type": "code",
      "execution_count": 188,
      "metadata": {},
      "outputs": [
        {
          "output_type": "execute_result",
          "data": {
            "text/plain": [
              "Index(['book_id', 'goodreads_book_id', 'best_book_id', 'work_id',\n",
              "       'books_count', 'isbn', 'isbn13', 'authors', 'original_publication_year',\n",
              "       'original_title', 'title', 'language_code', 'average_rating',\n",
              "       'ratings_count', 'work_ratings_count', 'work_text_reviews_count',\n",
              "       'ratings_1', 'ratings_2', 'ratings_3', 'ratings_4', 'ratings_5',\n",
              "       'image_url', 'small_image_url'],\n",
              "      dtype='object')"
            ]
          },
          "metadata": {},
          "execution_count": 188
        }
      ],
      "source": [
        "books.columns"
      ]
    },
    {
      "cell_type": "code",
      "metadata": {
        "colab": {
          "base_uri": "https://localhost:8080/",
          "height": 317
        },
        "id": "d7ncWl-_sq1A",
        "outputId": "ca5cc841-6589-473e-e7c3-f2f9fba5c7ff"
      },
      "source": [
        "buku.head()"
      ],
      "execution_count": 10,
      "outputs": [
        {
          "output_type": "execute_result",
          "data": {
            "text/plain": [
              "   book_id  goodreads_book_id  best_book_id  work_id  books_count       isbn  \\\n",
              "0        1            2767052       2767052  2792775          272  439023483   \n",
              "1        2                  3             3  4640799          491  439554934   \n",
              "2        3              41865         41865  3212258          226  316015849   \n",
              "3        4               2657          2657  3275794          487   61120081   \n",
              "4        5               4671          4671   245494         1356  743273567   \n",
              "\n",
              "         isbn13                      authors  original_publication_year  \\\n",
              "0  9.780439e+12              Suzanne Collins                     2008.0   \n",
              "1  9.780440e+12  J.K. Rowling, Mary GrandPré                     1997.0   \n",
              "2  9.780316e+12              Stephenie Meyer                     2005.0   \n",
              "3  9.780061e+12                   Harper Lee                     1960.0   \n",
              "4  9.780743e+12          F. Scott Fitzgerald                     1925.0   \n",
              "\n",
              "                             original_title  ... ratings_count  \\\n",
              "0                          The Hunger Games  ...       4780653   \n",
              "1  Harry Potter and the Philosopher's Stone  ...       4602479   \n",
              "2                                  Twilight  ...       3866839   \n",
              "3                     To Kill a Mockingbird  ...       3198671   \n",
              "4                          The Great Gatsby  ...       2683664   \n",
              "\n",
              "  work_ratings_count  work_text_reviews_count  ratings_1  ratings_2  \\\n",
              "0            4942365                   155254      66715     127936   \n",
              "1            4800065                    75867      75504     101676   \n",
              "2            3916824                    95009     456191     436802   \n",
              "3            3340896                    72586      60427     117415   \n",
              "4            2773745                    51992      86236     197621   \n",
              "\n",
              "   ratings_3  ratings_4  ratings_5  \\\n",
              "0     560092    1481305    2706317   \n",
              "1     455024    1156318    3011543   \n",
              "2     793319     875073    1355439   \n",
              "3     446835    1001952    1714267   \n",
              "4     606158     936012     947718   \n",
              "\n",
              "                                           image_url  \\\n",
              "0  https://images.gr-assets.com/books/1447303603m...   \n",
              "1  https://images.gr-assets.com/books/1474154022m...   \n",
              "2  https://images.gr-assets.com/books/1361039443m...   \n",
              "3  https://images.gr-assets.com/books/1361975680m...   \n",
              "4  https://images.gr-assets.com/books/1490528560m...   \n",
              "\n",
              "                                     small_image_url  \n",
              "0  https://images.gr-assets.com/books/1447303603s...  \n",
              "1  https://images.gr-assets.com/books/1474154022s...  \n",
              "2  https://images.gr-assets.com/books/1361039443s...  \n",
              "3  https://images.gr-assets.com/books/1361975680s...  \n",
              "4  https://images.gr-assets.com/books/1490528560s...  \n",
              "\n",
              "[5 rows x 23 columns]"
            ],
            "text/html": "<div>\n<style scoped>\n    .dataframe tbody tr th:only-of-type {\n        vertical-align: middle;\n    }\n\n    .dataframe tbody tr th {\n        vertical-align: top;\n    }\n\n    .dataframe thead th {\n        text-align: right;\n    }\n</style>\n<table border=\"1\" class=\"dataframe\">\n  <thead>\n    <tr style=\"text-align: right;\">\n      <th></th>\n      <th>book_id</th>\n      <th>goodreads_book_id</th>\n      <th>best_book_id</th>\n      <th>work_id</th>\n      <th>books_count</th>\n      <th>isbn</th>\n      <th>isbn13</th>\n      <th>authors</th>\n      <th>original_publication_year</th>\n      <th>original_title</th>\n      <th>...</th>\n      <th>ratings_count</th>\n      <th>work_ratings_count</th>\n      <th>work_text_reviews_count</th>\n      <th>ratings_1</th>\n      <th>ratings_2</th>\n      <th>ratings_3</th>\n      <th>ratings_4</th>\n      <th>ratings_5</th>\n      <th>image_url</th>\n      <th>small_image_url</th>\n    </tr>\n  </thead>\n  <tbody>\n    <tr>\n      <th>0</th>\n      <td>1</td>\n      <td>2767052</td>\n      <td>2767052</td>\n      <td>2792775</td>\n      <td>272</td>\n      <td>439023483</td>\n      <td>9.780439e+12</td>\n      <td>Suzanne Collins</td>\n      <td>2008.0</td>\n      <td>The Hunger Games</td>\n      <td>...</td>\n      <td>4780653</td>\n      <td>4942365</td>\n      <td>155254</td>\n      <td>66715</td>\n      <td>127936</td>\n      <td>560092</td>\n      <td>1481305</td>\n      <td>2706317</td>\n      <td>https://images.gr-assets.com/books/1447303603m...</td>\n      <td>https://images.gr-assets.com/books/1447303603s...</td>\n    </tr>\n    <tr>\n      <th>1</th>\n      <td>2</td>\n      <td>3</td>\n      <td>3</td>\n      <td>4640799</td>\n      <td>491</td>\n      <td>439554934</td>\n      <td>9.780440e+12</td>\n      <td>J.K. Rowling, Mary GrandPré</td>\n      <td>1997.0</td>\n      <td>Harry Potter and the Philosopher's Stone</td>\n      <td>...</td>\n      <td>4602479</td>\n      <td>4800065</td>\n      <td>75867</td>\n      <td>75504</td>\n      <td>101676</td>\n      <td>455024</td>\n      <td>1156318</td>\n      <td>3011543</td>\n      <td>https://images.gr-assets.com/books/1474154022m...</td>\n      <td>https://images.gr-assets.com/books/1474154022s...</td>\n    </tr>\n    <tr>\n      <th>2</th>\n      <td>3</td>\n      <td>41865</td>\n      <td>41865</td>\n      <td>3212258</td>\n      <td>226</td>\n      <td>316015849</td>\n      <td>9.780316e+12</td>\n      <td>Stephenie Meyer</td>\n      <td>2005.0</td>\n      <td>Twilight</td>\n      <td>...</td>\n      <td>3866839</td>\n      <td>3916824</td>\n      <td>95009</td>\n      <td>456191</td>\n      <td>436802</td>\n      <td>793319</td>\n      <td>875073</td>\n      <td>1355439</td>\n      <td>https://images.gr-assets.com/books/1361039443m...</td>\n      <td>https://images.gr-assets.com/books/1361039443s...</td>\n    </tr>\n    <tr>\n      <th>3</th>\n      <td>4</td>\n      <td>2657</td>\n      <td>2657</td>\n      <td>3275794</td>\n      <td>487</td>\n      <td>61120081</td>\n      <td>9.780061e+12</td>\n      <td>Harper Lee</td>\n      <td>1960.0</td>\n      <td>To Kill a Mockingbird</td>\n      <td>...</td>\n      <td>3198671</td>\n      <td>3340896</td>\n      <td>72586</td>\n      <td>60427</td>\n      <td>117415</td>\n      <td>446835</td>\n      <td>1001952</td>\n      <td>1714267</td>\n      <td>https://images.gr-assets.com/books/1361975680m...</td>\n      <td>https://images.gr-assets.com/books/1361975680s...</td>\n    </tr>\n    <tr>\n      <th>4</th>\n      <td>5</td>\n      <td>4671</td>\n      <td>4671</td>\n      <td>245494</td>\n      <td>1356</td>\n      <td>743273567</td>\n      <td>9.780743e+12</td>\n      <td>F. Scott Fitzgerald</td>\n      <td>1925.0</td>\n      <td>The Great Gatsby</td>\n      <td>...</td>\n      <td>2683664</td>\n      <td>2773745</td>\n      <td>51992</td>\n      <td>86236</td>\n      <td>197621</td>\n      <td>606158</td>\n      <td>936012</td>\n      <td>947718</td>\n      <td>https://images.gr-assets.com/books/1490528560m...</td>\n      <td>https://images.gr-assets.com/books/1490528560s...</td>\n    </tr>\n  </tbody>\n</table>\n<p>5 rows × 23 columns</p>\n</div>"
          },
          "metadata": {},
          "execution_count": 10
        }
      ]
    },
    {
      "cell_type": "markdown",
      "metadata": {
        "id": "xRTxWPICr5XE"
      },
      "source": [
        "Cek apakah ada empty/missing value"
      ]
    },
    {
      "cell_type": "code",
      "metadata": {
        "colab": {
          "base_uri": "https://localhost:8080/"
        },
        "id": "WRjnQeZfaqPq",
        "outputId": "0fbaec67-938e-4968-b956-f386e7dd3b79"
      },
      "source": [
        "buku.isna().sum()"
      ],
      "execution_count": null,
      "outputs": [
        {
          "output_type": "execute_result",
          "data": {
            "text/plain": [
              "book_id                         0\n",
              "goodreads_book_id               0\n",
              "best_book_id                    0\n",
              "work_id                         0\n",
              "books_count                     0\n",
              "isbn                          700\n",
              "isbn13                        585\n",
              "authors                         0\n",
              "original_publication_year      21\n",
              "original_title                585\n",
              "title                           0\n",
              "language_code                1084\n",
              "average_rating                  0\n",
              "ratings_count                   0\n",
              "work_ratings_count              0\n",
              "work_text_reviews_count         0\n",
              "ratings_1                       0\n",
              "ratings_2                       0\n",
              "ratings_3                       0\n",
              "ratings_4                       0\n",
              "ratings_5                       0\n",
              "image_url                       0\n",
              "small_image_url                 0\n",
              "dtype: int64"
            ]
          },
          "metadata": {
            "tags": []
          },
          "execution_count": 6
        }
      ]
    },
    {
      "cell_type": "markdown",
      "metadata": {
        "id": "T91Sjn9P2raJ"
      },
      "source": [
        "## Melengkapi original_publication_year"
      ]
    },
    {
      "cell_type": "code",
      "metadata": {
        "colab": {
          "base_uri": "https://localhost:8080/"
        },
        "id": "fVTLPzN3rdVl",
        "outputId": "b5c2cc61-ba49-488a-98f5-7537b361fc63"
      },
      "source": [
        "missing_pubyear_id = buku[buku['original_publication_year'].isna()]['goodreads_book_id'].tolist()\n",
        "missing_pubyear_id"
      ],
      "execution_count": null,
      "outputs": [
        {
          "output_type": "execute_result",
          "data": {
            "text/plain": [
              "[3609760,\n",
              " 90072,\n",
              " 856917,\n",
              " 36,\n",
              " 8724779,\n",
              " 349254,\n",
              " 9832370,\n",
              " 5171894,\n",
              " 17733861,\n",
              " 1044141,\n",
              " 9748274,\n",
              " 48811,\n",
              " 9528186,\n",
              " 809849,\n",
              " 765148,\n",
              " 197436,\n",
              " 351023,\n",
              " 11318,\n",
              " 6054190,\n",
              " 1056627,\n",
              " 6614886]"
            ]
          },
          "metadata": {
            "tags": []
          },
          "execution_count": 6
        }
      ]
    },
    {
      "cell_type": "code",
      "metadata": {
        "id": "9crv3yXOv71K"
      },
      "source": [
        "import requests\n",
        "from bs4 import BeautifulSoup\n",
        "import re"
      ],
      "execution_count": null,
      "outputs": []
    },
    {
      "cell_type": "markdown",
      "metadata": {
        "id": "_ukFFEh23ix-"
      },
      "source": [
        "Ambil aja dari Goodreads, tapi enggak 100% yakin itu *original* publication year-nya. Gapapa lah."
      ]
    },
    {
      "cell_type": "code",
      "metadata": {
        "id": "vmSnaEMmveWD"
      },
      "source": [
        "def get_pub_year(i):\n",
        "    url = f\"https://www.goodreads.com/book/show/{i}\"\n",
        "    html_page = requests.get(url)\n",
        "    soup = BeautifulSoup(html_page.content, 'html.parser')\n",
        "    try:\n",
        "        pub_text = soup.select('div.row')[1].text.strip()\n",
        "        pub_year = int(re.search(r'\\d{4}', pub_text).group(0))\n",
        "    except:\n",
        "        pub_year = ''\n",
        "\n",
        "    return pub_year"
      ],
      "execution_count": null,
      "outputs": []
    },
    {
      "cell_type": "code",
      "metadata": {
        "colab": {
          "base_uri": "https://localhost:8080/"
        },
        "id": "sA2v8X9ex9lq",
        "outputId": "9c92cfcc-32db-460d-f403-40a4d86d876f"
      },
      "source": [
        "pub_year = []\n",
        "for id in missing_pubyear_id:\n",
        "  pub_year.append(get_pub_year(id))\n",
        "pub_year"
      ],
      "execution_count": null,
      "outputs": [
        {
          "output_type": "execute_result",
          "data": {
            "text/plain": [
              "[2008,\n",
              " 1998,\n",
              " 2006,\n",
              " 2003,\n",
              " 2009,\n",
              " 2003,\n",
              " 2010,\n",
              " 2009,\n",
              " 2013,\n",
              " 2004,\n",
              " 2010,\n",
              " 2006,\n",
              " 2010,\n",
              " 2007,\n",
              " 2001,\n",
              " 2000,\n",
              " 2004,\n",
              " 1988,\n",
              " 2009,\n",
              " 2007,\n",
              " 2009]"
            ]
          },
          "metadata": {
            "tags": []
          },
          "execution_count": 9
        }
      ]
    },
    {
      "cell_type": "code",
      "metadata": {
        "colab": {
          "base_uri": "https://localhost:8080/"
        },
        "id": "LvOUUvwjy_bU",
        "outputId": "3a04569d-0eb5-488f-c9b2-ad572d8a0b31"
      },
      "source": [
        "buku.loc[buku['original_publication_year'].isna(), 'original_publication_year'] = pub_year\n",
        "buku['original_publication_year'].isna().any()"
      ],
      "execution_count": null,
      "outputs": [
        {
          "output_type": "execute_result",
          "data": {
            "text/plain": [
              "False"
            ]
          },
          "metadata": {
            "tags": []
          },
          "execution_count": 10
        }
      ]
    },
    {
      "cell_type": "markdown",
      "metadata": {
        "id": "Je1DfIJK23AV"
      },
      "source": [
        "## Melengkapi original title (dan isbn13?)"
      ]
    },
    {
      "cell_type": "code",
      "metadata": {
        "colab": {
          "base_uri": "https://localhost:8080/"
        },
        "id": "UiyDzY4f2n-7",
        "outputId": "7698c64c-1824-4972-f5c2-9d4f5d6b7538"
      },
      "source": [
        "buku.isna().sum()"
      ],
      "execution_count": null,
      "outputs": [
        {
          "output_type": "execute_result",
          "data": {
            "text/plain": [
              "book_id                         0\n",
              "goodreads_book_id               0\n",
              "best_book_id                    0\n",
              "work_id                         0\n",
              "books_count                     0\n",
              "isbn                          700\n",
              "isbn13                        585\n",
              "authors                         0\n",
              "original_publication_year       0\n",
              "original_title                585\n",
              "title                           0\n",
              "language_code                1084\n",
              "average_rating                  0\n",
              "ratings_count                   0\n",
              "work_ratings_count              0\n",
              "work_text_reviews_count         0\n",
              "ratings_1                       0\n",
              "ratings_2                       0\n",
              "ratings_3                       0\n",
              "ratings_4                       0\n",
              "ratings_5                       0\n",
              "image_url                       0\n",
              "small_image_url                 0\n",
              "dtype: int64"
            ]
          },
          "metadata": {
            "tags": []
          },
          "execution_count": 11
        }
      ]
    },
    {
      "cell_type": "markdown",
      "metadata": {
        "id": "YI5I1vyr2-DD"
      },
      "source": [
        "Jumlah missing values `original_title` dan `isbn` sama, jadi mungkin berasal dari rows yang sama pula."
      ]
    },
    {
      "cell_type": "code",
      "metadata": {
        "colab": {
          "base_uri": "https://localhost:8080/"
        },
        "id": "5IiyZlW329PS",
        "outputId": "e2ac4d7e-9559-4ca5-fcd7-a244352e8a58"
      },
      "source": [
        "missing_ori_title = buku.loc[buku['original_title'].isna(), :].goodreads_book_id\n",
        "missing_ori_title"
      ],
      "execution_count": null,
      "outputs": [
        {
          "output_type": "execute_result",
          "data": {
            "text/plain": [
              "74        227443\n",
              "142     18143977\n",
              "209       345627\n",
              "214      9969571\n",
              "256        13023\n",
              "          ...   \n",
              "9942      653559\n",
              "9944    18943009\n",
              "9956     6332526\n",
              "9957     7494887\n",
              "9970    12602078\n",
              "Name: goodreads_book_id, Length: 585, dtype: int64"
            ]
          },
          "metadata": {
            "tags": []
          },
          "execution_count": 12
        }
      ]
    },
    {
      "cell_type": "code",
      "metadata": {
        "colab": {
          "base_uri": "https://localhost:8080/"
        },
        "id": "iWTG9P_E33Jk",
        "outputId": "e82039a5-846a-4933-b91c-f29455af713a"
      },
      "source": [
        "missing_isbn13 = buku.loc[buku['isbn13'].isna(), :].goodreads_book_id\n",
        "missing_isbn13"
      ],
      "execution_count": null,
      "outputs": [
        {
          "output_type": "execute_result",
          "data": {
            "text/plain": [
              "105      9418327\n",
              "120         7604\n",
              "161        49552\n",
              "187     10664113\n",
              "202     11505797\n",
              "          ...   \n",
              "9928     6614886\n",
              "9944    18943009\n",
              "9958    13178410\n",
              "9966     5295735\n",
              "9970    12602078\n",
              "Name: goodreads_book_id, Length: 585, dtype: int64"
            ]
          },
          "metadata": {
            "tags": []
          },
          "execution_count": 13
        }
      ]
    },
    {
      "cell_type": "markdown",
      "metadata": {
        "id": "GGVShRSI38Hl"
      },
      "source": [
        "Ouh, ternyata lumayan beda. Oke, selesaikan terpisah."
      ]
    },
    {
      "cell_type": "code",
      "metadata": {
        "id": "wSK_Mv8j4aSq"
      },
      "source": [
        "missing_ori_title = missing_ori_title.to_list()"
      ],
      "execution_count": null,
      "outputs": []
    },
    {
      "cell_type": "code",
      "metadata": {
        "id": "gSb7Y-474lri"
      },
      "source": [
        "def get_ori_title(i):\n",
        "  url = f\"https://www.goodreads.com/book/show/{i}\"\n",
        "  headers = {'User-Agent': 'Mozilla/5.0 (Macintosh; Intel Mac OS X 10_11_5) AppleWebKit/537.36 (KHTML, like Gecko) Chrome/50.0.2661.102 Safari/537.36'}\n",
        "  html_page = requests.Session().get(url, headers=headers)\n",
        "  soup = BeautifulSoup(html_page.content, 'html.parser')\n",
        "  try:\n",
        "      ori_title = soup.select('.infoBoxRowItem')[0].text.strip()\n",
        "  except:\n",
        "      ori_title = None\n",
        "      \n",
        "  return ori_title"
      ],
      "execution_count": null,
      "outputs": []
    },
    {
      "cell_type": "markdown",
      "metadata": {
        "id": "sRltndOf5z2Q"
      },
      "source": [
        "585 kebanyakan? Saatnya threading!"
      ]
    },
    {
      "cell_type": "code",
      "metadata": {
        "id": "_kv3frhH5yCy"
      },
      "source": [
        "import concurrent.futures\n",
        "import time\n",
        "from tqdm import tqdm"
      ],
      "execution_count": null,
      "outputs": []
    },
    {
      "cell_type": "code",
      "metadata": {
        "colab": {
          "background_save": true,
          "base_uri": "https://localhost:8080/"
        },
        "id": "ULsPFcUF5ZUi",
        "outputId": "ca80522c-1dc1-47a2-f935-782f226fcdd3"
      },
      "source": [
        "while buku['original_title'].isna().sum() > 0:\n",
        "  missing_ori_title = buku.loc[buku['original_title'].isna(), :].goodreads_book_id.to_list()\n",
        "  found_ori_title = ['' for x in missing_ori_title]\n",
        "\n",
        "  with concurrent.futures.ThreadPoolExecutor() as executor:\n",
        "    # with concurrent.futures.ThreadPoolExecutor() as executor:\n",
        "    #   future = executor.map(get_songs, alphabets)\n",
        "    #   songs_kapanlagi = [song for f in future for song in f]\n",
        "\n",
        "    future = executor.map(get_ori_title, missing_ori_title)\n",
        "    for i,f in enumerate(tqdm(future, total=len(missing_ori_title))):\n",
        "      found_ori_title[i] = f\n",
        "      time.sleep(1e-3)\n",
        "\n",
        "  buku.loc[buku['original_title'].isna(), 'original_title'] = found_ori_title\n",
        "\n",
        "  print(len(found_ori_title))\n",
        "  print(buku['original_title'].isna().sum())"
      ],
      "execution_count": null,
      "outputs": [
        {
          "output_type": "stream",
          "text": [
            "100%|██████████| 585/585 [03:06<00:00,  3.13it/s]\n",
            "  0%|          | 0/517 [00:00<?, ?it/s]"
          ],
          "name": "stderr"
        },
        {
          "output_type": "stream",
          "text": [
            "585\n",
            "517\n"
          ],
          "name": "stdout"
        },
        {
          "output_type": "stream",
          "text": [
            "100%|██████████| 517/517 [01:01<00:00,  8.34it/s]\n",
            "  0%|          | 0/496 [00:00<?, ?it/s]"
          ],
          "name": "stderr"
        },
        {
          "output_type": "stream",
          "text": [
            "517\n",
            "496\n"
          ],
          "name": "stdout"
        },
        {
          "output_type": "stream",
          "text": [
            "100%|██████████| 496/496 [01:14<00:00,  6.70it/s]\n",
            "  0%|          | 0/471 [00:00<?, ?it/s]"
          ],
          "name": "stderr"
        },
        {
          "output_type": "stream",
          "text": [
            "496\n",
            "471\n"
          ],
          "name": "stdout"
        },
        {
          "output_type": "stream",
          "text": [
            "100%|██████████| 471/471 [01:23<00:00,  5.66it/s]\n",
            "  0%|          | 0/443 [00:00<?, ?it/s]"
          ],
          "name": "stderr"
        },
        {
          "output_type": "stream",
          "text": [
            "471\n",
            "443\n"
          ],
          "name": "stdout"
        },
        {
          "output_type": "stream",
          "text": [
            "100%|██████████| 443/443 [01:22<00:00,  5.34it/s]\n",
            "  0%|          | 0/414 [00:00<?, ?it/s]"
          ],
          "name": "stderr"
        },
        {
          "output_type": "stream",
          "text": [
            "443\n",
            "414\n"
          ],
          "name": "stdout"
        },
        {
          "output_type": "stream",
          "text": [
            "100%|██████████| 414/414 [00:48<00:00,  8.57it/s]\n",
            "  0%|          | 0/400 [00:00<?, ?it/s]"
          ],
          "name": "stderr"
        },
        {
          "output_type": "stream",
          "text": [
            "414\n",
            "400\n"
          ],
          "name": "stdout"
        },
        {
          "output_type": "stream",
          "text": [
            "100%|██████████| 400/400 [00:33<00:00, 12.03it/s]\n",
            "  0%|          | 0/390 [00:00<?, ?it/s]"
          ],
          "name": "stderr"
        },
        {
          "output_type": "stream",
          "text": [
            "400\n",
            "390\n"
          ],
          "name": "stdout"
        },
        {
          "output_type": "stream",
          "text": [
            "100%|██████████| 390/390 [01:11<00:00,  5.44it/s]\n",
            "  0%|          | 0/366 [00:00<?, ?it/s]"
          ],
          "name": "stderr"
        },
        {
          "output_type": "stream",
          "text": [
            "390\n",
            "366\n"
          ],
          "name": "stdout"
        },
        {
          "output_type": "stream",
          "text": [
            "100%|██████████| 366/366 [00:48<00:00,  7.52it/s]\n",
            "  0%|          | 0/351 [00:00<?, ?it/s]"
          ],
          "name": "stderr"
        },
        {
          "output_type": "stream",
          "text": [
            "366\n",
            "351\n"
          ],
          "name": "stdout"
        },
        {
          "output_type": "stream",
          "text": [
            "100%|██████████| 351/351 [00:43<00:00,  8.13it/s]\n",
            "  0%|          | 0/336 [00:00<?, ?it/s]"
          ],
          "name": "stderr"
        },
        {
          "output_type": "stream",
          "text": [
            "351\n",
            "336\n"
          ],
          "name": "stdout"
        },
        {
          "output_type": "stream",
          "text": [
            "100%|██████████| 336/336 [00:45<00:00,  7.46it/s]\n",
            "  0%|          | 0/321 [00:00<?, ?it/s]"
          ],
          "name": "stderr"
        },
        {
          "output_type": "stream",
          "text": [
            "336\n",
            "321\n"
          ],
          "name": "stdout"
        },
        {
          "output_type": "stream",
          "text": [
            "100%|██████████| 321/321 [00:47<00:00,  6.75it/s]\n",
            "  0%|          | 0/306 [00:00<?, ?it/s]"
          ],
          "name": "stderr"
        },
        {
          "output_type": "stream",
          "text": [
            "321\n",
            "306\n"
          ],
          "name": "stdout"
        },
        {
          "output_type": "stream",
          "text": [
            "100%|██████████| 306/306 [00:40<00:00,  7.49it/s]\n",
            "  0%|          | 0/293 [00:00<?, ?it/s]"
          ],
          "name": "stderr"
        },
        {
          "output_type": "stream",
          "text": [
            "306\n",
            "293\n"
          ],
          "name": "stdout"
        },
        {
          "output_type": "stream",
          "text": [
            "100%|██████████| 293/293 [00:45<00:00,  6.46it/s]\n",
            "  0%|          | 0/277 [00:00<?, ?it/s]"
          ],
          "name": "stderr"
        },
        {
          "output_type": "stream",
          "text": [
            "293\n",
            "277\n"
          ],
          "name": "stdout"
        },
        {
          "output_type": "stream",
          "text": [
            "100%|██████████| 277/277 [00:31<00:00,  8.68it/s]\n",
            "  0%|          | 0/267 [00:00<?, ?it/s]"
          ],
          "name": "stderr"
        },
        {
          "output_type": "stream",
          "text": [
            "277\n",
            "267\n"
          ],
          "name": "stdout"
        },
        {
          "output_type": "stream",
          "text": [
            "100%|██████████| 267/267 [00:28<00:00,  9.39it/s]\n",
            "  0%|          | 0/258 [00:00<?, ?it/s]"
          ],
          "name": "stderr"
        },
        {
          "output_type": "stream",
          "text": [
            "267\n",
            "258\n"
          ],
          "name": "stdout"
        },
        {
          "output_type": "stream",
          "text": [
            "100%|██████████| 258/258 [00:31<00:00,  8.24it/s]\n",
            "  0%|          | 0/248 [00:00<?, ?it/s]"
          ],
          "name": "stderr"
        },
        {
          "output_type": "stream",
          "text": [
            "258\n",
            "248\n"
          ],
          "name": "stdout"
        },
        {
          "output_type": "stream",
          "text": [
            "100%|██████████| 248/248 [00:33<00:00,  7.41it/s]\n",
            "  0%|          | 0/237 [00:00<?, ?it/s]"
          ],
          "name": "stderr"
        },
        {
          "output_type": "stream",
          "text": [
            "248\n",
            "237\n"
          ],
          "name": "stdout"
        },
        {
          "output_type": "stream",
          "text": [
            "100%|██████████| 237/237 [00:34<00:00,  6.80it/s]\n",
            "  0%|          | 0/225 [00:00<?, ?it/s]"
          ],
          "name": "stderr"
        },
        {
          "output_type": "stream",
          "text": [
            "237\n",
            "225\n"
          ],
          "name": "stdout"
        },
        {
          "output_type": "stream",
          "text": [
            "100%|██████████| 225/225 [00:32<00:00,  7.03it/s]\n",
            "  0%|          | 0/214 [00:00<?, ?it/s]"
          ],
          "name": "stderr"
        },
        {
          "output_type": "stream",
          "text": [
            "225\n",
            "214\n"
          ],
          "name": "stdout"
        },
        {
          "output_type": "stream",
          "text": [
            "100%|██████████| 214/214 [00:40<00:00,  5.25it/s]\n",
            "  0%|          | 0/200 [00:00<?, ?it/s]"
          ],
          "name": "stderr"
        },
        {
          "output_type": "stream",
          "text": [
            "214\n",
            "200\n"
          ],
          "name": "stdout"
        },
        {
          "output_type": "stream",
          "text": [
            "100%|██████████| 200/200 [00:42<00:00,  4.72it/s]\n",
            "  0%|          | 0/186 [00:00<?, ?it/s]"
          ],
          "name": "stderr"
        },
        {
          "output_type": "stream",
          "text": [
            "200\n",
            "186\n"
          ],
          "name": "stdout"
        },
        {
          "output_type": "stream",
          "text": [
            "100%|██████████| 186/186 [00:23<00:00,  7.87it/s]\n",
            "  0%|          | 0/179 [00:00<?, ?it/s]"
          ],
          "name": "stderr"
        },
        {
          "output_type": "stream",
          "text": [
            "186\n",
            "179\n"
          ],
          "name": "stdout"
        },
        {
          "output_type": "stream",
          "text": [
            "100%|██████████| 179/179 [00:21<00:00,  8.33it/s]\n",
            "  0%|          | 0/172 [00:00<?, ?it/s]"
          ],
          "name": "stderr"
        },
        {
          "output_type": "stream",
          "text": [
            "179\n",
            "172\n"
          ],
          "name": "stdout"
        },
        {
          "output_type": "stream",
          "text": [
            "100%|██████████| 172/172 [00:23<00:00,  7.31it/s]\n",
            "  0%|          | 0/164 [00:00<?, ?it/s]"
          ],
          "name": "stderr"
        },
        {
          "output_type": "stream",
          "text": [
            "172\n",
            "164\n"
          ],
          "name": "stdout"
        },
        {
          "output_type": "stream",
          "text": [
            "100%|██████████| 164/164 [00:35<00:00,  4.57it/s]\n",
            "  0%|          | 0/151 [00:00<?, ?it/s]"
          ],
          "name": "stderr"
        },
        {
          "output_type": "stream",
          "text": [
            "164\n",
            "151\n"
          ],
          "name": "stdout"
        },
        {
          "output_type": "stream",
          "text": [
            "100%|██████████| 151/151 [00:30<00:00,  4.97it/s]\n",
            "  0%|          | 0/141 [00:00<?, ?it/s]"
          ],
          "name": "stderr"
        },
        {
          "output_type": "stream",
          "text": [
            "151\n",
            "141\n"
          ],
          "name": "stdout"
        },
        {
          "output_type": "stream",
          "text": [
            "100%|██████████| 141/141 [00:16<00:00,  8.56it/s]\n",
            "  0%|          | 0/136 [00:00<?, ?it/s]"
          ],
          "name": "stderr"
        },
        {
          "output_type": "stream",
          "text": [
            "141\n",
            "136\n"
          ],
          "name": "stdout"
        },
        {
          "output_type": "stream",
          "text": [
            "100%|██████████| 136/136 [00:21<00:00,  6.23it/s]\n",
            "  0%|          | 0/129 [00:00<?, ?it/s]"
          ],
          "name": "stderr"
        },
        {
          "output_type": "stream",
          "text": [
            "136\n",
            "129\n"
          ],
          "name": "stdout"
        },
        {
          "output_type": "stream",
          "text": [
            "100%|██████████| 129/129 [00:32<00:00,  3.93it/s]\n",
            "  0%|          | 0/118 [00:00<?, ?it/s]"
          ],
          "name": "stderr"
        },
        {
          "output_type": "stream",
          "text": [
            "129\n",
            "118\n"
          ],
          "name": "stdout"
        },
        {
          "output_type": "stream",
          "text": [
            "100%|██████████| 118/118 [00:22<00:00,  5.17it/s]\n",
            "  0%|          | 0/110 [00:00<?, ?it/s]"
          ],
          "name": "stderr"
        },
        {
          "output_type": "stream",
          "text": [
            "118\n",
            "110\n"
          ],
          "name": "stdout"
        },
        {
          "output_type": "stream",
          "text": [
            "100%|██████████| 110/110 [00:23<00:00,  4.68it/s]\n",
            "  0%|          | 0/102 [00:00<?, ?it/s]"
          ],
          "name": "stderr"
        },
        {
          "output_type": "stream",
          "text": [
            "110\n",
            "102\n"
          ],
          "name": "stdout"
        },
        {
          "output_type": "stream",
          "text": [
            "100%|██████████| 102/102 [00:25<00:00,  3.99it/s]\n",
            "  0%|          | 0/93 [00:00<?, ?it/s]"
          ],
          "name": "stderr"
        },
        {
          "output_type": "stream",
          "text": [
            "102\n",
            "93\n"
          ],
          "name": "stdout"
        },
        {
          "output_type": "stream",
          "text": [
            "100%|██████████| 93/93 [00:11<00:00,  7.97it/s]\n",
            "  0%|          | 0/90 [00:00<?, ?it/s]"
          ],
          "name": "stderr"
        },
        {
          "output_type": "stream",
          "text": [
            "93\n",
            "90\n"
          ],
          "name": "stdout"
        },
        {
          "output_type": "stream",
          "text": [
            "100%|██████████| 90/90 [00:07<00:00, 11.34it/s]\n",
            "  0%|          | 0/89 [00:00<?, ?it/s]"
          ],
          "name": "stderr"
        },
        {
          "output_type": "stream",
          "text": [
            "90\n",
            "89\n"
          ],
          "name": "stdout"
        },
        {
          "output_type": "stream",
          "text": [
            "100%|██████████| 89/89 [00:18<00:00,  4.70it/s]\n",
            "  0%|          | 0/83 [00:00<?, ?it/s]"
          ],
          "name": "stderr"
        },
        {
          "output_type": "stream",
          "text": [
            "89\n",
            "83\n"
          ],
          "name": "stdout"
        },
        {
          "output_type": "stream",
          "text": [
            "100%|██████████| 83/83 [00:30<00:00,  2.71it/s]\n",
            "  0%|          | 0/72 [00:00<?, ?it/s]"
          ],
          "name": "stderr"
        },
        {
          "output_type": "stream",
          "text": [
            "83\n",
            "72\n"
          ],
          "name": "stdout"
        },
        {
          "output_type": "stream",
          "text": [
            "100%|██████████| 72/72 [00:15<00:00,  4.70it/s]\n",
            "  0%|          | 0/67 [00:00<?, ?it/s]"
          ],
          "name": "stderr"
        },
        {
          "output_type": "stream",
          "text": [
            "72\n",
            "67\n"
          ],
          "name": "stdout"
        },
        {
          "output_type": "stream",
          "text": [
            "100%|██████████| 67/67 [00:13<00:00,  5.02it/s]\n",
            "  0%|          | 0/63 [00:00<?, ?it/s]"
          ],
          "name": "stderr"
        },
        {
          "output_type": "stream",
          "text": [
            "67\n",
            "63\n"
          ],
          "name": "stdout"
        },
        {
          "output_type": "stream",
          "text": [
            "100%|██████████| 63/63 [00:09<00:00,  6.47it/s]\n",
            "  0%|          | 0/60 [00:00<?, ?it/s]"
          ],
          "name": "stderr"
        },
        {
          "output_type": "stream",
          "text": [
            "63\n",
            "60\n"
          ],
          "name": "stdout"
        },
        {
          "output_type": "stream",
          "text": [
            "100%|██████████| 60/60 [00:06<00:00,  9.38it/s]\n",
            "  0%|          | 0/58 [00:00<?, ?it/s]"
          ],
          "name": "stderr"
        },
        {
          "output_type": "stream",
          "text": [
            "60\n",
            "58\n"
          ],
          "name": "stdout"
        },
        {
          "output_type": "stream",
          "text": [
            "100%|██████████| 58/58 [00:08<00:00,  7.12it/s]\n",
            "  0%|          | 0/56 [00:00<?, ?it/s]"
          ],
          "name": "stderr"
        },
        {
          "output_type": "stream",
          "text": [
            "58\n",
            "56\n"
          ],
          "name": "stdout"
        },
        {
          "output_type": "stream",
          "text": [
            "100%|██████████| 56/56 [00:06<00:00,  8.07it/s]\n",
            "  0%|          | 0/55 [00:00<?, ?it/s]"
          ],
          "name": "stderr"
        },
        {
          "output_type": "stream",
          "text": [
            "56\n",
            "55\n"
          ],
          "name": "stdout"
        },
        {
          "output_type": "stream",
          "text": [
            "100%|██████████| 55/55 [00:02<00:00, 26.51it/s]\n",
            "  0%|          | 0/55 [00:00<?, ?it/s]"
          ],
          "name": "stderr"
        },
        {
          "output_type": "stream",
          "text": [
            "55\n",
            "55\n"
          ],
          "name": "stdout"
        },
        {
          "output_type": "stream",
          "text": [
            "100%|██████████| 55/55 [00:07<00:00,  7.01it/s]\n",
            "  0%|          | 0/54 [00:00<?, ?it/s]"
          ],
          "name": "stderr"
        },
        {
          "output_type": "stream",
          "text": [
            "55\n",
            "54\n"
          ],
          "name": "stdout"
        },
        {
          "output_type": "stream",
          "text": [
            "100%|██████████| 54/54 [00:08<00:00,  6.05it/s]\n",
            "  0%|          | 0/52 [00:00<?, ?it/s]"
          ],
          "name": "stderr"
        },
        {
          "output_type": "stream",
          "text": [
            "54\n",
            "52\n"
          ],
          "name": "stdout"
        },
        {
          "output_type": "stream",
          "text": [
            "100%|██████████| 52/52 [00:15<00:00,  3.28it/s]\n",
            "  0%|          | 0/47 [00:00<?, ?it/s]"
          ],
          "name": "stderr"
        },
        {
          "output_type": "stream",
          "text": [
            "52\n",
            "47\n"
          ],
          "name": "stdout"
        },
        {
          "output_type": "stream",
          "text": [
            "100%|██████████| 47/47 [00:12<00:00,  3.82it/s]\n",
            "  0%|          | 0/43 [00:00<?, ?it/s]"
          ],
          "name": "stderr"
        },
        {
          "output_type": "stream",
          "text": [
            "47\n",
            "43\n"
          ],
          "name": "stdout"
        },
        {
          "output_type": "stream",
          "text": [
            "100%|██████████| 43/43 [00:07<00:00,  5.51it/s]\n",
            "  0%|          | 0/41 [00:00<?, ?it/s]"
          ],
          "name": "stderr"
        },
        {
          "output_type": "stream",
          "text": [
            "43\n",
            "41\n"
          ],
          "name": "stdout"
        },
        {
          "output_type": "stream",
          "text": [
            "100%|██████████| 41/41 [00:10<00:00,  4.08it/s]\n",
            "  0%|          | 0/38 [00:00<?, ?it/s]"
          ],
          "name": "stderr"
        },
        {
          "output_type": "stream",
          "text": [
            "41\n",
            "38\n"
          ],
          "name": "stdout"
        },
        {
          "output_type": "stream",
          "text": [
            "100%|██████████| 38/38 [00:11<00:00,  3.44it/s]\n",
            "  0%|          | 0/35 [00:00<?, ?it/s]"
          ],
          "name": "stderr"
        },
        {
          "output_type": "stream",
          "text": [
            "38\n",
            "35\n"
          ],
          "name": "stdout"
        },
        {
          "output_type": "stream",
          "text": [
            "100%|██████████| 35/35 [00:09<00:00,  3.74it/s]\n",
            "  0%|          | 0/33 [00:00<?, ?it/s]"
          ],
          "name": "stderr"
        },
        {
          "output_type": "stream",
          "text": [
            "35\n",
            "33\n"
          ],
          "name": "stdout"
        },
        {
          "output_type": "stream",
          "text": [
            "100%|██████████| 33/33 [00:05<00:00,  5.70it/s]\n",
            "  0%|          | 0/32 [00:00<?, ?it/s]"
          ],
          "name": "stderr"
        },
        {
          "output_type": "stream",
          "text": [
            "33\n",
            "32\n"
          ],
          "name": "stdout"
        },
        {
          "output_type": "stream",
          "text": [
            "100%|██████████| 32/32 [00:01<00:00, 23.51it/s]\n",
            "  0%|          | 0/32 [00:00<?, ?it/s]"
          ],
          "name": "stderr"
        },
        {
          "output_type": "stream",
          "text": [
            "32\n",
            "32\n"
          ],
          "name": "stdout"
        },
        {
          "output_type": "stream",
          "text": [
            "100%|██████████| 32/32 [00:01<00:00, 24.03it/s]\n",
            "  0%|          | 0/32 [00:00<?, ?it/s]"
          ],
          "name": "stderr"
        },
        {
          "output_type": "stream",
          "text": [
            "32\n",
            "32\n"
          ],
          "name": "stdout"
        },
        {
          "output_type": "stream",
          "text": [
            "100%|██████████| 32/32 [00:01<00:00, 23.90it/s]\n",
            "  0%|          | 0/32 [00:00<?, ?it/s]"
          ],
          "name": "stderr"
        },
        {
          "output_type": "stream",
          "text": [
            "32\n",
            "32\n"
          ],
          "name": "stdout"
        },
        {
          "output_type": "stream",
          "text": [
            "100%|██████████| 32/32 [00:07<00:00,  4.02it/s]\n",
            "  0%|          | 0/30 [00:00<?, ?it/s]"
          ],
          "name": "stderr"
        },
        {
          "output_type": "stream",
          "text": [
            "32\n",
            "30\n"
          ],
          "name": "stdout"
        },
        {
          "output_type": "stream",
          "text": [
            "100%|██████████| 30/30 [00:05<00:00,  5.93it/s]\n",
            "  0%|          | 0/29 [00:00<?, ?it/s]"
          ],
          "name": "stderr"
        },
        {
          "output_type": "stream",
          "text": [
            "30\n",
            "29\n"
          ],
          "name": "stdout"
        },
        {
          "output_type": "stream",
          "text": [
            "100%|██████████| 29/29 [00:01<00:00, 27.50it/s]\n",
            "  0%|          | 0/29 [00:00<?, ?it/s]"
          ],
          "name": "stderr"
        },
        {
          "output_type": "stream",
          "text": [
            "29\n",
            "29\n"
          ],
          "name": "stdout"
        },
        {
          "output_type": "stream",
          "text": [
            "100%|██████████| 29/29 [00:08<00:00,  3.51it/s]\n",
            "  0%|          | 0/27 [00:00<?, ?it/s]"
          ],
          "name": "stderr"
        },
        {
          "output_type": "stream",
          "text": [
            "29\n",
            "27\n"
          ],
          "name": "stdout"
        },
        {
          "output_type": "stream",
          "text": [
            "100%|██████████| 27/27 [00:01<00:00, 25.59it/s]\n",
            "  0%|          | 0/27 [00:00<?, ?it/s]"
          ],
          "name": "stderr"
        },
        {
          "output_type": "stream",
          "text": [
            "27\n",
            "27\n"
          ],
          "name": "stdout"
        },
        {
          "output_type": "stream",
          "text": [
            "100%|██████████| 27/27 [00:08<00:00,  3.25it/s]\n",
            "  0%|          | 0/25 [00:00<?, ?it/s]"
          ],
          "name": "stderr"
        },
        {
          "output_type": "stream",
          "text": [
            "27\n",
            "25\n"
          ],
          "name": "stdout"
        },
        {
          "output_type": "stream",
          "text": [
            "100%|██████████| 25/25 [00:05<00:00,  4.80it/s]\n",
            "  0%|          | 0/24 [00:00<?, ?it/s]"
          ],
          "name": "stderr"
        },
        {
          "output_type": "stream",
          "text": [
            "25\n",
            "24\n"
          ],
          "name": "stdout"
        },
        {
          "output_type": "stream",
          "text": [
            "100%|██████████| 24/24 [00:09<00:00,  2.49it/s]\n",
            "  0%|          | 0/21 [00:00<?, ?it/s]"
          ],
          "name": "stderr"
        },
        {
          "output_type": "stream",
          "text": [
            "24\n",
            "21\n"
          ],
          "name": "stdout"
        },
        {
          "output_type": "stream",
          "text": [
            "100%|██████████| 21/21 [00:07<00:00,  2.73it/s]\n",
            "  0%|          | 0/19 [00:00<?, ?it/s]"
          ],
          "name": "stderr"
        },
        {
          "output_type": "stream",
          "text": [
            "21\n",
            "19\n"
          ],
          "name": "stdout"
        },
        {
          "output_type": "stream",
          "text": [
            "100%|██████████| 19/19 [00:05<00:00,  3.54it/s]\n",
            "  0%|          | 0/18 [00:00<?, ?it/s]"
          ],
          "name": "stderr"
        },
        {
          "output_type": "stream",
          "text": [
            "19\n",
            "18\n"
          ],
          "name": "stdout"
        },
        {
          "output_type": "stream",
          "text": [
            "100%|██████████| 18/18 [00:00<00:00, 25.13it/s]\n",
            "  0%|          | 0/18 [00:00<?, ?it/s]"
          ],
          "name": "stderr"
        },
        {
          "output_type": "stream",
          "text": [
            "18\n",
            "18\n"
          ],
          "name": "stdout"
        },
        {
          "output_type": "stream",
          "text": [
            "100%|██████████| 18/18 [00:00<00:00, 24.65it/s]\n",
            "  0%|          | 0/18 [00:00<?, ?it/s]"
          ],
          "name": "stderr"
        },
        {
          "output_type": "stream",
          "text": [
            "18\n",
            "18\n"
          ],
          "name": "stdout"
        },
        {
          "output_type": "stream",
          "text": [
            "100%|██████████| 18/18 [00:00<00:00, 25.78it/s]\n",
            "  0%|          | 0/18 [00:00<?, ?it/s]"
          ],
          "name": "stderr"
        },
        {
          "output_type": "stream",
          "text": [
            "18\n",
            "18\n"
          ],
          "name": "stdout"
        },
        {
          "output_type": "stream",
          "text": [
            "100%|██████████| 18/18 [00:06<00:00,  2.89it/s]\n",
            "  0%|          | 0/17 [00:00<?, ?it/s]"
          ],
          "name": "stderr"
        },
        {
          "output_type": "stream",
          "text": [
            "18\n",
            "17\n"
          ],
          "name": "stdout"
        },
        {
          "output_type": "stream",
          "text": [
            "100%|██████████| 17/17 [00:05<00:00,  3.26it/s]\n",
            "  0%|          | 0/16 [00:00<?, ?it/s]"
          ],
          "name": "stderr"
        },
        {
          "output_type": "stream",
          "text": [
            "17\n",
            "16\n"
          ],
          "name": "stdout"
        },
        {
          "output_type": "stream",
          "text": [
            "100%|██████████| 16/16 [00:10<00:00,  1.54it/s]\n",
            "  0%|          | 0/14 [00:00<?, ?it/s]"
          ],
          "name": "stderr"
        },
        {
          "output_type": "stream",
          "text": [
            "16\n",
            "14\n"
          ],
          "name": "stdout"
        },
        {
          "output_type": "stream",
          "text": [
            "100%|██████████| 14/14 [00:00<00:00, 21.18it/s]\n",
            "  0%|          | 0/14 [00:00<?, ?it/s]"
          ],
          "name": "stderr"
        },
        {
          "output_type": "stream",
          "text": [
            "14\n",
            "14\n"
          ],
          "name": "stdout"
        },
        {
          "output_type": "stream",
          "text": [
            "100%|██████████| 14/14 [00:00<00:00, 20.15it/s]\n",
            "  0%|          | 0/14 [00:00<?, ?it/s]"
          ],
          "name": "stderr"
        },
        {
          "output_type": "stream",
          "text": [
            "14\n",
            "14\n"
          ],
          "name": "stdout"
        },
        {
          "output_type": "stream",
          "text": [
            "100%|██████████| 14/14 [00:00<00:00, 20.47it/s]\n",
            "  0%|          | 0/14 [00:00<?, ?it/s]"
          ],
          "name": "stderr"
        },
        {
          "output_type": "stream",
          "text": [
            "14\n",
            "14\n"
          ],
          "name": "stdout"
        },
        {
          "output_type": "stream",
          "text": [
            "100%|██████████| 14/14 [00:00<00:00, 20.59it/s]\n",
            "  0%|          | 0/14 [00:00<?, ?it/s]"
          ],
          "name": "stderr"
        },
        {
          "output_type": "stream",
          "text": [
            "14\n",
            "14\n"
          ],
          "name": "stdout"
        },
        {
          "output_type": "stream",
          "text": [
            "100%|██████████| 14/14 [00:00<00:00, 20.56it/s]\n",
            "  0%|          | 0/14 [00:00<?, ?it/s]"
          ],
          "name": "stderr"
        },
        {
          "output_type": "stream",
          "text": [
            "14\n",
            "14\n"
          ],
          "name": "stdout"
        },
        {
          "output_type": "stream",
          "text": [
            "100%|██████████| 14/14 [00:05<00:00,  2.73it/s]\n",
            "  0%|          | 0/13 [00:00<?, ?it/s]"
          ],
          "name": "stderr"
        },
        {
          "output_type": "stream",
          "text": [
            "14\n",
            "13\n"
          ],
          "name": "stdout"
        },
        {
          "output_type": "stream",
          "text": [
            "100%|██████████| 13/13 [00:06<00:00,  2.13it/s]\n",
            "  0%|          | 0/12 [00:00<?, ?it/s]"
          ],
          "name": "stderr"
        },
        {
          "output_type": "stream",
          "text": [
            "13\n",
            "12\n"
          ],
          "name": "stdout"
        },
        {
          "output_type": "stream",
          "text": [
            "100%|██████████| 12/12 [00:00<00:00, 17.54it/s]\n",
            "  0%|          | 0/12 [00:00<?, ?it/s]"
          ],
          "name": "stderr"
        },
        {
          "output_type": "stream",
          "text": [
            "12\n",
            "12\n"
          ],
          "name": "stdout"
        },
        {
          "output_type": "stream",
          "text": [
            "100%|██████████| 12/12 [00:00<00:00, 17.18it/s]\n",
            "  0%|          | 0/12 [00:00<?, ?it/s]"
          ],
          "name": "stderr"
        },
        {
          "output_type": "stream",
          "text": [
            "12\n",
            "12\n"
          ],
          "name": "stdout"
        },
        {
          "output_type": "stream",
          "text": [
            "100%|██████████| 12/12 [00:00<00:00, 18.75it/s]\n",
            "  0%|          | 0/12 [00:00<?, ?it/s]"
          ],
          "name": "stderr"
        },
        {
          "output_type": "stream",
          "text": [
            "12\n",
            "12\n"
          ],
          "name": "stdout"
        },
        {
          "output_type": "stream",
          "text": [
            "100%|██████████| 12/12 [00:05<00:00,  2.11it/s]\n",
            "  0%|          | 0/11 [00:00<?, ?it/s]"
          ],
          "name": "stderr"
        },
        {
          "output_type": "stream",
          "text": [
            "12\n",
            "11\n"
          ],
          "name": "stdout"
        },
        {
          "output_type": "stream",
          "text": [
            "100%|██████████| 11/11 [00:00<00:00, 17.06it/s]\n",
            "  0%|          | 0/11 [00:00<?, ?it/s]"
          ],
          "name": "stderr"
        },
        {
          "output_type": "stream",
          "text": [
            "11\n",
            "11\n"
          ],
          "name": "stdout"
        },
        {
          "output_type": "stream",
          "text": [
            "100%|██████████| 11/11 [00:10<00:00,  1.09it/s]\n",
            "  0%|          | 0/9 [00:00<?, ?it/s]"
          ],
          "name": "stderr"
        },
        {
          "output_type": "stream",
          "text": [
            "11\n",
            "9\n"
          ],
          "name": "stdout"
        },
        {
          "output_type": "stream",
          "text": [
            "100%|██████████| 9/9 [00:00<00:00, 25.66it/s]\n",
            "  0%|          | 0/9 [00:00<?, ?it/s]"
          ],
          "name": "stderr"
        },
        {
          "output_type": "stream",
          "text": [
            "9\n",
            "9\n"
          ],
          "name": "stdout"
        },
        {
          "output_type": "stream",
          "text": [
            "100%|██████████| 9/9 [00:05<00:00,  1.67it/s]\n",
            "  0%|          | 0/8 [00:00<?, ?it/s]"
          ],
          "name": "stderr"
        },
        {
          "output_type": "stream",
          "text": [
            "9\n",
            "8\n"
          ],
          "name": "stdout"
        },
        {
          "output_type": "stream",
          "text": [
            "100%|██████████| 8/8 [00:00<00:00, 22.27it/s]\n",
            "  0%|          | 0/8 [00:00<?, ?it/s]"
          ],
          "name": "stderr"
        },
        {
          "output_type": "stream",
          "text": [
            "8\n",
            "8\n"
          ],
          "name": "stdout"
        },
        {
          "output_type": "stream",
          "text": [
            "100%|██████████| 8/8 [00:00<00:00, 23.30it/s]\n",
            "  0%|          | 0/8 [00:00<?, ?it/s]"
          ],
          "name": "stderr"
        },
        {
          "output_type": "stream",
          "text": [
            "8\n",
            "8\n"
          ],
          "name": "stdout"
        },
        {
          "output_type": "stream",
          "text": [
            "100%|██████████| 8/8 [00:05<00:00,  1.42it/s]\n",
            "  0%|          | 0/7 [00:00<?, ?it/s]"
          ],
          "name": "stderr"
        },
        {
          "output_type": "stream",
          "text": [
            "8\n",
            "7\n"
          ],
          "name": "stdout"
        },
        {
          "output_type": "stream",
          "text": [
            "100%|██████████| 7/7 [00:05<00:00,  1.38it/s]\n",
            "  0%|          | 0/6 [00:00<?, ?it/s]"
          ],
          "name": "stderr"
        },
        {
          "output_type": "stream",
          "text": [
            "7\n",
            "6\n"
          ],
          "name": "stdout"
        },
        {
          "output_type": "stream",
          "text": [
            "100%|██████████| 6/6 [00:00<00:00, 15.57it/s]\n",
            "  0%|          | 0/6 [00:00<?, ?it/s]"
          ],
          "name": "stderr"
        },
        {
          "output_type": "stream",
          "text": [
            "6\n",
            "6\n"
          ],
          "name": "stdout"
        },
        {
          "output_type": "stream",
          "text": [
            "100%|██████████| 6/6 [00:00<00:00, 16.87it/s]\n",
            "  0%|          | 0/6 [00:00<?, ?it/s]"
          ],
          "name": "stderr"
        },
        {
          "output_type": "stream",
          "text": [
            "6\n",
            "6\n"
          ],
          "name": "stdout"
        },
        {
          "output_type": "stream",
          "text": [
            "100%|██████████| 6/6 [00:07<00:00,  1.26s/it]\n",
            "  0%|          | 0/4 [00:00<?, ?it/s]"
          ],
          "name": "stderr"
        },
        {
          "output_type": "stream",
          "text": [
            "6\n",
            "4\n"
          ],
          "name": "stdout"
        },
        {
          "output_type": "stream",
          "text": [
            "100%|██████████| 4/4 [00:00<00:00, 12.45it/s]\n",
            "  0%|          | 0/4 [00:00<?, ?it/s]"
          ],
          "name": "stderr"
        },
        {
          "output_type": "stream",
          "text": [
            "4\n",
            "4\n"
          ],
          "name": "stdout"
        },
        {
          "output_type": "stream",
          "text": [
            "100%|██████████| 4/4 [00:00<00:00, 11.79it/s]\n",
            "  0%|          | 0/4 [00:00<?, ?it/s]"
          ],
          "name": "stderr"
        },
        {
          "output_type": "stream",
          "text": [
            "4\n",
            "4\n"
          ],
          "name": "stdout"
        },
        {
          "output_type": "stream",
          "text": [
            "100%|██████████| 4/4 [00:00<00:00, 11.58it/s]\n",
            "  0%|          | 0/4 [00:00<?, ?it/s]"
          ],
          "name": "stderr"
        },
        {
          "output_type": "stream",
          "text": [
            "4\n",
            "4\n"
          ],
          "name": "stdout"
        },
        {
          "output_type": "stream",
          "text": [
            "100%|██████████| 4/4 [00:00<00:00, 11.75it/s]\n",
            "  0%|          | 0/4 [00:00<?, ?it/s]"
          ],
          "name": "stderr"
        },
        {
          "output_type": "stream",
          "text": [
            "4\n",
            "4\n"
          ],
          "name": "stdout"
        },
        {
          "output_type": "stream",
          "text": [
            "100%|██████████| 4/4 [00:00<00:00, 11.91it/s]\n",
            "  0%|          | 0/4 [00:00<?, ?it/s]"
          ],
          "name": "stderr"
        },
        {
          "output_type": "stream",
          "text": [
            "4\n",
            "4\n"
          ],
          "name": "stdout"
        },
        {
          "output_type": "stream",
          "text": [
            "100%|██████████| 4/4 [00:00<00:00, 11.47it/s]\n",
            "  0%|          | 0/4 [00:00<?, ?it/s]"
          ],
          "name": "stderr"
        },
        {
          "output_type": "stream",
          "text": [
            "4\n",
            "4\n"
          ],
          "name": "stdout"
        },
        {
          "output_type": "stream",
          "text": [
            "100%|██████████| 4/4 [00:00<00:00, 12.23it/s]\n",
            "  0%|          | 0/4 [00:00<?, ?it/s]"
          ],
          "name": "stderr"
        },
        {
          "output_type": "stream",
          "text": [
            "4\n",
            "4\n"
          ],
          "name": "stdout"
        },
        {
          "output_type": "stream",
          "text": [
            "100%|██████████| 4/4 [00:00<00:00, 11.67it/s]\n",
            "  0%|          | 0/4 [00:00<?, ?it/s]"
          ],
          "name": "stderr"
        },
        {
          "output_type": "stream",
          "text": [
            "4\n",
            "4\n"
          ],
          "name": "stdout"
        },
        {
          "output_type": "stream",
          "text": [
            "100%|██████████| 4/4 [00:00<00:00, 11.84it/s]\n",
            "  0%|          | 0/4 [00:00<?, ?it/s]"
          ],
          "name": "stderr"
        },
        {
          "output_type": "stream",
          "text": [
            "4\n",
            "4\n"
          ],
          "name": "stdout"
        },
        {
          "output_type": "stream",
          "text": [
            "100%|██████████| 4/4 [00:04<00:00,  1.19s/it]\n",
            "  0%|          | 0/3 [00:00<?, ?it/s]"
          ],
          "name": "stderr"
        },
        {
          "output_type": "stream",
          "text": [
            "4\n",
            "3\n"
          ],
          "name": "stdout"
        },
        {
          "output_type": "stream",
          "text": [
            "100%|██████████| 3/3 [00:00<00:00,  9.08it/s]\n",
            "  0%|          | 0/3 [00:00<?, ?it/s]"
          ],
          "name": "stderr"
        },
        {
          "output_type": "stream",
          "text": [
            "3\n",
            "3\n"
          ],
          "name": "stdout"
        },
        {
          "output_type": "stream",
          "text": [
            "100%|██████████| 3/3 [00:00<00:00,  6.37it/s]\n",
            "  0%|          | 0/3 [00:00<?, ?it/s]"
          ],
          "name": "stderr"
        },
        {
          "output_type": "stream",
          "text": [
            "3\n",
            "3\n"
          ],
          "name": "stdout"
        },
        {
          "output_type": "stream",
          "text": [
            "100%|██████████| 3/3 [00:05<00:00,  1.78s/it]\n",
            "  0%|          | 0/2 [00:00<?, ?it/s]"
          ],
          "name": "stderr"
        },
        {
          "output_type": "stream",
          "text": [
            "3\n",
            "2\n"
          ],
          "name": "stdout"
        },
        {
          "output_type": "stream",
          "text": [
            "100%|██████████| 2/2 [00:00<00:00,  5.52it/s]\n",
            "  0%|          | 0/2 [00:00<?, ?it/s]"
          ],
          "name": "stderr"
        },
        {
          "output_type": "stream",
          "text": [
            "2\n",
            "2\n"
          ],
          "name": "stdout"
        },
        {
          "output_type": "stream",
          "text": [
            "100%|██████████| 2/2 [00:00<00:00,  6.29it/s]\n",
            "  0%|          | 0/2 [00:00<?, ?it/s]"
          ],
          "name": "stderr"
        },
        {
          "output_type": "stream",
          "text": [
            "2\n",
            "2\n"
          ],
          "name": "stdout"
        },
        {
          "output_type": "stream",
          "text": [
            "100%|██████████| 2/2 [00:05<00:00,  2.58s/it]\n",
            "  0%|          | 0/1 [00:00<?, ?it/s]"
          ],
          "name": "stderr"
        },
        {
          "output_type": "stream",
          "text": [
            "2\n",
            "1\n"
          ],
          "name": "stdout"
        },
        {
          "output_type": "stream",
          "text": [
            "100%|██████████| 1/1 [00:00<00:00,  2.95it/s]\n",
            "  0%|          | 0/1 [00:00<?, ?it/s]"
          ],
          "name": "stderr"
        },
        {
          "output_type": "stream",
          "text": [
            "1\n",
            "1\n"
          ],
          "name": "stdout"
        },
        {
          "output_type": "stream",
          "text": [
            "100%|██████████| 1/1 [00:00<00:00,  3.27it/s]\n",
            "  0%|          | 0/1 [00:00<?, ?it/s]"
          ],
          "name": "stderr"
        },
        {
          "output_type": "stream",
          "text": [
            "1\n",
            "1\n"
          ],
          "name": "stdout"
        },
        {
          "output_type": "stream",
          "text": [
            "100%|██████████| 1/1 [00:00<00:00,  3.10it/s]\n",
            "  0%|          | 0/1 [00:00<?, ?it/s]"
          ],
          "name": "stderr"
        },
        {
          "output_type": "stream",
          "text": [
            "1\n",
            "1\n"
          ],
          "name": "stdout"
        },
        {
          "output_type": "stream",
          "text": [
            "100%|██████████| 1/1 [00:00<00:00,  2.80it/s]\n",
            "  0%|          | 0/1 [00:00<?, ?it/s]"
          ],
          "name": "stderr"
        },
        {
          "output_type": "stream",
          "text": [
            "1\n",
            "1\n"
          ],
          "name": "stdout"
        },
        {
          "output_type": "stream",
          "text": [
            "100%|██████████| 1/1 [00:00<00:00,  3.00it/s]\n",
            "  0%|          | 0/1 [00:00<?, ?it/s]"
          ],
          "name": "stderr"
        },
        {
          "output_type": "stream",
          "text": [
            "1\n",
            "1\n"
          ],
          "name": "stdout"
        },
        {
          "output_type": "stream",
          "text": [
            "100%|██████████| 1/1 [00:00<00:00,  2.95it/s]\n",
            "  0%|          | 0/1 [00:00<?, ?it/s]"
          ],
          "name": "stderr"
        },
        {
          "output_type": "stream",
          "text": [
            "1\n",
            "1\n"
          ],
          "name": "stdout"
        },
        {
          "output_type": "stream",
          "text": [
            "100%|██████████| 1/1 [00:00<00:00,  3.12it/s]\n",
            "  0%|          | 0/1 [00:00<?, ?it/s]"
          ],
          "name": "stderr"
        },
        {
          "output_type": "stream",
          "text": [
            "1\n",
            "1\n"
          ],
          "name": "stdout"
        },
        {
          "output_type": "stream",
          "text": [
            "100%|██████████| 1/1 [00:00<00:00,  3.05it/s]\n",
            "  0%|          | 0/1 [00:00<?, ?it/s]"
          ],
          "name": "stderr"
        },
        {
          "output_type": "stream",
          "text": [
            "1\n",
            "1\n"
          ],
          "name": "stdout"
        },
        {
          "output_type": "stream",
          "text": [
            "100%|██████████| 1/1 [00:00<00:00,  3.10it/s]\n",
            "  0%|          | 0/1 [00:00<?, ?it/s]"
          ],
          "name": "stderr"
        },
        {
          "output_type": "stream",
          "text": [
            "1\n",
            "1\n"
          ],
          "name": "stdout"
        },
        {
          "output_type": "stream",
          "text": [
            "100%|██████████| 1/1 [00:00<00:00,  3.14it/s]\n",
            "  0%|          | 0/1 [00:00<?, ?it/s]"
          ],
          "name": "stderr"
        },
        {
          "output_type": "stream",
          "text": [
            "1\n",
            "1\n"
          ],
          "name": "stdout"
        },
        {
          "output_type": "stream",
          "text": [
            "100%|██████████| 1/1 [00:00<00:00,  2.96it/s]\n",
            "  0%|          | 0/1 [00:00<?, ?it/s]"
          ],
          "name": "stderr"
        },
        {
          "output_type": "stream",
          "text": [
            "1\n",
            "1\n"
          ],
          "name": "stdout"
        },
        {
          "output_type": "stream",
          "text": [
            "100%|██████████| 1/1 [00:00<00:00,  3.09it/s]\n",
            "  0%|          | 0/1 [00:00<?, ?it/s]"
          ],
          "name": "stderr"
        },
        {
          "output_type": "stream",
          "text": [
            "1\n",
            "1\n"
          ],
          "name": "stdout"
        },
        {
          "output_type": "stream",
          "text": [
            "100%|██████████| 1/1 [00:05<00:00,  5.28s/it]"
          ],
          "name": "stderr"
        },
        {
          "output_type": "stream",
          "text": [
            "1\n",
            "0\n"
          ],
          "name": "stdout"
        },
        {
          "output_type": "stream",
          "text": [
            "\n"
          ],
          "name": "stderr"
        }
      ]
    },
    {
      "cell_type": "code",
      "metadata": {
        "colab": {
          "background_save": true
        },
        "id": "evoo0eF3LVMA",
        "outputId": "5598286f-0f45-4ccf-d205-e2091eda535b"
      },
      "source": [
        "buku.to_csv('buku_v2.csv', index=False)\n",
        "\n",
        "from google.colab import files\n",
        "files.download( 'buku_v2.csv' )"
      ],
      "execution_count": null,
      "outputs": [
        {
          "output_type": "display_data",
          "data": {
            "application/javascript": [
              "\n",
              "    async function download(id, filename, size) {\n",
              "      if (!google.colab.kernel.accessAllowed) {\n",
              "        return;\n",
              "      }\n",
              "      const div = document.createElement('div');\n",
              "      const label = document.createElement('label');\n",
              "      label.textContent = `Downloading \"${filename}\": `;\n",
              "      div.appendChild(label);\n",
              "      const progress = document.createElement('progress');\n",
              "      progress.max = size;\n",
              "      div.appendChild(progress);\n",
              "      document.body.appendChild(div);\n",
              "\n",
              "      const buffers = [];\n",
              "      let downloaded = 0;\n",
              "\n",
              "      const channel = await google.colab.kernel.comms.open(id);\n",
              "      // Send a message to notify the kernel that we're ready.\n",
              "      channel.send({})\n",
              "\n",
              "      for await (const message of channel.messages) {\n",
              "        // Send a message to notify the kernel that we're ready.\n",
              "        channel.send({})\n",
              "        if (message.buffers) {\n",
              "          for (const buffer of message.buffers) {\n",
              "            buffers.push(buffer);\n",
              "            downloaded += buffer.byteLength;\n",
              "            progress.value = downloaded;\n",
              "          }\n",
              "        }\n",
              "      }\n",
              "      const blob = new Blob(buffers, {type: 'application/binary'});\n",
              "      const a = document.createElement('a');\n",
              "      a.href = window.URL.createObjectURL(blob);\n",
              "      a.download = filename;\n",
              "      div.appendChild(a);\n",
              "      a.click();\n",
              "      div.remove();\n",
              "    }\n",
              "  "
            ],
            "text/plain": [
              "<IPython.core.display.Javascript object>"
            ]
          },
          "metadata": {
            "tags": []
          }
        },
        {
          "output_type": "display_data",
          "data": {
            "application/javascript": [
              "download(\"download_c6476cf6-2ced-4352-a8f9-36d91b912984\", \"buku_v2.csv\", 3289467)"
            ],
            "text/plain": [
              "<IPython.core.display.Javascript object>"
            ]
          },
          "metadata": {
            "tags": []
          }
        }
      ]
    },
    {
      "cell_type": "code",
      "metadata": {
        "colab": {
          "background_save": true
        },
        "id": "GiB4x_4GOk97"
      },
      "source": [
        "missing_isbn13 = missing_isbn13.to_list()"
      ],
      "execution_count": null,
      "outputs": []
    },
    {
      "cell_type": "code",
      "metadata": {
        "colab": {
          "background_save": true
        },
        "id": "12MI4-TOUuXD",
        "outputId": "b1c354ad-1f9f-4658-834e-9f6d9d4ad4e8"
      },
      "source": [
        "missing_isbn13[:5]"
      ],
      "execution_count": null,
      "outputs": [
        {
          "output_type": "execute_result",
          "data": {
            "text/plain": [
              "[9418327, 7604, 49552, 10664113, 11505797]"
            ]
          },
          "metadata": {
            "tags": []
          },
          "execution_count": 0
        }
      ]
    },
    {
      "cell_type": "code",
      "metadata": {
        "colab": {
          "background_save": true
        },
        "id": "qLnYidulNyIR"
      },
      "source": [
        "def get_isbn13(i):\n",
        "  url = f\"https://www.goodreads.com/book/show/{i}\"\n",
        "  headers = {'User-Agent': 'Mozilla/5.0 (Macintosh; Intel Mac OS X 10_11_5) AppleWebKit/537.36 (KHTML, like Gecko) Chrome/50.0.2661.102 Safari/537.36'}\n",
        "  html_page = requests.Session().get(url, headers=headers)\n",
        "  soup = BeautifulSoup(html_page.content, 'html.parser')\n",
        "  try:\n",
        "      isbn13 = soup.select('span', itemprop='isbn')\n",
        "  except:\n",
        "      isbn13 = None\n",
        "      \n",
        "  return isbn13\n",
        "\n",
        "get_isbn13(missing_isbn13[2])"
      ],
      "execution_count": null,
      "outputs": []
    },
    {
      "cell_type": "code",
      "metadata": {
        "id": "vyvr7IT7M34g"
      },
      "source": [
        "while buku['isbn13'].isna().sum() > 0:\n",
        "  missing_ori_title = buku.loc[buku['isbn13'].isna(), :].goodreads_book_id.to_list()\n",
        "  found_ori_title = ['' for x in missing_ori_title]\n",
        "\n",
        "  with concurrent.futures.ThreadPoolExecutor() as executor:\n",
        "    # with concurrent.futures.ThreadPoolExecutor() as executor:\n",
        "    #   future = executor.map(get_songs, alphabets)\n",
        "    #   songs_kapanlagi = [song for f in future for song in f]\n",
        "\n",
        "    future = executor.map(get_ori_title, missing_ori_title)\n",
        "    for i,f in enumerate(tqdm(future, total=len(missing_ori_title))):\n",
        "      found_ori_title[i] = f\n",
        "      time.sleep(1e-3)\n",
        "\n",
        "  buku.loc[buku['original_title'].isna(), 'original_title'] = found_ori_title\n",
        "\n",
        "  print(len(found_ori_title))\n",
        "  print(buku['original_title'].isna().sum())"
      ],
      "execution_count": null,
      "outputs": []
    },
    {
      "cell_type": "markdown",
      "metadata": {
        "id": "9D7dUkAE_hpm"
      },
      "source": [
        "Ternyata emang enggak semua buku ada isbn13-nya :/\n",
        "\n",
        "Oke, bisa diabaikan."
      ]
    },
    {
      "cell_type": "markdown",
      "metadata": {
        "id": "mT7QMgyoYasF"
      },
      "source": [
        "# Futher Pre-Processing"
      ]
    },
    {
      "cell_type": "code",
      "metadata": {
        "colab": {
          "base_uri": "https://localhost:8080/"
        },
        "id": "qFZj22Y2YaBT",
        "outputId": "3cab764a-720b-49ff-d22a-8339cafff8de"
      },
      "source": [
        "import pandas as pd\n",
        "\n",
        "link = 'https://github.com/ilmaaliyaf/macapedia_recommender/blob/main/dataset/buku_v2.csv?raw=true'\n",
        "buku = pd.read_csv(link)\n",
        "buku.isna().sum()"
      ],
      "execution_count": null,
      "outputs": [
        {
          "output_type": "execute_result",
          "data": {
            "text/plain": [
              "book_id                         0\n",
              "goodreads_book_id               0\n",
              "best_book_id                    0\n",
              "work_id                         0\n",
              "books_count                     0\n",
              "isbn                          700\n",
              "isbn13                        585\n",
              "authors                         0\n",
              "original_publication_year       0\n",
              "original_title                  0\n",
              "title                           0\n",
              "language_code                1084\n",
              "average_rating                  0\n",
              "ratings_count                   0\n",
              "work_ratings_count              0\n",
              "work_text_reviews_count         0\n",
              "ratings_1                       0\n",
              "ratings_2                       0\n",
              "ratings_3                       0\n",
              "ratings_4                       0\n",
              "ratings_5                       0\n",
              "image_url                       0\n",
              "small_image_url                 0\n",
              "dtype: int64"
            ]
          },
          "metadata": {
            "tags": []
          },
          "execution_count": 16
        }
      ]
    },
    {
      "cell_type": "markdown",
      "metadata": {
        "id": "xn0FNbiiaCcb"
      },
      "source": [
        "## Inspecting Goodreads\n",
        "\n",
        "> Purpose: get `goodreads_id` of top books for each major genres in few years back\n",
        "\n",
        "Strategy:\n",
        "1. Get `.xml` file for each book page\n",
        "2. Process the `.xml` offline/online and avoid making any `request` to the website, get the book metadata, ratings, etc."
      ]
    },
    {
      "cell_type": "code",
      "metadata": {
        "colab": {
          "base_uri": "https://localhost:8080/"
        },
        "id": "2W0YkbOnYhRu",
        "outputId": "f14bca95-508a-4637-9cd6-deb4dce7c3f5"
      },
      "source": [
        "# selecting year\n",
        "years = [x for x in range(2017, 2021)]\n",
        "\n",
        "# selecting big genres\n",
        "genres = ['fiction-books',\n",
        "          'mystery-thriller-books',\n",
        "          'historical-fiction-books',\n",
        "          'fantasy-books',\n",
        "          'romance-books',\n",
        "          'science-fiction-books',\n",
        "          'horror-books',\n",
        "          'humor-books',\n",
        "          'nonfiction-books',\n",
        "          'memoir-autobiography-books',\n",
        "          'history-biography-books',\n",
        "          'science-technology-books',\n",
        "          'food-cookbooks',\n",
        "          'graphic-novels-comics',\n",
        "          'poetry-books',\n",
        "          'young-adult-fiction-books',\n",
        "          'young-adult-fantasy-books',\n",
        "          'childrens-books',\n",
        "          'picture-books']\n",
        "\n",
        "urls = [f'https://www.goodreads.com/choiceawards/best-{genre}-{year}' \n",
        "        for year in years for genre in genres]\n",
        "\n",
        "year, genres"
      ],
      "execution_count": null,
      "outputs": [
        {
          "output_type": "execute_result",
          "data": {
            "text/plain": [
              "([2017, 2018, 2019, 2020],\n",
              " ['fiction-books',\n",
              "  'mystery-thriller-books',\n",
              "  'historical-fiction-books',\n",
              "  'fantasy-books',\n",
              "  'romance-books',\n",
              "  'science-fiction-books',\n",
              "  'horror-books',\n",
              "  'humor-books',\n",
              "  'nonfiction-books',\n",
              "  'memoir-autobiography-books',\n",
              "  'history-biography-books',\n",
              "  'science-technology-books',\n",
              "  'food-cookbooks',\n",
              "  'graphic-novels-comics',\n",
              "  'poetry-books',\n",
              "  'young-adult-fiction-books',\n",
              "  'young-adult-fantasy-books',\n",
              "  'childrens-books',\n",
              "  'picture-books'])"
            ]
          },
          "metadata": {
            "tags": []
          },
          "execution_count": 82
        }
      ]
    },
    {
      "cell_type": "code",
      "metadata": {
        "id": "7knxIZp4d0w9"
      },
      "source": [
        "import requests\n",
        "from bs4 import BeautifulSoup\n",
        "import re"
      ],
      "execution_count": null,
      "outputs": []
    },
    {
      "cell_type": "code",
      "metadata": {
        "id": "k_rUTRMkgCyt"
      },
      "source": [
        "url = urls[0]\n",
        "page = requests.get(url)\n",
        "soup = BeautifulSoup(page.content, 'lxml')\n",
        "# soup"
      ],
      "execution_count": null,
      "outputs": []
    },
    {
      "cell_type": "code",
      "metadata": {
        "colab": {
          "base_uri": "https://localhost:8080/"
        },
        "id": "dZTCIGy-i5RR",
        "outputId": "ce38eaa0-8c29-47bb-e395-cd6cae67a854"
      },
      "source": [
        "_ = soup.select('.js-tooltipTrigger')\n",
        "book_id = [x.get('data-resource-id') for x in _]\n",
        "len(urls) * len(book_id)"
      ],
      "execution_count": null,
      "outputs": [
        {
          "output_type": "execute_result",
          "data": {
            "text/plain": [
              "1600"
            ]
          },
          "metadata": {
            "tags": []
          },
          "execution_count": 40
        }
      ]
    },
    {
      "cell_type": "code",
      "metadata": {
        "colab": {
          "base_uri": "https://localhost:8080/"
        },
        "id": "X-sZItm2mwFE",
        "outputId": "b39cd3be-3fdb-46da-f924-af727a3bc7f8"
      },
      "source": [
        "len([])"
      ],
      "execution_count": null,
      "outputs": [
        {
          "output_type": "execute_result",
          "data": {
            "text/plain": [
              "0"
            ]
          },
          "metadata": {
            "tags": []
          },
          "execution_count": 49
        }
      ]
    },
    {
      "cell_type": "code",
      "metadata": {
        "colab": {
          "base_uri": "https://localhost:8080/"
        },
        "id": "Tr0ceHrdjkai",
        "outputId": "98f4ae4b-8f82-4ece-c5a9-9c8338063750"
      },
      "source": [
        "# wrap it out\n",
        "book_id = []\n",
        "for url in urls:\n",
        "  _ = []\n",
        "  while len(_) == 0:\n",
        "    page = requests.get(url)\n",
        "    soup = BeautifulSoup(page.content, 'lxml')\n",
        "    _ = [x.get('data-resource-id') for x in soup.select('.js-tooltipTrigger')]\n",
        "    if len(_) == 0:\n",
        "      time.sleep(1)\n",
        "  book_id += _\n",
        "  print(f'from {url} added {len(_)} ids to the list')\n",
        "\n",
        "print('total ids:', len(book_id))"
      ],
      "execution_count": null,
      "outputs": [
        {
          "output_type": "stream",
          "text": [
            "from https://www.goodreads.com/choiceawards/best-fiction-books-2017 added 20 ids to the list\n",
            "from https://www.goodreads.com/choiceawards/best-mystery-thriller-books-2017 added 20 ids to the list\n",
            "from https://www.goodreads.com/choiceawards/best-historical-fiction-books-2017 added 20 ids to the list\n",
            "from https://www.goodreads.com/choiceawards/best-fantasy-books-2017 added 20 ids to the list\n",
            "from https://www.goodreads.com/choiceawards/best-romance-books-2017 added 20 ids to the list\n",
            "from https://www.goodreads.com/choiceawards/best-science-fiction-books-2017 added 20 ids to the list\n",
            "from https://www.goodreads.com/choiceawards/best-horror-books-2017 added 20 ids to the list\n",
            "from https://www.goodreads.com/choiceawards/best-humor-books-2017 added 20 ids to the list\n",
            "from https://www.goodreads.com/choiceawards/best-nonfiction-books-2017 added 20 ids to the list\n",
            "from https://www.goodreads.com/choiceawards/best-memoir-autobiography-books-2017 added 20 ids to the list\n",
            "from https://www.goodreads.com/choiceawards/best-history-biography-books-2017 added 20 ids to the list\n",
            "from https://www.goodreads.com/choiceawards/best-science-technology-books-2017 added 20 ids to the list\n",
            "from https://www.goodreads.com/choiceawards/best-food-cookbooks-2017 added 20 ids to the list\n",
            "from https://www.goodreads.com/choiceawards/best-graphic-novels-comics-2017 added 20 ids to the list\n",
            "from https://www.goodreads.com/choiceawards/best-poetry-books-2017 added 20 ids to the list\n",
            "from https://www.goodreads.com/choiceawards/best-young-adult-fiction-books-2017 added 20 ids to the list\n",
            "from https://www.goodreads.com/choiceawards/best-young-adult-fantasy-books-2017 added 20 ids to the list\n",
            "from https://www.goodreads.com/choiceawards/best-childrens-books-2017 added 20 ids to the list\n",
            "from https://www.goodreads.com/choiceawards/best-picture-books-2017 added 20 ids to the list\n",
            "from https://www.goodreads.com/choiceawards/best-fiction-books-2018 added 20 ids to the list\n",
            "from https://www.goodreads.com/choiceawards/best-mystery-thriller-books-2018 added 20 ids to the list\n",
            "from https://www.goodreads.com/choiceawards/best-historical-fiction-books-2018 added 20 ids to the list\n",
            "from https://www.goodreads.com/choiceawards/best-fantasy-books-2018 added 20 ids to the list\n",
            "from https://www.goodreads.com/choiceawards/best-romance-books-2018 added 20 ids to the list\n",
            "from https://www.goodreads.com/choiceawards/best-science-fiction-books-2018 added 20 ids to the list\n",
            "from https://www.goodreads.com/choiceawards/best-horror-books-2018 added 20 ids to the list\n",
            "from https://www.goodreads.com/choiceawards/best-humor-books-2018 added 20 ids to the list\n",
            "from https://www.goodreads.com/choiceawards/best-nonfiction-books-2018 added 20 ids to the list\n",
            "from https://www.goodreads.com/choiceawards/best-memoir-autobiography-books-2018 added 20 ids to the list\n",
            "from https://www.goodreads.com/choiceawards/best-history-biography-books-2018 added 20 ids to the list\n",
            "from https://www.goodreads.com/choiceawards/best-science-technology-books-2018 added 20 ids to the list\n",
            "from https://www.goodreads.com/choiceawards/best-food-cookbooks-2018 added 20 ids to the list\n",
            "from https://www.goodreads.com/choiceawards/best-graphic-novels-comics-2018 added 20 ids to the list\n",
            "from https://www.goodreads.com/choiceawards/best-poetry-books-2018 added 20 ids to the list\n",
            "from https://www.goodreads.com/choiceawards/best-young-adult-fiction-books-2018 added 20 ids to the list\n",
            "from https://www.goodreads.com/choiceawards/best-young-adult-fantasy-books-2018 added 20 ids to the list\n",
            "from https://www.goodreads.com/choiceawards/best-childrens-books-2018 added 20 ids to the list\n",
            "from https://www.goodreads.com/choiceawards/best-picture-books-2018 added 20 ids to the list\n",
            "from https://www.goodreads.com/choiceawards/best-fiction-books-2019 added 20 ids to the list\n",
            "from https://www.goodreads.com/choiceawards/best-mystery-thriller-books-2019 added 20 ids to the list\n",
            "from https://www.goodreads.com/choiceawards/best-historical-fiction-books-2019 added 20 ids to the list\n",
            "from https://www.goodreads.com/choiceawards/best-fantasy-books-2019 added 20 ids to the list\n",
            "from https://www.goodreads.com/choiceawards/best-romance-books-2019 added 20 ids to the list\n",
            "from https://www.goodreads.com/choiceawards/best-science-fiction-books-2019 added 20 ids to the list\n",
            "from https://www.goodreads.com/choiceawards/best-horror-books-2019 added 20 ids to the list\n",
            "from https://www.goodreads.com/choiceawards/best-humor-books-2019 added 20 ids to the list\n",
            "from https://www.goodreads.com/choiceawards/best-nonfiction-books-2019 added 20 ids to the list\n",
            "from https://www.goodreads.com/choiceawards/best-memoir-autobiography-books-2019 added 20 ids to the list\n",
            "from https://www.goodreads.com/choiceawards/best-history-biography-books-2019 added 20 ids to the list\n",
            "from https://www.goodreads.com/choiceawards/best-science-technology-books-2019 added 20 ids to the list\n",
            "from https://www.goodreads.com/choiceawards/best-food-cookbooks-2019 added 20 ids to the list\n",
            "from https://www.goodreads.com/choiceawards/best-graphic-novels-comics-2019 added 20 ids to the list\n",
            "from https://www.goodreads.com/choiceawards/best-poetry-books-2019 added 20 ids to the list\n",
            "from https://www.goodreads.com/choiceawards/best-young-adult-fiction-books-2019 added 20 ids to the list\n",
            "from https://www.goodreads.com/choiceawards/best-young-adult-fantasy-books-2019 added 20 ids to the list\n",
            "from https://www.goodreads.com/choiceawards/best-childrens-books-2019 added 20 ids to the list\n",
            "from https://www.goodreads.com/choiceawards/best-picture-books-2019 added 20 ids to the list\n",
            "from https://www.goodreads.com/choiceawards/best-fiction-books-2020 added 20 ids to the list\n",
            "from https://www.goodreads.com/choiceawards/best-mystery-thriller-books-2020 added 20 ids to the list\n",
            "from https://www.goodreads.com/choiceawards/best-historical-fiction-books-2020 added 20 ids to the list\n",
            "from https://www.goodreads.com/choiceawards/best-fantasy-books-2020 added 20 ids to the list\n",
            "from https://www.goodreads.com/choiceawards/best-romance-books-2020 added 20 ids to the list\n",
            "from https://www.goodreads.com/choiceawards/best-science-fiction-books-2020 added 20 ids to the list\n",
            "from https://www.goodreads.com/choiceawards/best-horror-books-2020 added 20 ids to the list\n",
            "from https://www.goodreads.com/choiceawards/best-humor-books-2020 added 20 ids to the list\n",
            "from https://www.goodreads.com/choiceawards/best-nonfiction-books-2020 added 20 ids to the list\n",
            "from https://www.goodreads.com/choiceawards/best-memoir-autobiography-books-2020 added 20 ids to the list\n",
            "from https://www.goodreads.com/choiceawards/best-history-biography-books-2020 added 20 ids to the list\n",
            "from https://www.goodreads.com/choiceawards/best-science-technology-books-2020 added 20 ids to the list\n",
            "from https://www.goodreads.com/choiceawards/best-food-cookbooks-2020 added 20 ids to the list\n",
            "from https://www.goodreads.com/choiceawards/best-graphic-novels-comics-2020 added 20 ids to the list\n",
            "from https://www.goodreads.com/choiceawards/best-poetry-books-2020 added 20 ids to the list\n",
            "from https://www.goodreads.com/choiceawards/best-young-adult-fiction-books-2020 added 20 ids to the list\n",
            "from https://www.goodreads.com/choiceawards/best-young-adult-fantasy-books-2020 added 20 ids to the list\n",
            "from https://www.goodreads.com/choiceawards/best-childrens-books-2020 added 20 ids to the list\n",
            "from https://www.goodreads.com/choiceawards/best-picture-books-2020 added 20 ids to the list\n",
            "total ids: 1520\n"
          ],
          "name": "stdout"
        }
      ]
    },
    {
      "cell_type": "code",
      "metadata": {
        "colab": {
          "base_uri": "https://localhost:8080/"
        },
        "id": "-TOhe7534Smi",
        "outputId": "ab123021-dfda-4ad3-fd57-808e8f73bd3c"
      },
      "source": [
        "import pickle\n",
        "# with open('book_id.pkl', 'wb') as handle:\n",
        "#     pickle.dump(book_id, handle)\n",
        "\n",
        "with open('book_id.pkl', 'rb') as handle:\n",
        "  book_id = pickle.load(handle)\n",
        "len(book_id)"
      ],
      "execution_count": null,
      "outputs": [
        {
          "output_type": "execute_result",
          "data": {
            "text/plain": [
              "1520"
            ]
          },
          "metadata": {
            "tags": []
          },
          "execution_count": 1
        }
      ]
    },
    {
      "cell_type": "markdown",
      "metadata": {
        "id": "tWK25UzCauC5"
      },
      "source": [
        "## Getting lxml files"
      ]
    },
    {
      "cell_type": "code",
      "metadata": {
        "id": "JhBklbVYYulL"
      },
      "source": [
        "import requests\n",
        "from bs4 import BeautifulSoup\n",
        "import time\n",
        "# import re\n",
        "\n",
        "def get_xml_file(id):\n",
        "  url = f'https://www.goodreads.com/book/show/{id}'\n",
        "  page = requests.get(url)\n",
        "  # id = re.search(r'\\d+', url).group(0)\n",
        "  while page.status_code != 200:\n",
        "    page = requests.get(url)\n",
        "    time.sleep(0.1)\n",
        "  with open(id + '.xml', 'wb') as f:\n",
        "    f.write(page.content)\n",
        "  return id"
      ],
      "execution_count": null,
      "outputs": []
    },
    {
      "cell_type": "code",
      "metadata": {
        "colab": {
          "base_uri": "https://localhost:8080/",
          "height": 35
        },
        "id": "QIT0z3g0Y8us",
        "outputId": "849f71ea-5f35-4e2c-9d13-3cbb2d8daf80"
      },
      "source": [
        "# test\n",
        "id = '36100966'\n",
        "get_xml_file(id)"
      ],
      "execution_count": null,
      "outputs": [
        {
          "output_type": "execute_result",
          "data": {
            "application/vnd.google.colaboratory.intrinsic+json": {
              "type": "string"
            },
            "text/plain": [
              "'36100966'"
            ]
          },
          "metadata": {
            "tags": []
          },
          "execution_count": 9
        }
      ]
    },
    {
      "cell_type": "code",
      "metadata": {
        "id": "AvWKRsnHiqXZ"
      },
      "source": [
        "import concurrent.futures\n",
        "from tqdm import tqdm"
      ],
      "execution_count": null,
      "outputs": []
    },
    {
      "cell_type": "code",
      "metadata": {
        "colab": {
          "base_uri": "https://localhost:8080/"
        },
        "id": "rMR466A4XDWq",
        "outputId": "79863451-e36c-4f43-fae3-1feec9d26232"
      },
      "source": [
        "import concurrent.futures\n",
        "from tqdm import tqdm\n",
        "\n",
        "with concurrent.futures.ThreadPoolExecutor() as executor:\n",
        "  future = executor.map(get_xml_file, book_id)\n",
        "  for i,f in enumerate(tqdm(future, total=len(book_id))):\n",
        "    print(f' {i} sucessfully saved {id}.xml')\n",
        "    time.sleep(1e-5)"
      ],
      "execution_count": null,
      "outputs": [
        {
          "output_type": "stream",
          "text": [
            "  0%|          | 1/1520 [00:02<1:14:27,  2.94s/it]"
          ],
          "name": "stderr"
        },
        {
          "output_type": "stream",
          "text": [
            " 0 sucessfully saved 36100966.xml\n"
          ],
          "name": "stdout"
        },
        {
          "output_type": "stream",
          "text": [
            "  0%|          | 6/1520 [00:03<37:43,  1.50s/it]"
          ],
          "name": "stderr"
        },
        {
          "output_type": "stream",
          "text": [
            " 1 sucessfully saved 36100966.xml\n",
            " 2 sucessfully saved 36100966.xml\n",
            " 3 sucessfully saved 36100966.xml\n",
            " 4 sucessfully saved 36100966.xml\n",
            " 5 sucessfully saved 36100966.xml\n",
            " 6 sucessfully saved 36100966.xml\n",
            " 7 sucessfully saved 36100966.xml\n",
            " 8 sucessfully saved 36100966.xml\n",
            " 9 sucessfully saved 36100966.xml\n"
          ],
          "name": "stdout"
        },
        {
          "output_type": "stream",
          "text": [
            "\r  1%|          | 11/1520 [00:05<29:42,  1.18s/it]"
          ],
          "name": "stderr"
        },
        {
          "output_type": "stream",
          "text": [
            " 10 sucessfully saved 36100966.xml\n",
            " 11 sucessfully saved 36100966.xml\n",
            " 12 sucessfully saved 36100966.xml\n",
            " 13 sucessfully saved 36100966.xml\n"
          ],
          "name": "stdout"
        },
        {
          "output_type": "stream",
          "text": [
            "\r  1%|          | 15/1520 [00:06<21:44,  1.15it/s]"
          ],
          "name": "stderr"
        },
        {
          "output_type": "stream",
          "text": [
            " 14 sucessfully saved 36100966.xml\n",
            " 15 sucessfully saved 36100966.xml\n",
            " 16 sucessfully saved 36100966.xml\n",
            " 17 sucessfully saved 36100966.xml\n",
            " 18 sucessfully saved 36100966.xml\n",
            " 19 sucessfully saved 36100966.xml\n"
          ],
          "name": "stdout"
        },
        {
          "output_type": "stream",
          "text": [
            "\r  1%|▏         | 21/1520 [00:07<17:06,  1.46it/s]"
          ],
          "name": "stderr"
        },
        {
          "output_type": "stream",
          "text": [
            " 20 sucessfully saved 36100966.xml\n"
          ],
          "name": "stdout"
        },
        {
          "output_type": "stream",
          "text": [
            "  2%|▏         | 23/1520 [00:08<13:31,  1.84it/s]"
          ],
          "name": "stderr"
        },
        {
          "output_type": "stream",
          "text": [
            " 21 sucessfully saved 36100966.xml\n",
            " 22 sucessfully saved 36100966.xml\n",
            " 23 sucessfully saved 36100966.xml\n"
          ],
          "name": "stdout"
        },
        {
          "output_type": "stream",
          "text": [
            "\r  2%|▏         | 25/1520 [00:08<09:55,  2.51it/s]"
          ],
          "name": "stderr"
        },
        {
          "output_type": "stream",
          "text": [
            " 24 sucessfully saved 36100966.xml\n",
            " 25 sucessfully saved 36100966.xml\n"
          ],
          "name": "stdout"
        },
        {
          "output_type": "stream",
          "text": [
            "\r  2%|▏         | 27/1520 [00:08<07:55,  3.14it/s]"
          ],
          "name": "stderr"
        },
        {
          "output_type": "stream",
          "text": [
            " 26 sucessfully saved 36100966.xml\n",
            " 27 sucessfully saved 36100966.xml\n",
            " 28 sucessfully saved 36100966.xml\n",
            " 29 sucessfully saved 36100966.xml\n"
          ],
          "name": "stdout"
        },
        {
          "output_type": "stream",
          "text": [
            "\r  2%|▏         | 31/1520 [00:10<09:15,  2.68it/s]"
          ],
          "name": "stderr"
        },
        {
          "output_type": "stream",
          "text": [
            " 30 sucessfully saved 36100966.xml\n"
          ],
          "name": "stdout"
        },
        {
          "output_type": "stream",
          "text": [
            "  2%|▏         | 33/1520 [00:11<07:05,  3.49it/s]"
          ],
          "name": "stderr"
        },
        {
          "output_type": "stream",
          "text": [
            " 31 sucessfully saved 36100966.xml\n",
            " 32 sucessfully saved 36100966.xml\n",
            " 33 sucessfully saved 36100966.xml\n"
          ],
          "name": "stdout"
        },
        {
          "output_type": "stream",
          "text": [
            "\r  2%|▏         | 35/1520 [00:11<06:02,  4.10it/s]"
          ],
          "name": "stderr"
        },
        {
          "output_type": "stream",
          "text": [
            " 34 sucessfully saved 36100966.xml\n",
            " 35 sucessfully saved 36100966.xml\n",
            " 36 sucessfully saved 36100966.xml\n",
            " 37 sucessfully saved 36100966.xml\n"
          ],
          "name": "stdout"
        },
        {
          "output_type": "stream",
          "text": [
            "\r  3%|▎         | 39/1520 [00:12<04:54,  5.03it/s]"
          ],
          "name": "stderr"
        },
        {
          "output_type": "stream",
          "text": [
            " 38 sucessfully saved 36100966.xml\n",
            " 39 sucessfully saved 36100966.xml\n"
          ],
          "name": "stdout"
        },
        {
          "output_type": "stream",
          "text": [
            "\r  3%|▎         | 41/1520 [00:13<09:39,  2.55it/s]"
          ],
          "name": "stderr"
        },
        {
          "output_type": "stream",
          "text": [
            " 40 sucessfully saved 36100966.xml\n"
          ],
          "name": "stdout"
        },
        {
          "output_type": "stream",
          "text": [
            "\r  3%|▎         | 42/1520 [00:14<09:54,  2.49it/s]"
          ],
          "name": "stderr"
        },
        {
          "output_type": "stream",
          "text": [
            " 41 sucessfully saved 36100966.xml\n",
            " 42 sucessfully saved 36100966.xml\n",
            " 43 sucessfully saved 36100966.xml\n",
            " 44 sucessfully saved 36100966.xml\n"
          ],
          "name": "stdout"
        },
        {
          "output_type": "stream",
          "text": [
            "\r  3%|▎         | 46/1520 [00:14<07:37,  3.22it/s]"
          ],
          "name": "stderr"
        },
        {
          "output_type": "stream",
          "text": [
            " 45 sucessfully saved 36100966.xml\n",
            " 46 sucessfully saved 36100966.xml\n",
            " 47 sucessfully saved 36100966.xml\n",
            " 48 sucessfully saved 36100966.xml\n"
          ],
          "name": "stdout"
        },
        {
          "output_type": "stream",
          "text": [
            "\r  3%|▎         | 50/1520 [00:15<06:37,  3.70it/s]"
          ],
          "name": "stderr"
        },
        {
          "output_type": "stream",
          "text": [
            " 49 sucessfully saved 36100966.xml\n"
          ],
          "name": "stdout"
        },
        {
          "output_type": "stream",
          "text": [
            "\r  3%|▎         | 51/1520 [00:16<17:05,  1.43it/s]"
          ],
          "name": "stderr"
        },
        {
          "output_type": "stream",
          "text": [
            " 50 sucessfully saved 36100966.xml\n",
            " 51 sucessfully saved 36100966.xml\n"
          ],
          "name": "stdout"
        },
        {
          "output_type": "stream",
          "text": [
            "\r  3%|▎         | 53/1520 [00:21<29:29,  1.21s/it]"
          ],
          "name": "stderr"
        },
        {
          "output_type": "stream",
          "text": [
            " 52 sucessfully saved 36100966.xml\n"
          ],
          "name": "stdout"
        },
        {
          "output_type": "stream",
          "text": [
            "\r  4%|▎         | 54/1520 [00:23<36:49,  1.51s/it]"
          ],
          "name": "stderr"
        },
        {
          "output_type": "stream",
          "text": [
            " 53 sucessfully saved 36100966.xml\n"
          ],
          "name": "stdout"
        },
        {
          "output_type": "stream",
          "text": [
            "\r  4%|▎         | 55/1520 [00:30<1:15:16,  3.08s/it]"
          ],
          "name": "stderr"
        },
        {
          "output_type": "stream",
          "text": [
            " 54 sucessfully saved 36100966.xml\n",
            " 55 sucessfully saved 36100966.xml\n",
            " 56 sucessfully saved 36100966.xml\n"
          ],
          "name": "stdout"
        },
        {
          "output_type": "stream",
          "text": [
            "\r  4%|▍         | 58/1520 [00:38<1:12:25,  2.97s/it]"
          ],
          "name": "stderr"
        },
        {
          "output_type": "stream",
          "text": [
            " 57 sucessfully saved 36100966.xml\n"
          ],
          "name": "stdout"
        },
        {
          "output_type": "stream",
          "text": [
            "\r  4%|▍         | 59/1520 [00:49<2:05:17,  5.15s/it]"
          ],
          "name": "stderr"
        },
        {
          "output_type": "stream",
          "text": [
            " 58 sucessfully saved 36100966.xml\n",
            " 59 sucessfully saved 36100966.xml\n",
            " 60 sucessfully saved 36100966.xml\n",
            " 61 sucessfully saved 36100966.xml\n",
            " 62 sucessfully saved 36100966.xml\n",
            " 63 sucessfully saved 36100966.xml\n",
            " 64 sucessfully saved 36100966.xml\n",
            " 65 sucessfully saved 36100966.xml\n",
            " 66 sucessfully saved 36100966.xml\n",
            " 67 sucessfully saved 36100966.xml\n",
            " 68 sucessfully saved 36100966.xml\n",
            " 69 sucessfully saved 36100966.xml\n",
            " 70 sucessfully saved 36100966.xml\n",
            " 71 sucessfully saved 36100966.xml\n",
            " 72 sucessfully saved 36100966.xml\n"
          ],
          "name": "stdout"
        },
        {
          "output_type": "stream",
          "text": [
            "\r  5%|▍         | 74/1520 [00:49<1:27:10,  3.62s/it]"
          ],
          "name": "stderr"
        },
        {
          "output_type": "stream",
          "text": [
            " 73 sucessfully saved 36100966.xml\n",
            " 74 sucessfully saved 36100966.xml\n",
            " 75 sucessfully saved 36100966.xml\n",
            " 76 sucessfully saved 36100966.xml\n"
          ],
          "name": "stdout"
        },
        {
          "output_type": "stream",
          "text": [
            "\r  5%|▌         | 78/1520 [00:53<1:07:33,  2.81s/it]"
          ],
          "name": "stderr"
        },
        {
          "output_type": "stream",
          "text": [
            " 77 sucessfully saved 36100966.xml\n",
            " 78 sucessfully saved 36100966.xml\n"
          ],
          "name": "stdout"
        },
        {
          "output_type": "stream",
          "text": [
            "\r  5%|▌         | 80/1520 [00:54<50:33,  2.11s/it]  "
          ],
          "name": "stderr"
        },
        {
          "output_type": "stream",
          "text": [
            " 79 sucessfully saved 36100966.xml\n",
            " 80 sucessfully saved 36100966.xml\n"
          ],
          "name": "stdout"
        },
        {
          "output_type": "stream",
          "text": [
            "\r  5%|▌         | 82/1520 [00:54<36:54,  1.54s/it]"
          ],
          "name": "stderr"
        },
        {
          "output_type": "stream",
          "text": [
            " 81 sucessfully saved 36100966.xml\n",
            " 82 sucessfully saved 36100966.xml\n",
            " 83 sucessfully saved 36100966.xml\n",
            " 84 sucessfully saved 36100966.xml\n",
            " 85 sucessfully saved 36100966.xml\n",
            " 86 sucessfully saved 36100966.xml\n"
          ],
          "name": "stdout"
        },
        {
          "output_type": "stream",
          "text": [
            "\r  6%|▌         | 88/1520 [00:56<28:05,  1.18s/it]"
          ],
          "name": "stderr"
        },
        {
          "output_type": "stream",
          "text": [
            " 87 sucessfully saved 36100966.xml\n"
          ],
          "name": "stdout"
        },
        {
          "output_type": "stream",
          "text": [
            "\r  6%|▌         | 89/1520 [01:04<1:16:43,  3.22s/it]"
          ],
          "name": "stderr"
        },
        {
          "output_type": "stream",
          "text": [
            " 88 sucessfully saved 36100966.xml\n",
            " 89 sucessfully saved 36100966.xml\n",
            " 90 sucessfully saved 36100966.xml\n",
            " 91 sucessfully saved 36100966.xml\n",
            " 92 sucessfully saved 36100966.xml\n",
            " 93 sucessfully saved 36100966.xml\n"
          ],
          "name": "stdout"
        },
        {
          "output_type": "stream",
          "text": [
            "\r  6%|▋         | 95/1520 [01:26<1:19:02,  3.33s/it]"
          ],
          "name": "stderr"
        },
        {
          "output_type": "stream",
          "text": [
            " 94 sucessfully saved 36100966.xml\n",
            " 95 sucessfully saved 36100966.xml\n",
            " 96 sucessfully saved 36100966.xml\n",
            " 97 sucessfully saved 36100966.xml\n",
            " 98 sucessfully saved 36100966.xml\n",
            " 99 sucessfully saved 36100966.xml\n",
            " 100 sucessfully saved 36100966.xml\n",
            " 101 sucessfully saved 36100966.xml\n",
            " 102 sucessfully saved 36100966.xml\n",
            " 103 sucessfully saved 36100966.xml\n",
            " 104 sucessfully saved 36100966.xml\n",
            " 105 sucessfully saved 36100966.xml\n"
          ],
          "name": "stdout"
        },
        {
          "output_type": "stream",
          "text": [
            "\r  7%|▋         | 107/1520 [01:34<59:52,  2.54s/it] "
          ],
          "name": "stderr"
        },
        {
          "output_type": "stream",
          "text": [
            " 106 sucessfully saved 36100966.xml\n",
            " 107 sucessfully saved 36100966.xml\n",
            " 108 sucessfully saved 36100966.xml\n",
            " 109 sucessfully saved 36100966.xml\n",
            " 110 sucessfully saved 36100966.xml\n",
            " 111 sucessfully saved 36100966.xml\n",
            " 112 sucessfully saved 36100966.xml\n",
            " 113 sucessfully saved 36100966.xml\n",
            " 114 sucessfully saved 36100966.xml\n"
          ],
          "name": "stdout"
        },
        {
          "output_type": "stream",
          "text": [
            "\r  8%|▊         | 116/1520 [01:40<46:14,  1.98s/it]"
          ],
          "name": "stderr"
        },
        {
          "output_type": "stream",
          "text": [
            " 115 sucessfully saved 36100966.xml\n",
            " 116 sucessfully saved 36100966.xml\n",
            " 117 sucessfully saved 36100966.xml\n",
            " 118 sucessfully saved 36100966.xml\n",
            " 119 sucessfully saved 36100966.xml\n"
          ],
          "name": "stdout"
        },
        {
          "output_type": "stream",
          "text": [
            "\r  8%|▊         | 121/1520 [01:42<35:16,  1.51s/it]"
          ],
          "name": "stderr"
        },
        {
          "output_type": "stream",
          "text": [
            " 120 sucessfully saved 36100966.xml\n",
            " 121 sucessfully saved 36100966.xml\n"
          ],
          "name": "stdout"
        },
        {
          "output_type": "stream",
          "text": [
            "\r  8%|▊         | 123/1520 [01:52<58:11,  2.50s/it]"
          ],
          "name": "stderr"
        },
        {
          "output_type": "stream",
          "text": [
            " 122 sucessfully saved 36100966.xml\n",
            " 123 sucessfully saved 36100966.xml\n",
            " 124 sucessfully saved 36100966.xml\n",
            " 125 sucessfully saved 36100966.xml\n",
            " 126 sucessfully saved 36100966.xml\n",
            " 127 sucessfully saved 36100966.xml\n",
            " 128 sucessfully saved 36100966.xml\n"
          ],
          "name": "stdout"
        },
        {
          "output_type": "stream",
          "text": [
            "\r  9%|▊         | 130/1520 [02:08<55:53,  2.41s/it]"
          ],
          "name": "stderr"
        },
        {
          "output_type": "stream",
          "text": [
            " 129 sucessfully saved 36100966.xml\n",
            " 130 sucessfully saved 36100966.xml\n",
            " 131 sucessfully saved 36100966.xml\n",
            " 132 sucessfully saved 36100966.xml\n",
            " 133 sucessfully saved 36100966.xml\n",
            " 134 sucessfully saved 36100966.xml\n"
          ],
          "name": "stdout"
        },
        {
          "output_type": "stream",
          "text": [
            "\r  9%|▉         | 136/1520 [02:08<39:17,  1.70s/it]"
          ],
          "name": "stderr"
        },
        {
          "output_type": "stream",
          "text": [
            " 135 sucessfully saved 36100966.xml\n",
            " 136 sucessfully saved 36100966.xml\n",
            " 137 sucessfully saved 36100966.xml\n",
            " 138 sucessfully saved 36100966.xml\n",
            " 139 sucessfully saved 36100966.xml\n",
            " 140 sucessfully saved 36100966.xml\n",
            " 141 sucessfully saved 36100966.xml\n",
            " 142 sucessfully saved 36100966.xml\n",
            " 143 sucessfully saved 36100966.xml\n",
            " 144 sucessfully saved 36100966.xml\n",
            " 145 sucessfully saved 36100966.xml\n",
            " 146 sucessfully saved 36100966.xml\n"
          ],
          "name": "stdout"
        },
        {
          "output_type": "stream",
          "text": [
            "\r 10%|▉         | 148/1520 [02:17<32:31,  1.42s/it]"
          ],
          "name": "stderr"
        },
        {
          "output_type": "stream",
          "text": [
            " 147 sucessfully saved 36100966.xml\n",
            " 148 sucessfully saved 36100966.xml\n",
            " 149 sucessfully saved 36100966.xml\n",
            " 150 sucessfully saved 36100966.xml\n",
            " 151 sucessfully saved 36100966.xml\n"
          ],
          "name": "stdout"
        },
        {
          "output_type": "stream",
          "text": [
            "\r 10%|█         | 153/1520 [02:29<39:00,  1.71s/it]"
          ],
          "name": "stderr"
        },
        {
          "output_type": "stream",
          "text": [
            " 152 sucessfully saved 36100966.xml\n",
            " 153 sucessfully saved 36100966.xml\n",
            " 154 sucessfully saved 36100966.xml\n",
            " 155 sucessfully saved 36100966.xml\n",
            " 156 sucessfully saved 36100966.xml\n",
            " 157 sucessfully saved 36100966.xml\n",
            " 158 sucessfully saved 36100966.xml\n",
            " 159 sucessfully saved 36100966.xml\n",
            " 160 sucessfully saved 36100966.xml\n",
            " 161 sucessfully saved 36100966.xml\n",
            " 162 sucessfully saved 36100966.xml\n",
            " 163 sucessfully saved 36100966.xml\n",
            " 164 sucessfully saved 36100966.xml\n"
          ],
          "name": "stdout"
        },
        {
          "output_type": "stream",
          "text": [
            "\r 11%|█         | 166/1520 [02:41<33:18,  1.48s/it]"
          ],
          "name": "stderr"
        },
        {
          "output_type": "stream",
          "text": [
            " 165 sucessfully saved 36100966.xml\n",
            " 166 sucessfully saved 36100966.xml\n",
            " 167 sucessfully saved 36100966.xml\n",
            " 168 sucessfully saved 36100966.xml\n",
            " 169 sucessfully saved 36100966.xml\n",
            " 170 sucessfully saved 36100966.xml\n",
            " 171 sucessfully saved 36100966.xml\n",
            " 172 sucessfully saved 36100966.xml\n",
            " 173 sucessfully saved 36100966.xml\n",
            " 174 sucessfully saved 36100966.xml\n",
            " 175 sucessfully saved 36100966.xml\n"
          ],
          "name": "stdout"
        },
        {
          "output_type": "stream",
          "text": [
            "\r 12%|█▏        | 177/1520 [03:04<37:20,  1.67s/it]"
          ],
          "name": "stderr"
        },
        {
          "output_type": "stream",
          "text": [
            " 176 sucessfully saved 36100966.xml\n",
            " 177 sucessfully saved 36100966.xml\n",
            " 178 sucessfully saved 36100966.xml\n",
            " 179 sucessfully saved 36100966.xml\n",
            " 180 sucessfully saved 36100966.xml\n",
            " 181 sucessfully saved 36100966.xml\n",
            " 182 sucessfully saved 36100966.xml\n",
            " 183 sucessfully saved 36100966.xml\n"
          ],
          "name": "stdout"
        },
        {
          "output_type": "stream",
          "text": [
            "\r 12%|█▏        | 185/1520 [03:06<27:15,  1.23s/it]"
          ],
          "name": "stderr"
        },
        {
          "output_type": "stream",
          "text": [
            " 184 sucessfully saved 36100966.xml\n",
            " 185 sucessfully saved 36100966.xml\n",
            " 186 sucessfully saved 36100966.xml\n",
            " 187 sucessfully saved 36100966.xml\n",
            " 188 sucessfully saved 36100966.xml\n",
            " 189 sucessfully saved 36100966.xml\n",
            " 190 sucessfully saved 36100966.xml\n"
          ],
          "name": "stdout"
        },
        {
          "output_type": "stream",
          "text": [
            "\r 13%|█▎        | 192/1520 [03:28<39:46,  1.80s/it]"
          ],
          "name": "stderr"
        },
        {
          "output_type": "stream",
          "text": [
            " 191 sucessfully saved 36100966.xml\n",
            " 192 sucessfully saved 36100966.xml\n",
            " 193 sucessfully saved 36100966.xml\n",
            " 194 sucessfully saved 36100966.xml\n",
            " 195 sucessfully saved 36100966.xml\n",
            " 196 sucessfully saved 36100966.xml\n",
            " 197 sucessfully saved 36100966.xml\n",
            " 198 sucessfully saved 36100966.xml\n",
            " 199 sucessfully saved 36100966.xml\n",
            " 200 sucessfully saved 36100966.xml\n",
            " 201 sucessfully saved 36100966.xml\n",
            " 202 sucessfully saved 36100966.xml\n",
            " 203 sucessfully saved 36100966.xml\n",
            " 204 sucessfully saved 36100966.xml\n",
            " 205 sucessfully saved 36100966.xml\n",
            " 206 sucessfully saved 36100966.xml\n",
            " 207 sucessfully saved 36100966.xml\n",
            " 208 sucessfully saved 36100966.xml\n"
          ],
          "name": "stdout"
        },
        {
          "output_type": "stream",
          "text": [
            "\r 14%|█▍        | 210/1520 [03:34<29:55,  1.37s/it]"
          ],
          "name": "stderr"
        },
        {
          "output_type": "stream",
          "text": [
            " 209 sucessfully saved 36100966.xml\n",
            " 210 sucessfully saved 36100966.xml\n",
            " 211 sucessfully saved 36100966.xml\n",
            " 212 sucessfully saved 36100966.xml\n"
          ],
          "name": "stdout"
        },
        {
          "output_type": "stream",
          "text": [
            " 15%|█▌        | 228/1520 [03:47<28:03,  1.30s/it]"
          ],
          "name": "stderr"
        },
        {
          "output_type": "stream",
          "text": [
            " 213 sucessfully saved 36100966.xml\n",
            " 214 sucessfully saved 36100966.xml\n",
            " 215 sucessfully saved 36100966.xml\n",
            " 216 sucessfully saved 36100966.xml\n",
            " 217 sucessfully saved 36100966.xml\n",
            " 218 sucessfully saved 36100966.xml\n",
            " 219 sucessfully saved 36100966.xml\n",
            " 220 sucessfully saved 36100966.xml\n",
            " 221 sucessfully saved 36100966.xml\n",
            " 222 sucessfully saved 36100966.xml\n",
            " 223 sucessfully saved 36100966.xml\n",
            " 224 sucessfully saved 36100966.xml\n",
            " 225 sucessfully saved 36100966.xml\n",
            " 226 sucessfully saved 36100966.xml\n",
            " 227 sucessfully saved 36100966.xml\n",
            " 228 sucessfully saved 36100966.xml\n",
            " 229 sucessfully saved 36100966.xml\n"
          ],
          "name": "stdout"
        },
        {
          "output_type": "stream",
          "text": [
            "\r 15%|█▌        | 231/1520 [03:58<43:53,  2.04s/it]"
          ],
          "name": "stderr"
        },
        {
          "output_type": "stream",
          "text": [
            " 230 sucessfully saved 36100966.xml\n",
            " 231 sucessfully saved 36100966.xml\n",
            " 232 sucessfully saved 36100966.xml\n"
          ],
          "name": "stdout"
        },
        {
          "output_type": "stream",
          "text": [
            "\r 15%|█▌        | 234/1520 [04:00<35:52,  1.67s/it]"
          ],
          "name": "stderr"
        },
        {
          "output_type": "stream",
          "text": [
            " 233 sucessfully saved 36100966.xml\n",
            " 234 sucessfully saved 36100966.xml\n",
            " 235 sucessfully saved 36100966.xml\n",
            " 236 sucessfully saved 36100966.xml\n",
            " 237 sucessfully saved 36100966.xml\n",
            " 238 sucessfully saved 36100966.xml\n"
          ],
          "name": "stdout"
        },
        {
          "output_type": "stream",
          "text": [
            "\r 16%|█▌        | 240/1520 [04:01<25:43,  1.21s/it]"
          ],
          "name": "stderr"
        },
        {
          "output_type": "stream",
          "text": [
            " 239 sucessfully saved 36100966.xml\n",
            " 240 sucessfully saved 36100966.xml\n",
            " 241 sucessfully saved 36100966.xml\n",
            " 242 sucessfully saved 36100966.xml\n"
          ],
          "name": "stdout"
        },
        {
          "output_type": "stream",
          "text": [
            "\r 16%|█▌        | 244/1520 [04:09<30:14,  1.42s/it]"
          ],
          "name": "stderr"
        },
        {
          "output_type": "stream",
          "text": [
            " 243 sucessfully saved 36100966.xml\n",
            " 244 sucessfully saved 36100966.xml\n",
            " 245 sucessfully saved 36100966.xml\n",
            " 246 sucessfully saved 36100966.xml\n",
            " 247 sucessfully saved 36100966.xml\n"
          ],
          "name": "stdout"
        },
        {
          "output_type": "stream",
          "text": [
            "\r 16%|█▋        | 249/1520 [04:11<23:38,  1.12s/it]"
          ],
          "name": "stderr"
        },
        {
          "output_type": "stream",
          "text": [
            " 248 sucessfully saved 36100966.xml\n",
            " 249 sucessfully saved 36100966.xml\n"
          ],
          "name": "stdout"
        },
        {
          "output_type": "stream",
          "text": [
            "\r 17%|█▋        | 251/1520 [04:21<47:31,  2.25s/it]"
          ],
          "name": "stderr"
        },
        {
          "output_type": "stream",
          "text": [
            " 250 sucessfully saved 36100966.xml\n",
            " 251 sucessfully saved 36100966.xml\n",
            " 252 sucessfully saved 36100966.xml\n",
            " 253 sucessfully saved 36100966.xml\n"
          ],
          "name": "stdout"
        },
        {
          "output_type": "stream",
          "text": [
            "\r 17%|█▋        | 255/1520 [04:23<37:23,  1.77s/it]"
          ],
          "name": "stderr"
        },
        {
          "output_type": "stream",
          "text": [
            " 254 sucessfully saved 36100966.xml\n",
            " 255 sucessfully saved 36100966.xml\n",
            " 256 sucessfully saved 36100966.xml\n",
            " 257 sucessfully saved 36100966.xml\n",
            " 258 sucessfully saved 36100966.xml\n",
            " 259 sucessfully saved 36100966.xml\n",
            " 260 sucessfully saved 36100966.xml\n",
            " 261 sucessfully saved 36100966.xml\n",
            " 262 sucessfully saved 36100966.xml\n",
            " 263 sucessfully saved 36100966.xml\n",
            " 264 sucessfully saved 36100966.xml\n",
            " 265 sucessfully saved 36100966.xml\n"
          ],
          "name": "stdout"
        },
        {
          "output_type": "stream",
          "text": [
            "\r 18%|█▊        | 267/1520 [04:29<28:46,  1.38s/it]"
          ],
          "name": "stderr"
        },
        {
          "output_type": "stream",
          "text": [
            " 266 sucessfully saved 36100966.xml\n",
            " 267 sucessfully saved 36100966.xml\n"
          ],
          "name": "stdout"
        },
        {
          "output_type": "stream",
          "text": [
            "\r 18%|█▊        | 269/1520 [04:30<24:04,  1.15s/it]"
          ],
          "name": "stderr"
        },
        {
          "output_type": "stream",
          "text": [
            " 268 sucessfully saved 36100966.xml\n"
          ],
          "name": "stdout"
        },
        {
          "output_type": "stream",
          "text": [
            "\r 18%|█▊        | 270/1520 [04:32<31:33,  1.52s/it]"
          ],
          "name": "stderr"
        },
        {
          "output_type": "stream",
          "text": [
            " 269 sucessfully saved 36100966.xml\n"
          ],
          "name": "stdout"
        },
        {
          "output_type": "stream",
          "text": [
            "\r 18%|█▊        | 271/1520 [04:36<46:12,  2.22s/it]"
          ],
          "name": "stderr"
        },
        {
          "output_type": "stream",
          "text": [
            " 270 sucessfully saved 36100966.xml\n",
            " 271 sucessfully saved 36100966.xml\n",
            " 272 sucessfully saved 36100966.xml\n"
          ],
          "name": "stdout"
        },
        {
          "output_type": "stream",
          "text": [
            "\r 18%|█▊        | 274/1520 [04:39<37:26,  1.80s/it]"
          ],
          "name": "stderr"
        },
        {
          "output_type": "stream",
          "text": [
            " 273 sucessfully saved 36100966.xml\n"
          ],
          "name": "stdout"
        },
        {
          "output_type": "stream",
          "text": [
            "\r 18%|█▊        | 275/1520 [04:40<32:03,  1.54s/it]"
          ],
          "name": "stderr"
        },
        {
          "output_type": "stream",
          "text": [
            " 274 sucessfully saved 36100966.xml\n",
            " 275 sucessfully saved 36100966.xml\n",
            " 276 sucessfully saved 36100966.xml\n"
          ],
          "name": "stdout"
        },
        {
          "output_type": "stream",
          "text": [
            "\r 18%|█▊        | 278/1520 [05:19<1:44:15,  5.04s/it]"
          ],
          "name": "stderr"
        },
        {
          "output_type": "stream",
          "text": [
            " 277 sucessfully saved 36100966.xml\n",
            " 278 sucessfully saved 36100966.xml\n",
            " 279 sucessfully saved 36100966.xml\n",
            " 280 sucessfully saved 36100966.xml\n",
            " 281 sucessfully saved 36100966.xml\n",
            " 282 sucessfully saved 36100966.xml\n",
            " 283 sucessfully saved 36100966.xml\n",
            " 284 sucessfully saved 36100966.xml\n",
            " 285 sucessfully saved 36100966.xml\n",
            " 286 sucessfully saved 36100966.xml\n",
            " 287 sucessfully saved 36100966.xml\n",
            " 288 sucessfully saved 36100966.xml\n",
            " 289 sucessfully saved 36100966.xml\n",
            " 290 sucessfully saved 36100966.xml\n",
            " 291 sucessfully saved 36100966.xml\n",
            " 292 sucessfully saved 36100966.xml\n",
            " 293 sucessfully saved 36100966.xml\n",
            " 294 sucessfully saved 36100966.xml\n",
            " 295 sucessfully saved 36100966.xml\n",
            " 296 sucessfully saved 36100966.xml\n",
            " 297 sucessfully saved 36100966.xml\n",
            " 298 sucessfully saved 36100966.xml\n",
            " 299 sucessfully saved 36100966.xml\n",
            " 300 sucessfully saved 36100966.xml\n",
            " 301 sucessfully saved 36100966.xml\n"
          ],
          "name": "stdout"
        },
        {
          "output_type": "stream",
          "text": [
            "\r 20%|█▉        | 303/1520 [05:23<1:12:30,  3.57s/it]"
          ],
          "name": "stderr"
        },
        {
          "output_type": "stream",
          "text": [
            " 302 sucessfully saved 36100966.xml\n",
            " 303 sucessfully saved 36100966.xml\n",
            " 304 sucessfully saved 36100966.xml\n",
            " 305 sucessfully saved 36100966.xml\n",
            " 306 sucessfully saved 36100966.xml\n",
            " 307 sucessfully saved 36100966.xml\n",
            " 308 sucessfully saved 36100966.xml\n",
            " 309 sucessfully saved 36100966.xml\n",
            " 310 sucessfully saved 36100966.xml\n",
            " 311 sucessfully saved 36100966.xml\n",
            " 312 sucessfully saved 36100966.xml\n"
          ],
          "name": "stdout"
        },
        {
          "output_type": "stream",
          "text": [
            "\r 21%|██        | 314/1520 [05:24<50:34,  2.52s/it]  "
          ],
          "name": "stderr"
        },
        {
          "output_type": "stream",
          "text": [
            " 313 sucessfully saved 36100966.xml\n",
            " 314 sucessfully saved 36100966.xml\n",
            " 315 sucessfully saved 36100966.xml\n"
          ],
          "name": "stdout"
        },
        {
          "output_type": "stream",
          "text": [
            "\r 21%|██        | 317/1520 [05:26<39:26,  1.97s/it]"
          ],
          "name": "stderr"
        },
        {
          "output_type": "stream",
          "text": [
            " 316 sucessfully saved 36100966.xml\n",
            " 317 sucessfully saved 36100966.xml\n"
          ],
          "name": "stdout"
        },
        {
          "output_type": "stream",
          "text": [
            "\r 21%|██        | 319/1520 [05:32<45:29,  2.27s/it]"
          ],
          "name": "stderr"
        },
        {
          "output_type": "stream",
          "text": [
            " 318 sucessfully saved 36100966.xml\n",
            " 319 sucessfully saved 36100966.xml\n",
            " 320 sucessfully saved 36100966.xml\n",
            " 321 sucessfully saved 36100966.xml\n",
            " 322 sucessfully saved 36100966.xml\n"
          ],
          "name": "stdout"
        },
        {
          "output_type": "stream",
          "text": [
            "\r 21%|██▏       | 324/1520 [05:33<33:15,  1.67s/it]"
          ],
          "name": "stderr"
        },
        {
          "output_type": "stream",
          "text": [
            " 323 sucessfully saved 36100966.xml\n",
            " 324 sucessfully saved 36100966.xml\n",
            " 325 sucessfully saved 36100966.xml\n",
            " 326 sucessfully saved 36100966.xml\n"
          ],
          "name": "stdout"
        },
        {
          "output_type": "stream",
          "text": [
            "\r 22%|██▏       | 328/1520 [05:37<29:25,  1.48s/it]"
          ],
          "name": "stderr"
        },
        {
          "output_type": "stream",
          "text": [
            " 327 sucessfully saved 36100966.xml\n",
            " 328 sucessfully saved 36100966.xml\n",
            " 329 sucessfully saved 36100966.xml\n"
          ],
          "name": "stdout"
        },
        {
          "output_type": "stream",
          "text": [
            "\r 22%|██▏       | 331/1520 [05:50<45:08,  2.28s/it]"
          ],
          "name": "stderr"
        },
        {
          "output_type": "stream",
          "text": [
            " 330 sucessfully saved 36100966.xml\n",
            " 331 sucessfully saved 36100966.xml\n",
            " 332 sucessfully saved 36100966.xml\n",
            " 333 sucessfully saved 36100966.xml\n",
            " 334 sucessfully saved 36100966.xml\n",
            " 335 sucessfully saved 36100966.xml\n",
            " 336 sucessfully saved 36100966.xml\n",
            " 337 sucessfully saved 36100966.xml\n",
            " 338 sucessfully saved 36100966.xml\n",
            " 339 sucessfully saved 36100966.xml\n",
            " 340 sucessfully saved 36100966.xml\n",
            " 341 sucessfully saved 36100966.xml\n"
          ],
          "name": "stdout"
        },
        {
          "output_type": "stream",
          "text": [
            "\r 23%|██▎       | 343/1520 [05:52<32:36,  1.66s/it]"
          ],
          "name": "stderr"
        },
        {
          "output_type": "stream",
          "text": [
            " 342 sucessfully saved 36100966.xml\n"
          ],
          "name": "stdout"
        },
        {
          "output_type": "stream",
          "text": [
            "\r 23%|██▎       | 344/1520 [05:53<26:34,  1.36s/it]"
          ],
          "name": "stderr"
        },
        {
          "output_type": "stream",
          "text": [
            " 343 sucessfully saved 36100966.xml\n",
            " 344 sucessfully saved 36100966.xml\n",
            " 345 sucessfully saved 36100966.xml\n",
            " 346 sucessfully saved 36100966.xml\n",
            " 347 sucessfully saved 36100966.xml\n",
            " 348 sucessfully saved 36100966.xml\n",
            " 349 sucessfully saved 36100966.xml\n"
          ],
          "name": "stdout"
        },
        {
          "output_type": "stream",
          "text": [
            "\r 23%|██▎       | 351/1520 [05:58<22:39,  1.16s/it]"
          ],
          "name": "stderr"
        },
        {
          "output_type": "stream",
          "text": [
            " 350 sucessfully saved 36100966.xml\n",
            " 351 sucessfully saved 36100966.xml\n",
            " 352 sucessfully saved 36100966.xml\n"
          ],
          "name": "stdout"
        },
        {
          "output_type": "stream",
          "text": [
            "\r 23%|██▎       | 354/1520 [06:02<23:39,  1.22s/it]"
          ],
          "name": "stderr"
        },
        {
          "output_type": "stream",
          "text": [
            " 353 sucessfully saved 36100966.xml\n",
            " 354 sucessfully saved 36100966.xml\n",
            " 355 sucessfully saved 36100966.xml\n",
            " 356 sucessfully saved 36100966.xml\n"
          ],
          "name": "stdout"
        },
        {
          "output_type": "stream",
          "text": [
            "\r 24%|██▎       | 358/1520 [06:21<44:04,  2.28s/it]"
          ],
          "name": "stderr"
        },
        {
          "output_type": "stream",
          "text": [
            " 357 sucessfully saved 36100966.xml\n",
            " 358 sucessfully saved 36100966.xml\n",
            " 359 sucessfully saved 36100966.xml\n",
            " 360 sucessfully saved 36100966.xml\n",
            " 361 sucessfully saved 36100966.xml\n",
            " 362 sucessfully saved 36100966.xml\n",
            " 363 sucessfully saved 36100966.xml\n",
            " 364 sucessfully saved 36100966.xml\n",
            " 365 sucessfully saved 36100966.xml\n",
            " 366 sucessfully saved 36100966.xml\n",
            " 367 sucessfully saved 36100966.xml\n",
            " 368 sucessfully saved 36100966.xml\n",
            " 369 sucessfully saved 36100966.xml\n",
            " 370 sucessfully saved 36100966.xml\n",
            " 371 sucessfully saved 36100966.xml\n",
            " 372 sucessfully saved 36100966.xml\n",
            " 373 sucessfully saved 36100966.xml\n",
            " 374 sucessfully saved 36100966.xml\n",
            " 375 sucessfully saved 36100966.xml\n"
          ],
          "name": "stdout"
        },
        {
          "output_type": "stream",
          "text": [
            "\r 25%|██▍       | 377/1520 [06:33<33:53,  1.78s/it]"
          ],
          "name": "stderr"
        },
        {
          "output_type": "stream",
          "text": [
            " 376 sucessfully saved 36100966.xml\n",
            " 377 sucessfully saved 36100966.xml\n",
            " 378 sucessfully saved 36100966.xml\n"
          ],
          "name": "stdout"
        },
        {
          "output_type": "stream",
          "text": [
            "\r 25%|██▌       | 380/1520 [06:39<35:01,  1.84s/it]"
          ],
          "name": "stderr"
        },
        {
          "output_type": "stream",
          "text": [
            " 379 sucessfully saved 36100966.xml\n",
            " 380 sucessfully saved 36100966.xml\n",
            " 381 sucessfully saved 36100966.xml\n",
            " 382 sucessfully saved 36100966.xml\n",
            " 383 sucessfully saved 36100966.xml\n",
            " 384 sucessfully saved 36100966.xml\n",
            " 385 sucessfully saved 36100966.xml\n",
            " 386 sucessfully saved 36100966.xml\n",
            " 387 sucessfully saved 36100966.xml\n",
            " 388 sucessfully saved 36100966.xml\n",
            " 389 sucessfully saved 36100966.xml\n"
          ],
          "name": "stdout"
        },
        {
          "output_type": "stream",
          "text": [
            "\r 26%|██▌       | 391/1520 [06:41<25:25,  1.35s/it]"
          ],
          "name": "stderr"
        },
        {
          "output_type": "stream",
          "text": [
            " 390 sucessfully saved 36100966.xml\n",
            " 391 sucessfully saved 36100966.xml\n",
            " 392 sucessfully saved 36100966.xml\n",
            " 393 sucessfully saved 36100966.xml\n",
            " 394 sucessfully saved 36100966.xml\n",
            " 395 sucessfully saved 36100966.xml\n",
            " 396 sucessfully saved 36100966.xml\n",
            " 397 sucessfully saved 36100966.xml\n",
            " 398 sucessfully saved 36100966.xml\n",
            " 399 sucessfully saved 36100966.xml\n"
          ],
          "name": "stdout"
        },
        {
          "output_type": "stream",
          "text": [
            "\r 26%|██▋       | 401/1520 [06:46<20:33,  1.10s/it]"
          ],
          "name": "stderr"
        },
        {
          "output_type": "stream",
          "text": [
            " 400 sucessfully saved 36100966.xml\n",
            " 401 sucessfully saved 36100966.xml\n",
            " 402 sucessfully saved 36100966.xml\n",
            " 403 sucessfully saved 36100966.xml\n"
          ],
          "name": "stdout"
        },
        {
          "output_type": "stream",
          "text": [
            "\r 27%|██▋       | 405/1520 [06:48<17:16,  1.08it/s]"
          ],
          "name": "stderr"
        },
        {
          "output_type": "stream",
          "text": [
            " 404 sucessfully saved 36100966.xml\n"
          ],
          "name": "stdout"
        },
        {
          "output_type": "stream",
          "text": [
            "\r 27%|██▋       | 406/1520 [06:49<17:36,  1.05it/s]"
          ],
          "name": "stderr"
        },
        {
          "output_type": "stream",
          "text": [
            " 405 sucessfully saved 36100966.xml\n",
            " 406 sucessfully saved 36100966.xml\n"
          ],
          "name": "stdout"
        },
        {
          "output_type": "stream",
          "text": [
            "\r 27%|██▋       | 408/1520 [06:56<31:32,  1.70s/it]"
          ],
          "name": "stderr"
        },
        {
          "output_type": "stream",
          "text": [
            " 407 sucessfully saved 36100966.xml\n",
            " 408 sucessfully saved 36100966.xml\n",
            " 409 sucessfully saved 36100966.xml\n",
            " 410 sucessfully saved 36100966.xml\n",
            " 411 sucessfully saved 36100966.xml\n"
          ],
          "name": "stdout"
        },
        {
          "output_type": "stream",
          "text": [
            "\r 27%|██▋       | 413/1520 [06:57<22:29,  1.22s/it]"
          ],
          "name": "stderr"
        },
        {
          "output_type": "stream",
          "text": [
            " 412 sucessfully saved 36100966.xml\n",
            " 413 sucessfully saved 36100966.xml\n",
            " 414 sucessfully saved 36100966.xml\n",
            " 415 sucessfully saved 36100966.xml\n",
            " 416 sucessfully saved 36100966.xml\n",
            " 417 sucessfully saved 36100966.xml\n"
          ],
          "name": "stdout"
        },
        {
          "output_type": "stream",
          "text": [
            "\r 28%|██▊       | 419/1520 [07:01<19:32,  1.06s/it]"
          ],
          "name": "stderr"
        },
        {
          "output_type": "stream",
          "text": [
            " 418 sucessfully saved 36100966.xml\n",
            " 419 sucessfully saved 36100966.xml\n"
          ],
          "name": "stdout"
        },
        {
          "output_type": "stream",
          "text": [
            "\r 28%|██▊       | 421/1520 [07:04<22:38,  1.24s/it]"
          ],
          "name": "stderr"
        },
        {
          "output_type": "stream",
          "text": [
            " 420 sucessfully saved 36100966.xml\n",
            " 421 sucessfully saved 36100966.xml\n",
            " 422 sucessfully saved 36100966.xml\n",
            " 423 sucessfully saved 36100966.xml\n",
            " 424 sucessfully saved 36100966.xml\n",
            " 425 sucessfully saved 36100966.xml\n"
          ],
          "name": "stdout"
        },
        {
          "output_type": "stream",
          "text": [
            "\r 28%|██▊       | 427/1520 [07:11<21:56,  1.20s/it]"
          ],
          "name": "stderr"
        },
        {
          "output_type": "stream",
          "text": [
            " 426 sucessfully saved 36100966.xml\n",
            " 427 sucessfully saved 36100966.xml\n"
          ],
          "name": "stdout"
        },
        {
          "output_type": "stream",
          "text": [
            "\r 28%|██▊       | 429/1520 [07:21<43:35,  2.40s/it]"
          ],
          "name": "stderr"
        },
        {
          "output_type": "stream",
          "text": [
            " 428 sucessfully saved 36100966.xml\n",
            " 429 sucessfully saved 36100966.xml\n",
            " 430 sucessfully saved 36100966.xml\n",
            " 431 sucessfully saved 36100966.xml\n",
            " 432 sucessfully saved 36100966.xml\n",
            " 433 sucessfully saved 36100966.xml\n",
            " 434 sucessfully saved 36100966.xml\n",
            " 435 sucessfully saved 36100966.xml\n",
            " 436 sucessfully saved 36100966.xml\n",
            " 437 sucessfully saved 36100966.xml\n",
            " 438 sucessfully saved 36100966.xml\n",
            " 439 sucessfully saved 36100966.xml\n",
            " 440 sucessfully saved 36100966.xml\n",
            " 441 sucessfully saved 36100966.xml\n",
            " 442 sucessfully saved 36100966.xml\n",
            " 443 sucessfully saved 36100966.xml\n",
            " 444 sucessfully saved 36100966.xml\n"
          ],
          "name": "stdout"
        },
        {
          "output_type": "stream",
          "text": [
            "\r 29%|██▉       | 446/1520 [07:46<37:52,  2.12s/it]"
          ],
          "name": "stderr"
        },
        {
          "output_type": "stream",
          "text": [
            " 445 sucessfully saved 36100966.xml\n",
            " 446 sucessfully saved 36100966.xml\n",
            " 447 sucessfully saved 36100966.xml\n",
            " 448 sucessfully saved 36100966.xml\n",
            " 449 sucessfully saved 36100966.xml\n",
            " 450 sucessfully saved 36100966.xml\n",
            " 451 sucessfully saved 36100966.xml\n",
            " 452 sucessfully saved 36100966.xml\n",
            " 453 sucessfully saved 36100966.xml\n",
            " 454 sucessfully saved 36100966.xml\n",
            " 455 sucessfully saved 36100966.xml\n",
            " 456 sucessfully saved 36100966.xml\n",
            " 457 sucessfully saved 36100966.xml\n",
            " 458 sucessfully saved 36100966.xml\n",
            " 459 sucessfully saved 36100966.xml\n",
            " 460 sucessfully saved 36100966.xml\n",
            " 461 sucessfully saved 36100966.xml\n",
            " 462 sucessfully saved 36100966.xml\n",
            " 463 sucessfully saved 36100966.xml\n"
          ],
          "name": "stdout"
        },
        {
          "output_type": "stream",
          "text": [
            "\r 31%|███       | 465/1520 [07:55<28:33,  1.62s/it]"
          ],
          "name": "stderr"
        },
        {
          "output_type": "stream",
          "text": [
            " 464 sucessfully saved 36100966.xml\n",
            " 465 sucessfully saved 36100966.xml\n",
            " 466 sucessfully saved 36100966.xml\n"
          ],
          "name": "stdout"
        },
        {
          "output_type": "stream",
          "text": [
            "\r 31%|███       | 468/1520 [08:09<43:25,  2.48s/it]"
          ],
          "name": "stderr"
        },
        {
          "output_type": "stream",
          "text": [
            " 467 sucessfully saved 36100966.xml\n",
            " 468 sucessfully saved 36100966.xml\n",
            " 469 sucessfully saved 36100966.xml\n",
            " 470 sucessfully saved 36100966.xml\n",
            " 471 sucessfully saved 36100966.xml\n",
            " 472 sucessfully saved 36100966.xml\n",
            " 473 sucessfully saved 36100966.xml\n",
            " 474 sucessfully saved 36100966.xml\n",
            " 475 sucessfully saved 36100966.xml\n",
            " 476 sucessfully saved 36100966.xml\n",
            " 477 sucessfully saved 36100966.xml\n",
            " 478 sucessfully saved 36100966.xml\n",
            " 479 sucessfully saved 36100966.xml\n",
            " 480 sucessfully saved 36100966.xml\n",
            " 481 sucessfully saved 36100966.xml\n",
            " 482 sucessfully saved 36100966.xml\n",
            " 483 sucessfully saved 36100966.xml\n",
            " 484 sucessfully saved 36100966.xml\n",
            " 485 sucessfully saved 36100966.xml\n",
            " 486 sucessfully saved 36100966.xml\n"
          ],
          "name": "stdout"
        },
        {
          "output_type": "stream",
          "text": [
            "\r 32%|███▏      | 488/1520 [08:20<32:46,  1.91s/it]"
          ],
          "name": "stderr"
        },
        {
          "output_type": "stream",
          "text": [
            " 487 sucessfully saved 36100966.xml\n",
            " 488 sucessfully saved 36100966.xml\n",
            " 489 sucessfully saved 36100966.xml\n",
            " 490 sucessfully saved 36100966.xml\n"
          ],
          "name": "stdout"
        },
        {
          "output_type": "stream",
          "text": [
            "\r 32%|███▏      | 492/1520 [08:24<28:06,  1.64s/it]"
          ],
          "name": "stderr"
        },
        {
          "output_type": "stream",
          "text": [
            " 491 sucessfully saved 36100966.xml\n",
            " 492 sucessfully saved 36100966.xml\n",
            " 493 sucessfully saved 36100966.xml\n",
            " 494 sucessfully saved 36100966.xml\n",
            " 495 sucessfully saved 36100966.xml\n",
            " 496 sucessfully saved 36100966.xml\n",
            " 497 sucessfully saved 36100966.xml\n"
          ],
          "name": "stdout"
        },
        {
          "output_type": "stream",
          "text": [
            "\r 33%|███▎      | 499/1520 [08:31<24:34,  1.44s/it]"
          ],
          "name": "stderr"
        },
        {
          "output_type": "stream",
          "text": [
            " 498 sucessfully saved 36100966.xml\n"
          ],
          "name": "stdout"
        },
        {
          "output_type": "stream",
          "text": [
            "\r 33%|███▎      | 500/1520 [08:32<24:02,  1.41s/it]"
          ],
          "name": "stderr"
        },
        {
          "output_type": "stream",
          "text": [
            " 499 sucessfully saved 36100966.xml\n",
            " 500 sucessfully saved 36100966.xml\n",
            " 501 sucessfully saved 36100966.xml\n",
            " 502 sucessfully saved 36100966.xml\n",
            " 503 sucessfully saved 36100966.xml\n",
            " 504 sucessfully saved 36100966.xml\n",
            " 505 sucessfully saved 36100966.xml\n",
            " 506 sucessfully saved 36100966.xml\n",
            " 507 sucessfully saved 36100966.xml\n",
            " 508 sucessfully saved 36100966.xml\n",
            " 509 sucessfully saved 36100966.xml\n",
            " 510 sucessfully saved 36100966.xml\n"
          ],
          "name": "stdout"
        },
        {
          "output_type": "stream",
          "text": [
            "\r 34%|███▎      | 512/1520 [08:51<24:34,  1.46s/it]"
          ],
          "name": "stderr"
        },
        {
          "output_type": "stream",
          "text": [
            " 511 sucessfully saved 36100966.xml\n",
            " 512 sucessfully saved 36100966.xml\n",
            " 513 sucessfully saved 36100966.xml\n"
          ],
          "name": "stdout"
        },
        {
          "output_type": "stream",
          "text": [
            "\r 34%|███▍      | 515/1520 [09:08<45:18,  2.70s/it]"
          ],
          "name": "stderr"
        },
        {
          "output_type": "stream",
          "text": [
            " 514 sucessfully saved 36100966.xml\n",
            " 515 sucessfully saved 36100966.xml\n",
            " 516 sucessfully saved 36100966.xml\n",
            " 517 sucessfully saved 36100966.xml\n",
            " 518 sucessfully saved 36100966.xml\n",
            " 519 sucessfully saved 36100966.xml\n",
            " 520 sucessfully saved 36100966.xml\n",
            " 521 sucessfully saved 36100966.xml\n",
            " 522 sucessfully saved 36100966.xml\n",
            " 523 sucessfully saved 36100966.xml\n",
            " 524 sucessfully saved 36100966.xml\n",
            " 525 sucessfully saved 36100966.xml\n",
            " 526 sucessfully saved 36100966.xml\n",
            " 527 sucessfully saved 36100966.xml\n",
            " 528 sucessfully saved 36100966.xml\n",
            " 529 sucessfully saved 36100966.xml\n",
            " 530 sucessfully saved 36100966.xml\n",
            " 531 sucessfully saved 36100966.xml\n",
            " 532 sucessfully saved 36100966.xml\n",
            " 533 sucessfully saved 36100966.xml\n"
          ],
          "name": "stdout"
        },
        {
          "output_type": "stream",
          "text": [
            "\r 35%|███▌      | 535/1520 [09:43<39:46,  2.42s/it]"
          ],
          "name": "stderr"
        },
        {
          "output_type": "stream",
          "text": [
            " 534 sucessfully saved 36100966.xml\n",
            " 535 sucessfully saved 36100966.xml\n",
            " 536 sucessfully saved 36100966.xml\n",
            " 537 sucessfully saved 36100966.xml\n",
            " 538 sucessfully saved 36100966.xml\n",
            " 539 sucessfully saved 36100966.xml\n",
            " 540 sucessfully saved 36100966.xml\n"
          ],
          "name": "stdout"
        },
        {
          "output_type": "stream",
          "text": [
            "\r 36%|███▌      | 542/1520 [10:02<40:50,  2.51s/it]"
          ],
          "name": "stderr"
        },
        {
          "output_type": "stream",
          "text": [
            " 541 sucessfully saved 36100966.xml\n",
            " 542 sucessfully saved 36100966.xml\n",
            " 543 sucessfully saved 36100966.xml\n",
            " 544 sucessfully saved 36100966.xml\n",
            " 545 sucessfully saved 36100966.xml\n",
            " 546 sucessfully saved 36100966.xml\n",
            " 547 sucessfully saved 36100966.xml\n",
            " 548 sucessfully saved 36100966.xml\n",
            " 549 sucessfully saved 36100966.xml\n",
            " 550 sucessfully saved 36100966.xml\n",
            " 551 sucessfully saved 36100966.xml\n",
            " 552 sucessfully saved 36100966.xml\n",
            " 553 sucessfully saved 36100966.xml\n",
            " 554 sucessfully saved 36100966.xml\n",
            " 555 sucessfully saved 36100966.xml\n",
            " 556 sucessfully saved 36100966.xml\n",
            " 557 sucessfully saved 36100966.xml\n",
            " 558 sucessfully saved 36100966.xml\n",
            " 559 sucessfully saved 36100966.xml\n",
            " 560 sucessfully saved 36100966.xml\n",
            " 561 sucessfully saved 36100966.xml\n",
            " 562 sucessfully saved 36100966.xml\n",
            " 563 sucessfully saved 36100966.xml\n",
            " 564 sucessfully saved 36100966.xml\n",
            " 565 sucessfully saved 36100966.xml\n",
            " 566 sucessfully saved 36100966.xml\n",
            " 567 sucessfully saved 36100966.xml\n",
            " 568 sucessfully saved 36100966.xml\n",
            " 569 sucessfully saved 36100966.xml\n",
            " 570 sucessfully saved 36100966.xml\n",
            " 571 sucessfully saved 36100966.xml\n",
            " 572 sucessfully saved 36100966.xml\n",
            " 573 sucessfully saved 36100966.xml\n",
            " 574 sucessfully saved 36100966.xml\n",
            " 575 sucessfully saved 36100966.xml\n"
          ],
          "name": "stdout"
        },
        {
          "output_type": "stream",
          "text": [
            "\r 38%|███▊      | 577/1520 [10:03<27:43,  1.76s/it]"
          ],
          "name": "stderr"
        },
        {
          "output_type": "stream",
          "text": [
            " 576 sucessfully saved 36100966.xml\n",
            " 577 sucessfully saved 36100966.xml\n",
            " 578 sucessfully saved 36100966.xml\n",
            " 579 sucessfully saved 36100966.xml\n",
            " 580 sucessfully saved 36100966.xml\n",
            " 581 sucessfully saved 36100966.xml\n",
            " 582 sucessfully saved 36100966.xml\n"
          ],
          "name": "stdout"
        },
        {
          "output_type": "stream",
          "text": [
            "\r 38%|███▊      | 584/1520 [10:08<22:36,  1.45s/it]"
          ],
          "name": "stderr"
        },
        {
          "output_type": "stream",
          "text": [
            " 583 sucessfully saved 36100966.xml\n",
            " 584 sucessfully saved 36100966.xml\n",
            " 585 sucessfully saved 36100966.xml\n",
            " 586 sucessfully saved 36100966.xml\n",
            " 587 sucessfully saved 36100966.xml\n",
            " 588 sucessfully saved 36100966.xml\n",
            " 589 sucessfully saved 36100966.xml\n"
          ],
          "name": "stdout"
        },
        {
          "output_type": "stream",
          "text": [
            "\r 39%|███▉      | 591/1520 [10:11<17:26,  1.13s/it]"
          ],
          "name": "stderr"
        },
        {
          "output_type": "stream",
          "text": [
            " 590 sucessfully saved 36100966.xml\n",
            " 591 sucessfully saved 36100966.xml\n",
            " 592 sucessfully saved 36100966.xml\n",
            " 593 sucessfully saved 36100966.xml\n",
            " 594 sucessfully saved 36100966.xml\n",
            " 595 sucessfully saved 36100966.xml\n",
            " 596 sucessfully saved 36100966.xml\n",
            " 597 sucessfully saved 36100966.xml\n",
            " 598 sucessfully saved 36100966.xml\n"
          ],
          "name": "stdout"
        },
        {
          "output_type": "stream",
          "text": [
            "\r 39%|███▉      | 600/1520 [10:12<12:34,  1.22it/s]"
          ],
          "name": "stderr"
        },
        {
          "output_type": "stream",
          "text": [
            " 599 sucessfully saved 36100966.xml\n",
            " 600 sucessfully saved 36100966.xml\n"
          ],
          "name": "stdout"
        },
        {
          "output_type": "stream",
          "text": [
            "\r 40%|███▉      | 602/1520 [10:17<20:45,  1.36s/it]"
          ],
          "name": "stderr"
        },
        {
          "output_type": "stream",
          "text": [
            " 601 sucessfully saved 36100966.xml\n",
            " 602 sucessfully saved 36100966.xml\n"
          ],
          "name": "stdout"
        },
        {
          "output_type": "stream",
          "text": [
            "\r 40%|███▉      | 604/1520 [10:18<15:48,  1.04s/it]"
          ],
          "name": "stderr"
        },
        {
          "output_type": "stream",
          "text": [
            " 603 sucessfully saved 36100966.xml\n"
          ],
          "name": "stdout"
        },
        {
          "output_type": "stream",
          "text": [
            "\r 40%|███▉      | 605/1520 [10:21<26:47,  1.76s/it]"
          ],
          "name": "stderr"
        },
        {
          "output_type": "stream",
          "text": [
            " 604 sucessfully saved 36100966.xml\n",
            " 605 sucessfully saved 36100966.xml\n",
            " 606 sucessfully saved 36100966.xml\n",
            " 607 sucessfully saved 36100966.xml\n",
            " 608 sucessfully saved 36100966.xml\n"
          ],
          "name": "stdout"
        },
        {
          "output_type": "stream",
          "text": [
            "\r 40%|████      | 610/1520 [10:24<21:20,  1.41s/it]"
          ],
          "name": "stderr"
        },
        {
          "output_type": "stream",
          "text": [
            " 609 sucessfully saved 36100966.xml\n",
            " 610 sucessfully saved 36100966.xml\n",
            " 611 sucessfully saved 36100966.xml\n",
            " 612 sucessfully saved 36100966.xml\n"
          ],
          "name": "stdout"
        },
        {
          "output_type": "stream",
          "text": [
            "\r 40%|████      | 614/1520 [10:25<15:43,  1.04s/it]"
          ],
          "name": "stderr"
        },
        {
          "output_type": "stream",
          "text": [
            " 613 sucessfully saved 36100966.xml\n",
            " 614 sucessfully saved 36100966.xml\n",
            " 615 sucessfully saved 36100966.xml\n",
            " 616 sucessfully saved 36100966.xml\n"
          ],
          "name": "stdout"
        },
        {
          "output_type": "stream",
          "text": [
            "\r 41%|████      | 618/1520 [10:26<12:17,  1.22it/s]"
          ],
          "name": "stderr"
        },
        {
          "output_type": "stream",
          "text": [
            " 617 sucessfully saved 36100966.xml\n"
          ],
          "name": "stdout"
        },
        {
          "output_type": "stream",
          "text": [
            "\r 41%|████      | 619/1520 [10:44<1:28:44,  5.91s/it]"
          ],
          "name": "stderr"
        },
        {
          "output_type": "stream",
          "text": [
            " 618 sucessfully saved 36100966.xml\n",
            " 619 sucessfully saved 36100966.xml\n",
            " 620 sucessfully saved 36100966.xml\n",
            " 621 sucessfully saved 36100966.xml\n",
            " 622 sucessfully saved 36100966.xml\n",
            " 623 sucessfully saved 36100966.xml\n"
          ],
          "name": "stdout"
        },
        {
          "output_type": "stream",
          "text": [
            "\r 41%|████      | 625/1520 [10:55<1:10:08,  4.70s/it]"
          ],
          "name": "stderr"
        },
        {
          "output_type": "stream",
          "text": [
            " 624 sucessfully saved 36100966.xml\n",
            " 625 sucessfully saved 36100966.xml\n",
            " 626 sucessfully saved 36100966.xml\n",
            " 627 sucessfully saved 36100966.xml\n",
            " 628 sucessfully saved 36100966.xml\n",
            " 629 sucessfully saved 36100966.xml\n",
            " 630 sucessfully saved 36100966.xml\n",
            " 631 sucessfully saved 36100966.xml\n",
            " 632 sucessfully saved 36100966.xml\n",
            " 633 sucessfully saved 36100966.xml\n"
          ],
          "name": "stdout"
        },
        {
          "output_type": "stream",
          "text": [
            "\r 42%|████▏     | 635/1520 [10:58<49:37,  3.36s/it]  "
          ],
          "name": "stderr"
        },
        {
          "output_type": "stream",
          "text": [
            " 634 sucessfully saved 36100966.xml\n",
            " 635 sucessfully saved 36100966.xml\n",
            " 636 sucessfully saved 36100966.xml\n"
          ],
          "name": "stdout"
        },
        {
          "output_type": "stream",
          "text": [
            "\r 42%|████▏     | 638/1520 [11:36<1:31:31,  6.23s/it]"
          ],
          "name": "stderr"
        },
        {
          "output_type": "stream",
          "text": [
            " 637 sucessfully saved 36100966.xml\n",
            " 638 sucessfully saved 36100966.xml\n",
            " 639 sucessfully saved 36100966.xml\n",
            " 640 sucessfully saved 36100966.xml\n",
            " 641 sucessfully saved 36100966.xml\n",
            " 642 sucessfully saved 36100966.xml\n",
            " 643 sucessfully saved 36100966.xml\n",
            " 644 sucessfully saved 36100966.xml\n",
            " 645 sucessfully saved 36100966.xml\n",
            " 646 sucessfully saved 36100966.xml\n",
            " 647 sucessfully saved 36100966.xml\n",
            " 648 sucessfully saved 36100966.xml\n",
            " 649 sucessfully saved 36100966.xml\n",
            " 650 sucessfully saved 36100966.xml\n",
            " 651 sucessfully saved 36100966.xml\n",
            " 652 sucessfully saved 36100966.xml\n",
            " 653 sucessfully saved 36100966.xml\n",
            " 654 sucessfully saved 36100966.xml\n",
            " 655 sucessfully saved 36100966.xml\n",
            " 656 sucessfully saved 36100966.xml\n",
            " 657 sucessfully saved 36100966.xml\n",
            " 658 sucessfully saved 36100966.xml\n",
            " 659 sucessfully saved 36100966.xml\n",
            " 660 sucessfully saved 36100966.xml\n",
            " 661 sucessfully saved 36100966.xml\n",
            " 662 sucessfully saved 36100966.xml\n",
            " 663 sucessfully saved 36100966.xml\n",
            " 664 sucessfully saved 36100966.xml\n",
            " 665 sucessfully saved 36100966.xml\n",
            " 666 sucessfully saved 36100966.xml\n",
            " 667 sucessfully saved 36100966.xml\n"
          ],
          "name": "stdout"
        },
        {
          "output_type": "stream",
          "text": [
            "\r 44%|████▍     | 669/1520 [11:54<1:04:11,  4.53s/it]"
          ],
          "name": "stderr"
        },
        {
          "output_type": "stream",
          "text": [
            " 668 sucessfully saved 36100966.xml\n",
            " 669 sucessfully saved 36100966.xml\n",
            " 670 sucessfully saved 36100966.xml\n",
            " 671 sucessfully saved 36100966.xml\n",
            " 672 sucessfully saved 36100966.xml\n",
            " 673 sucessfully saved 36100966.xml\n",
            " 674 sucessfully saved 36100966.xml\n",
            " 675 sucessfully saved 36100966.xml\n",
            " 676 sucessfully saved 36100966.xml\n",
            " 677 sucessfully saved 36100966.xml\n",
            " 678 sucessfully saved 36100966.xml\n"
          ],
          "name": "stdout"
        },
        {
          "output_type": "stream",
          "text": [
            "\r 45%|████▍     | 680/1520 [12:01<47:03,  3.36s/it]  "
          ],
          "name": "stderr"
        },
        {
          "output_type": "stream",
          "text": [
            " 679 sucessfully saved 36100966.xml\n",
            " 680 sucessfully saved 36100966.xml\n",
            " 681 sucessfully saved 36100966.xml\n",
            " 682 sucessfully saved 36100966.xml\n",
            " 683 sucessfully saved 36100966.xml\n",
            " 684 sucessfully saved 36100966.xml\n",
            " 685 sucessfully saved 36100966.xml\n",
            " 686 sucessfully saved 36100966.xml\n",
            " 687 sucessfully saved 36100966.xml\n",
            " 688 sucessfully saved 36100966.xml\n"
          ],
          "name": "stdout"
        },
        {
          "output_type": "stream",
          "text": [
            "\r 45%|████▌     | 690/1520 [12:17<39:21,  2.85s/it]"
          ],
          "name": "stderr"
        },
        {
          "output_type": "stream",
          "text": [
            " 689 sucessfully saved 36100966.xml\n",
            " 690 sucessfully saved 36100966.xml\n",
            " 691 sucessfully saved 36100966.xml\n",
            " 692 sucessfully saved 36100966.xml\n",
            " 693 sucessfully saved 36100966.xml\n",
            " 694 sucessfully saved 36100966.xml\n",
            " 695 sucessfully saved 36100966.xml\n",
            " 696 sucessfully saved 36100966.xml\n",
            " 697 sucessfully saved 36100966.xml\n",
            " 698 sucessfully saved 36100966.xml\n",
            " 699 sucessfully saved 36100966.xml\n",
            " 700 sucessfully saved 36100966.xml\n",
            " 701 sucessfully saved 36100966.xml\n",
            " 702 sucessfully saved 36100966.xml\n",
            " 703 sucessfully saved 36100966.xml\n"
          ],
          "name": "stdout"
        },
        {
          "output_type": "stream",
          "text": [
            "\r 46%|████▋     | 705/1520 [12:29<30:23,  2.24s/it]"
          ],
          "name": "stderr"
        },
        {
          "output_type": "stream",
          "text": [
            " 704 sucessfully saved 36100966.xml\n",
            " 705 sucessfully saved 36100966.xml\n",
            " 706 sucessfully saved 36100966.xml\n",
            " 707 sucessfully saved 36100966.xml\n",
            " 708 sucessfully saved 36100966.xml\n",
            " 709 sucessfully saved 36100966.xml\n"
          ],
          "name": "stdout"
        },
        {
          "output_type": "stream",
          "text": [
            "\r 47%|████▋     | 711/1520 [12:30<21:47,  1.62s/it]"
          ],
          "name": "stderr"
        },
        {
          "output_type": "stream",
          "text": [
            " 710 sucessfully saved 36100966.xml\n",
            " 711 sucessfully saved 36100966.xml\n",
            " 712 sucessfully saved 36100966.xml\n",
            " 713 sucessfully saved 36100966.xml\n",
            " 714 sucessfully saved 36100966.xml\n"
          ],
          "name": "stdout"
        },
        {
          "output_type": "stream",
          "text": [
            "\r 47%|████▋     | 716/1520 [13:41<1:11:46,  5.36s/it]"
          ],
          "name": "stderr"
        },
        {
          "output_type": "stream",
          "text": [
            " 715 sucessfully saved 36100966.xml\n",
            " 716 sucessfully saved 36100966.xml\n",
            " 717 sucessfully saved 36100966.xml\n",
            " 718 sucessfully saved 36100966.xml\n",
            " 719 sucessfully saved 36100966.xml\n",
            " 720 sucessfully saved 36100966.xml\n",
            " 721 sucessfully saved 36100966.xml\n",
            " 722 sucessfully saved 36100966.xml\n",
            " 723 sucessfully saved 36100966.xml\n",
            " 724 sucessfully saved 36100966.xml\n",
            " 725 sucessfully saved 36100966.xml\n",
            " 726 sucessfully saved 36100966.xml\n",
            " 727 sucessfully saved 36100966.xml\n",
            " 728 sucessfully saved 36100966.xml\n",
            " 729 sucessfully saved 36100966.xml\n",
            " 730 sucessfully saved 36100966.xml\n",
            " 731 sucessfully saved 36100966.xml\n",
            " 732 sucessfully saved 36100966.xml\n",
            " 733 sucessfully saved 36100966.xml\n",
            " 734 sucessfully saved 36100966.xml\n",
            " 735 sucessfully saved 36100966.xml\n",
            " 736 sucessfully saved 36100966.xml\n",
            " 737 sucessfully saved 36100966.xml\n",
            " 738 sucessfully saved 36100966.xml\n",
            " 739 sucessfully saved 36100966.xml\n",
            " 740 sucessfully saved 36100966.xml\n",
            " 741 sucessfully saved 36100966.xml\n",
            " 742 sucessfully saved 36100966.xml\n",
            " 743 sucessfully saved 36100966.xml\n",
            " 744 sucessfully saved 36100966.xml\n",
            " 745 sucessfully saved 36100966.xml\n",
            " 746 sucessfully saved 36100966.xml\n",
            " 747 sucessfully saved 36100966.xml\n",
            " 748 sucessfully saved 36100966.xml\n",
            " 749 sucessfully saved 36100966.xml\n",
            " 750 sucessfully saved 36100966.xml\n",
            " 751 sucessfully saved 36100966.xml\n",
            " 752 sucessfully saved 36100966.xml\n",
            " 753 sucessfully saved 36100966.xml\n",
            " 754 sucessfully saved 36100966.xml\n",
            " 755 sucessfully saved 36100966.xml\n",
            " 756 sucessfully saved 36100966.xml\n",
            " 757 sucessfully saved 36100966.xml\n",
            " 758 sucessfully saved 36100966.xml\n",
            " 759 sucessfully saved 36100966.xml\n",
            " 760 sucessfully saved 36100966.xml\n",
            " 761 sucessfully saved 36100966.xml\n",
            " 762 sucessfully saved 36100966.xml\n",
            " 763 sucessfully saved 36100966.xml\n",
            " 764 sucessfully saved 36100966.xml\n",
            " 765 sucessfully saved 36100966.xml\n",
            " 766 sucessfully saved 36100966.xml\n",
            " 767 sucessfully saved 36100966.xml\n",
            " 768 sucessfully saved 36100966.xml\n",
            " 769 sucessfully saved 36100966.xml\n",
            " 770 sucessfully saved 36100966.xml\n",
            " 771 sucessfully saved 36100966.xml\n",
            " 772 sucessfully saved 36100966.xml\n",
            " 773 sucessfully saved 36100966.xml\n",
            " 774 sucessfully saved 36100966.xml\n"
          ],
          "name": "stdout"
        },
        {
          "output_type": "stream",
          "text": [
            "\r 51%|█████     | 776/1520 [13:41<46:31,  3.75s/it]  "
          ],
          "name": "stderr"
        },
        {
          "output_type": "stream",
          "text": [
            " 775 sucessfully saved 36100966.xml\n",
            " 776 sucessfully saved 36100966.xml\n",
            " 777 sucessfully saved 36100966.xml\n"
          ],
          "name": "stdout"
        },
        {
          "output_type": "stream",
          "text": [
            "\r 51%|█████▏    | 780/1520 [13:57<46:51,  3.80s/it]"
          ],
          "name": "stderr"
        },
        {
          "output_type": "stream",
          "text": [
            " 778 sucessfully saved 36100966.xml\n",
            " 779 sucessfully saved 36100966.xml\n",
            " 780 sucessfully saved 36100966.xml\n",
            " 781 sucessfully saved 36100966.xml\n",
            " 782 sucessfully saved 36100966.xml\n",
            " 783 sucessfully saved 36100966.xml\n",
            " 784 sucessfully saved 36100966.xml\n"
          ],
          "name": "stdout"
        },
        {
          "output_type": "stream",
          "text": [
            "\r 52%|█████▏    | 786/1520 [14:45<1:01:53,  5.06s/it]"
          ],
          "name": "stderr"
        },
        {
          "output_type": "stream",
          "text": [
            " 785 sucessfully saved 36100966.xml\n",
            " 786 sucessfully saved 36100966.xml\n",
            " 787 sucessfully saved 36100966.xml\n",
            " 788 sucessfully saved 36100966.xml\n",
            " 789 sucessfully saved 36100966.xml\n",
            " 790 sucessfully saved 36100966.xml\n",
            " 791 sucessfully saved 36100966.xml\n",
            " 792 sucessfully saved 36100966.xml\n",
            " 793 sucessfully saved 36100966.xml\n",
            " 794 sucessfully saved 36100966.xml\n",
            " 795 sucessfully saved 36100966.xml\n",
            " 796 sucessfully saved 36100966.xml\n",
            " 797 sucessfully saved 36100966.xml\n",
            " 798 sucessfully saved 36100966.xml\n",
            " 799 sucessfully saved 36100966.xml\n",
            " 800 sucessfully saved 36100966.xml\n",
            " 801 sucessfully saved 36100966.xml\n",
            " 802 sucessfully saved 36100966.xml\n",
            " 803 sucessfully saved 36100966.xml\n",
            " 804 sucessfully saved 36100966.xml\n",
            " 805 sucessfully saved 36100966.xml\n",
            " 806 sucessfully saved 36100966.xml\n",
            " 807 sucessfully saved 36100966.xml\n",
            " 808 sucessfully saved 36100966.xml\n",
            " 809 sucessfully saved 36100966.xml\n",
            " 810 sucessfully saved 36100966.xml\n",
            " 811 sucessfully saved 36100966.xml\n",
            " 812 sucessfully saved 36100966.xml\n",
            " 813 sucessfully saved 36100966.xml\n",
            " 814 sucessfully saved 36100966.xml\n",
            " 815 sucessfully saved 36100966.xml\n",
            " 816 sucessfully saved 36100966.xml\n",
            " 817 sucessfully saved 36100966.xml\n",
            " 818 sucessfully saved 36100966.xml\n"
          ],
          "name": "stdout"
        },
        {
          "output_type": "stream",
          "text": [
            "\r 54%|█████▍    | 820/1520 [14:49<41:43,  3.58s/it]  "
          ],
          "name": "stderr"
        },
        {
          "output_type": "stream",
          "text": [
            " 819 sucessfully saved 36100966.xml\n",
            " 820 sucessfully saved 36100966.xml\n",
            " 821 sucessfully saved 36100966.xml\n",
            " 822 sucessfully saved 36100966.xml\n",
            " 823 sucessfully saved 36100966.xml\n",
            " 824 sucessfully saved 36100966.xml\n",
            " 825 sucessfully saved 36100966.xml\n",
            " 826 sucessfully saved 36100966.xml\n"
          ],
          "name": "stdout"
        },
        {
          "output_type": "stream",
          "text": [
            "\r 54%|█████▍    | 828/1520 [14:51<29:55,  2.60s/it]"
          ],
          "name": "stderr"
        },
        {
          "output_type": "stream",
          "text": [
            " 827 sucessfully saved 36100966.xml\n",
            " 828 sucessfully saved 36100966.xml\n",
            " 829 sucessfully saved 36100966.xml\n",
            " 830 sucessfully saved 36100966.xml\n",
            " 831 sucessfully saved 36100966.xml\n"
          ],
          "name": "stdout"
        },
        {
          "output_type": "stream",
          "text": [
            "\r 55%|█████▍    | 833/1520 [14:52<21:07,  1.85s/it]"
          ],
          "name": "stderr"
        },
        {
          "output_type": "stream",
          "text": [
            " 832 sucessfully saved 36100966.xml\n",
            " 833 sucessfully saved 36100966.xml\n"
          ],
          "name": "stdout"
        },
        {
          "output_type": "stream",
          "text": [
            "\r 55%|█████▍    | 835/1520 [14:58<24:50,  2.18s/it]"
          ],
          "name": "stderr"
        },
        {
          "output_type": "stream",
          "text": [
            " 834 sucessfully saved 36100966.xml\n",
            " 835 sucessfully saved 36100966.xml\n",
            " 836 sucessfully saved 36100966.xml\n",
            " 837 sucessfully saved 36100966.xml\n",
            " 838 sucessfully saved 36100966.xml\n",
            " 839 sucessfully saved 36100966.xml\n",
            " 840 sucessfully saved 36100966.xml\n"
          ],
          "name": "stdout"
        },
        {
          "output_type": "stream",
          "text": [
            "\r 55%|█████▌    | 842/1520 [14:59<17:37,  1.56s/it]"
          ],
          "name": "stderr"
        },
        {
          "output_type": "stream",
          "text": [
            " 841 sucessfully saved 36100966.xml\n",
            " 842 sucessfully saved 36100966.xml\n",
            " 843 sucessfully saved 36100966.xml\n",
            " 844 sucessfully saved 36100966.xml\n",
            " 845 sucessfully saved 36100966.xml\n"
          ],
          "name": "stdout"
        },
        {
          "output_type": "stream",
          "text": [
            "\r 56%|█████▌    | 847/1520 [15:56<51:10,  4.56s/it]"
          ],
          "name": "stderr"
        },
        {
          "output_type": "stream",
          "text": [
            " 846 sucessfully saved 36100966.xml\n",
            " 847 sucessfully saved 36100966.xml\n",
            " 848 sucessfully saved 36100966.xml\n",
            " 849 sucessfully saved 36100966.xml\n",
            " 850 sucessfully saved 36100966.xml\n",
            " 851 sucessfully saved 36100966.xml\n",
            " 852 sucessfully saved 36100966.xml\n",
            " 853 sucessfully saved 36100966.xml\n",
            " 854 sucessfully saved 36100966.xml\n",
            " 855 sucessfully saved 36100966.xml\n",
            " 856 sucessfully saved 36100966.xml\n",
            " 857 sucessfully saved 36100966.xml\n",
            " 858 sucessfully saved 36100966.xml\n",
            " 859 sucessfully saved 36100966.xml\n",
            " 860 sucessfully saved 36100966.xml\n",
            " 861 sucessfully saved 36100966.xml\n",
            " 862 sucessfully saved 36100966.xml\n",
            " 863 sucessfully saved 36100966.xml\n",
            " 864 sucessfully saved 36100966.xml\n",
            " 865 sucessfully saved 36100966.xml\n",
            " 866 sucessfully saved 36100966.xml\n",
            " 867 sucessfully saved 36100966.xml\n",
            " 868 sucessfully saved 36100966.xml\n",
            " 869 sucessfully saved 36100966.xml\n",
            " 870 sucessfully saved 36100966.xml\n",
            " 871 sucessfully saved 36100966.xml\n",
            " 872 sucessfully saved 36100966.xml\n",
            " 873 sucessfully saved 36100966.xml\n",
            " 874 sucessfully saved 36100966.xml\n",
            " 875 sucessfully saved 36100966.xml\n",
            " 876 sucessfully saved 36100966.xml\n",
            " 877 sucessfully saved 36100966.xml\n",
            " 878 sucessfully saved 36100966.xml\n",
            " 879 sucessfully saved 36100966.xml\n",
            " 880 sucessfully saved 36100966.xml\n",
            " 881 sucessfully saved 36100966.xml\n",
            " 882 sucessfully saved 36100966.xml\n",
            " 883 sucessfully saved 36100966.xml\n",
            " 884 sucessfully saved 36100966.xml\n",
            " 885 sucessfully saved 36100966.xml\n",
            " 886 sucessfully saved 36100966.xml\n"
          ],
          "name": "stdout"
        },
        {
          "output_type": "stream",
          "text": [
            "\r 58%|█████▊    | 888/1520 [16:22<35:34,  3.38s/it]"
          ],
          "name": "stderr"
        },
        {
          "output_type": "stream",
          "text": [
            " 887 sucessfully saved 36100966.xml\n",
            " 888 sucessfully saved 36100966.xml\n",
            " 889 sucessfully saved 36100966.xml\n",
            " 890 sucessfully saved 36100966.xml\n",
            " 891 sucessfully saved 36100966.xml\n",
            " 892 sucessfully saved 36100966.xml\n",
            " 893 sucessfully saved 36100966.xml\n",
            " 894 sucessfully saved 36100966.xml\n",
            " 895 sucessfully saved 36100966.xml\n",
            " 896 sucessfully saved 36100966.xml\n",
            " 897 sucessfully saved 36100966.xml\n",
            " 898 sucessfully saved 36100966.xml\n",
            " 899 sucessfully saved 36100966.xml\n",
            " 900 sucessfully saved 36100966.xml\n",
            " 901 sucessfully saved 36100966.xml\n",
            " 902 sucessfully saved 36100966.xml\n"
          ],
          "name": "stdout"
        },
        {
          "output_type": "stream",
          "text": [
            "\r 59%|█████▉    | 904/1520 [16:25<25:00,  2.44s/it]"
          ],
          "name": "stderr"
        },
        {
          "output_type": "stream",
          "text": [
            " 903 sucessfully saved 36100966.xml\n",
            " 904 sucessfully saved 36100966.xml\n",
            " 905 sucessfully saved 36100966.xml\n",
            " 906 sucessfully saved 36100966.xml\n",
            " 907 sucessfully saved 36100966.xml\n",
            " 908 sucessfully saved 36100966.xml\n",
            " 909 sucessfully saved 36100966.xml\n",
            " 910 sucessfully saved 36100966.xml\n",
            " 911 sucessfully saved 36100966.xml\n",
            " 912 sucessfully saved 36100966.xml\n",
            " 913 sucessfully saved 36100966.xml\n",
            " 914 sucessfully saved 36100966.xml\n",
            " 915 sucessfully saved 36100966.xml\n",
            " 916 sucessfully saved 36100966.xml\n",
            " 917 sucessfully saved 36100966.xml\n",
            " 918 sucessfully saved 36100966.xml\n",
            " 919 sucessfully saved 36100966.xml\n"
          ],
          "name": "stdout"
        },
        {
          "output_type": "stream",
          "text": [
            "\r 61%|██████    | 921/1520 [16:38<19:10,  1.92s/it]"
          ],
          "name": "stderr"
        },
        {
          "output_type": "stream",
          "text": [
            " 920 sucessfully saved 36100966.xml\n",
            " 921 sucessfully saved 36100966.xml\n",
            " 922 sucessfully saved 36100966.xml\n",
            " 923 sucessfully saved 36100966.xml\n",
            " 924 sucessfully saved 36100966.xml\n",
            " 925 sucessfully saved 36100966.xml\n"
          ],
          "name": "stdout"
        },
        {
          "output_type": "stream",
          "text": [
            "\r 61%|██████    | 927/1520 [16:48<18:22,  1.86s/it]"
          ],
          "name": "stderr"
        },
        {
          "output_type": "stream",
          "text": [
            " 926 sucessfully saved 36100966.xml\n",
            " 927 sucessfully saved 36100966.xml\n",
            " 928 sucessfully saved 36100966.xml\n",
            " 929 sucessfully saved 36100966.xml\n",
            " 930 sucessfully saved 36100966.xml\n",
            " 931 sucessfully saved 36100966.xml\n",
            " 932 sucessfully saved 36100966.xml\n",
            " 933 sucessfully saved 36100966.xml\n",
            " 934 sucessfully saved 36100966.xml\n",
            " 935 sucessfully saved 36100966.xml\n",
            " 936 sucessfully saved 36100966.xml\n",
            " 937 sucessfully saved 36100966.xml\n",
            " 938 sucessfully saved 36100966.xml\n",
            " 939 sucessfully saved 36100966.xml\n",
            " 940 sucessfully saved 36100966.xml\n",
            " 941 sucessfully saved 36100966.xml\n",
            " 942 sucessfully saved 36100966.xml\n"
          ],
          "name": "stdout"
        },
        {
          "output_type": "stream",
          "text": [
            "\r 62%|██████▏   | 944/1520 [17:15<17:04,  1.78s/it]"
          ],
          "name": "stderr"
        },
        {
          "output_type": "stream",
          "text": [
            " 943 sucessfully saved 36100966.xml\n",
            " 944 sucessfully saved 36100966.xml\n",
            " 945 sucessfully saved 36100966.xml\n",
            " 946 sucessfully saved 36100966.xml\n",
            " 947 sucessfully saved 36100966.xml\n",
            " 948 sucessfully saved 36100966.xml\n",
            " 949 sucessfully saved 36100966.xml\n",
            " 950 sucessfully saved 36100966.xml\n",
            " 951 sucessfully saved 36100966.xml\n",
            " 952 sucessfully saved 36100966.xml\n",
            " 953 sucessfully saved 36100966.xml\n",
            " 954 sucessfully saved 36100966.xml\n",
            " 955 sucessfully saved 36100966.xml\n",
            " 956 sucessfully saved 36100966.xml\n",
            " 957 sucessfully saved 36100966.xml\n",
            " 958 sucessfully saved 36100966.xml\n",
            " 959 sucessfully saved 36100966.xml\n",
            " 960 sucessfully saved 36100966.xml\n",
            " 961 sucessfully saved 36100966.xml\n"
          ],
          "name": "stdout"
        },
        {
          "output_type": "stream",
          "text": [
            "\r 63%|██████▎   | 963/1520 [17:29<13:33,  1.46s/it]"
          ],
          "name": "stderr"
        },
        {
          "output_type": "stream",
          "text": [
            " 962 sucessfully saved 36100966.xml\n",
            " 963 sucessfully saved 36100966.xml\n",
            " 964 sucessfully saved 36100966.xml\n",
            " 965 sucessfully saved 36100966.xml\n",
            " 966 sucessfully saved 36100966.xml\n"
          ],
          "name": "stdout"
        },
        {
          "output_type": "stream",
          "text": [
            " 64%|██████▍   | 978/1520 [17:31<07:18,  1.23it/s]"
          ],
          "name": "stderr"
        },
        {
          "output_type": "stream",
          "text": [
            " 967 sucessfully saved 36100966.xml\n",
            " 968 sucessfully saved 36100966.xml\n",
            " 969 sucessfully saved 36100966.xml\n",
            " 970 sucessfully saved 36100966.xml\n",
            " 971 sucessfully saved 36100966.xml\n",
            " 972 sucessfully saved 36100966.xml\n",
            " 973 sucessfully saved 36100966.xml\n",
            " 974 sucessfully saved 36100966.xml\n",
            " 975 sucessfully saved 36100966.xml\n",
            " 976 sucessfully saved 36100966.xml\n",
            " 977 sucessfully saved 36100966.xml\n"
          ],
          "name": "stdout"
        },
        {
          "output_type": "stream",
          "text": [
            "\r 65%|██████▍   | 981/1520 [17:40<13:12,  1.47s/it]"
          ],
          "name": "stderr"
        },
        {
          "output_type": "stream",
          "text": [
            " 978 sucessfully saved 36100966.xml\n",
            " 979 sucessfully saved 36100966.xml\n",
            " 980 sucessfully saved 36100966.xml\n",
            " 981 sucessfully saved 36100966.xml\n",
            " 982 sucessfully saved 36100966.xml\n",
            " 983 sucessfully saved 36100966.xml\n",
            " 984 sucessfully saved 36100966.xml\n",
            " 985 sucessfully saved 36100966.xml\n",
            " 986 sucessfully saved 36100966.xml\n",
            " 987 sucessfully saved 36100966.xml\n",
            " 988 sucessfully saved 36100966.xml\n"
          ],
          "name": "stdout"
        },
        {
          "output_type": "stream",
          "text": [
            "\r 65%|██████▌   | 990/1520 [17:41<09:28,  1.07s/it]"
          ],
          "name": "stderr"
        },
        {
          "output_type": "stream",
          "text": [
            " 989 sucessfully saved 36100966.xml\n"
          ],
          "name": "stdout"
        },
        {
          "output_type": "stream",
          "text": [
            "\r 65%|██████▌   | 992/1520 [17:47<14:33,  1.65s/it]"
          ],
          "name": "stderr"
        },
        {
          "output_type": "stream",
          "text": [
            " 990 sucessfully saved 36100966.xml\n",
            " 991 sucessfully saved 36100966.xml\n",
            " 992 sucessfully saved 36100966.xml\n",
            " 993 sucessfully saved 36100966.xml\n",
            " 994 sucessfully saved 36100966.xml\n",
            " 995 sucessfully saved 36100966.xml\n",
            " 996 sucessfully saved 36100966.xml\n"
          ],
          "name": "stdout"
        },
        {
          "output_type": "stream",
          "text": [
            "\r 66%|██████▌   | 998/1520 [17:50<11:23,  1.31s/it]"
          ],
          "name": "stderr"
        },
        {
          "output_type": "stream",
          "text": [
            " 997 sucessfully saved 36100966.xml\n",
            " 998 sucessfully saved 36100966.xml\n",
            " 999 sucessfully saved 36100966.xml\n",
            " 1000 sucessfully saved 36100966.xml\n",
            " 1001 sucessfully saved 36100966.xml\n",
            " 1002 sucessfully saved 36100966.xml\n"
          ],
          "name": "stdout"
        },
        {
          "output_type": "stream",
          "text": [
            "\r 66%|██████▌   | 1004/1520 [18:10<16:12,  1.88s/it]"
          ],
          "name": "stderr"
        },
        {
          "output_type": "stream",
          "text": [
            " 1003 sucessfully saved 36100966.xml\n",
            " 1004 sucessfully saved 36100966.xml\n",
            " 1005 sucessfully saved 36100966.xml\n",
            " 1006 sucessfully saved 36100966.xml\n",
            " 1007 sucessfully saved 36100966.xml\n",
            " 1008 sucessfully saved 36100966.xml\n",
            " 1009 sucessfully saved 36100966.xml\n",
            " 1010 sucessfully saved 36100966.xml\n",
            " 1011 sucessfully saved 36100966.xml\n"
          ],
          "name": "stdout"
        },
        {
          "output_type": "stream",
          "text": [
            "\r 67%|██████▋   | 1013/1520 [18:30<16:45,  1.98s/it]"
          ],
          "name": "stderr"
        },
        {
          "output_type": "stream",
          "text": [
            " 1012 sucessfully saved 36100966.xml\n",
            " 1013 sucessfully saved 36100966.xml\n",
            " 1014 sucessfully saved 36100966.xml\n",
            " 1015 sucessfully saved 36100966.xml\n",
            " 1016 sucessfully saved 36100966.xml\n",
            " 1017 sucessfully saved 36100966.xml\n",
            " 1018 sucessfully saved 36100966.xml\n",
            " 1019 sucessfully saved 36100966.xml\n",
            " 1020 sucessfully saved 36100966.xml\n",
            " 1021 sucessfully saved 36100966.xml\n",
            " 1022 sucessfully saved 36100966.xml\n"
          ],
          "name": "stdout"
        },
        {
          "output_type": "stream",
          "text": [
            "\r 67%|██████▋   | 1024/1520 [19:11<20:50,  2.52s/it]"
          ],
          "name": "stderr"
        },
        {
          "output_type": "stream",
          "text": [
            " 1023 sucessfully saved 36100966.xml\n",
            " 1024 sucessfully saved 36100966.xml\n",
            " 1025 sucessfully saved 36100966.xml\n",
            " 1026 sucessfully saved 36100966.xml\n",
            " 1027 sucessfully saved 36100966.xml\n",
            " 1028 sucessfully saved 36100966.xml\n",
            " 1029 sucessfully saved 36100966.xml\n",
            " 1030 sucessfully saved 36100966.xml\n",
            " 1031 sucessfully saved 36100966.xml\n",
            " 1032 sucessfully saved 36100966.xml\n",
            " 1033 sucessfully saved 36100966.xml\n",
            " 1034 sucessfully saved 36100966.xml\n",
            " 1035 sucessfully saved 36100966.xml\n",
            " 1036 sucessfully saved 36100966.xml\n",
            " 1037 sucessfully saved 36100966.xml\n",
            " 1038 sucessfully saved 36100966.xml\n",
            " 1039 sucessfully saved 36100966.xml\n",
            " 1040 sucessfully saved 36100966.xml\n",
            " 1041 sucessfully saved 36100966.xml\n",
            " 1042 sucessfully saved 36100966.xml\n",
            " 1043 sucessfully saved 36100966.xml\n",
            " 1044 sucessfully saved 36100966.xml\n",
            " 1045 sucessfully saved 36100966.xml\n",
            " 1046 sucessfully saved 36100966.xml\n",
            " 1047 sucessfully saved 36100966.xml\n",
            " 1048 sucessfully saved 36100966.xml\n",
            " 1049 sucessfully saved 36100966.xml\n",
            " 1050 sucessfully saved 36100966.xml\n",
            " 1051 sucessfully saved 36100966.xml\n",
            " 1052 sucessfully saved 36100966.xml\n",
            " 1053 sucessfully saved 36100966.xml\n",
            " 1054 sucessfully saved 36100966.xml\n",
            " 1055 sucessfully saved 36100966.xml\n",
            " 1056 sucessfully saved 36100966.xml\n",
            " 1057 sucessfully saved 36100966.xml\n",
            " 1058 sucessfully saved 36100966.xml\n",
            " 1059 sucessfully saved 36100966.xml\n",
            " 1060 sucessfully saved 36100966.xml\n",
            " 1061 sucessfully saved 36100966.xml\n",
            " 1062 sucessfully saved 36100966.xml\n",
            " 1063 sucessfully saved 36100966.xml\n",
            " 1064 sucessfully saved 36100966.xml\n"
          ],
          "name": "stdout"
        },
        {
          "output_type": "stream",
          "text": [
            "\r 70%|███████   | 1066/1520 [19:17<13:40,  1.81s/it]"
          ],
          "name": "stderr"
        },
        {
          "output_type": "stream",
          "text": [
            " 1065 sucessfully saved 36100966.xml\n",
            " 1066 sucessfully saved 36100966.xml\n",
            " 1067 sucessfully saved 36100966.xml\n",
            " 1068 sucessfully saved 36100966.xml\n",
            " 1069 sucessfully saved 36100966.xml\n",
            " 1070 sucessfully saved 36100966.xml\n",
            " 1071 sucessfully saved 36100966.xml\n",
            " 1072 sucessfully saved 36100966.xml\n",
            " 1073 sucessfully saved 36100966.xml\n",
            " 1074 sucessfully saved 36100966.xml\n"
          ],
          "name": "stdout"
        },
        {
          "output_type": "stream",
          "text": [
            "\r 71%|███████   | 1076/1520 [19:19<09:54,  1.34s/it]"
          ],
          "name": "stderr"
        },
        {
          "output_type": "stream",
          "text": [
            " 1075 sucessfully saved 36100966.xml\n",
            " 1076 sucessfully saved 36100966.xml\n",
            " 1077 sucessfully saved 36100966.xml\n",
            " 1078 sucessfully saved 36100966.xml\n"
          ],
          "name": "stdout"
        },
        {
          "output_type": "stream",
          "text": [
            "\r 71%|███████   | 1080/1520 [19:25<10:04,  1.37s/it]"
          ],
          "name": "stderr"
        },
        {
          "output_type": "stream",
          "text": [
            " 1079 sucessfully saved 36100966.xml\n",
            " 1080 sucessfully saved 36100966.xml\n",
            " 1081 sucessfully saved 36100966.xml\n"
          ],
          "name": "stdout"
        },
        {
          "output_type": "stream",
          "text": [
            "\r 71%|███████▏  | 1083/1520 [19:36<14:36,  2.01s/it]"
          ],
          "name": "stderr"
        },
        {
          "output_type": "stream",
          "text": [
            " 1082 sucessfully saved 36100966.xml\n",
            " 1083 sucessfully saved 36100966.xml\n",
            " 1084 sucessfully saved 36100966.xml\n",
            " 1085 sucessfully saved 36100966.xml\n",
            " 1086 sucessfully saved 36100966.xml\n",
            " 1087 sucessfully saved 36100966.xml\n",
            " 1088 sucessfully saved 36100966.xml\n",
            " 1089 sucessfully saved 36100966.xml\n",
            " 1090 sucessfully saved 36100966.xml\n"
          ],
          "name": "stdout"
        },
        {
          "output_type": "stream",
          "text": [
            "\r 72%|███████▏  | 1092/1520 [19:39<10:50,  1.52s/it]"
          ],
          "name": "stderr"
        },
        {
          "output_type": "stream",
          "text": [
            " 1091 sucessfully saved 36100966.xml\n"
          ],
          "name": "stdout"
        },
        {
          "output_type": "stream",
          "text": [
            "\r 72%|███████▏  | 1093/1520 [19:44<17:45,  2.49s/it]"
          ],
          "name": "stderr"
        },
        {
          "output_type": "stream",
          "text": [
            " 1092 sucessfully saved 36100966.xml\n",
            " 1093 sucessfully saved 36100966.xml\n",
            " 1094 sucessfully saved 36100966.xml\n"
          ],
          "name": "stdout"
        },
        {
          "output_type": "stream",
          "text": [
            "\r 72%|███████▏  | 1096/1520 [19:47<14:48,  2.10s/it]"
          ],
          "name": "stderr"
        },
        {
          "output_type": "stream",
          "text": [
            " 1095 sucessfully saved 36100966.xml\n",
            " 1096 sucessfully saved 36100966.xml\n",
            " 1097 sucessfully saved 36100966.xml\n"
          ],
          "name": "stdout"
        },
        {
          "output_type": "stream",
          "text": [
            "\r 72%|███████▏  | 1099/1520 [20:07<24:22,  3.47s/it]"
          ],
          "name": "stderr"
        },
        {
          "output_type": "stream",
          "text": [
            " 1098 sucessfully saved 36100966.xml\n",
            " 1099 sucessfully saved 36100966.xml\n",
            " 1100 sucessfully saved 36100966.xml\n",
            " 1101 sucessfully saved 36100966.xml\n",
            " 1102 sucessfully saved 36100966.xml\n",
            " 1103 sucessfully saved 36100966.xml\n",
            " 1104 sucessfully saved 36100966.xml\n",
            " 1105 sucessfully saved 36100966.xml\n",
            " 1106 sucessfully saved 36100966.xml\n",
            " 1107 sucessfully saved 36100966.xml\n"
          ],
          "name": "stdout"
        },
        {
          "output_type": "stream",
          "text": [
            "\r 73%|███████▎  | 1109/1520 [20:10<17:15,  2.52s/it]"
          ],
          "name": "stderr"
        },
        {
          "output_type": "stream",
          "text": [
            " 1108 sucessfully saved 36100966.xml\n",
            " 1109 sucessfully saved 36100966.xml\n",
            " 1110 sucessfully saved 36100966.xml\n",
            " 1111 sucessfully saved 36100966.xml\n",
            " 1112 sucessfully saved 36100966.xml\n",
            " 1113 sucessfully saved 36100966.xml\n",
            " 1114 sucessfully saved 36100966.xml\n",
            " 1115 sucessfully saved 36100966.xml\n",
            " 1116 sucessfully saved 36100966.xml\n",
            " 1117 sucessfully saved 36100966.xml\n",
            " 1118 sucessfully saved 36100966.xml\n",
            " 1119 sucessfully saved 36100966.xml\n",
            " 1120 sucessfully saved 36100966.xml\n"
          ],
          "name": "stdout"
        },
        {
          "output_type": "stream",
          "text": [
            "\r 74%|███████▍  | 1122/1520 [20:16<12:32,  1.89s/it]"
          ],
          "name": "stderr"
        },
        {
          "output_type": "stream",
          "text": [
            " 1121 sucessfully saved 36100966.xml\n",
            " 1122 sucessfully saved 36100966.xml\n",
            " 1123 sucessfully saved 36100966.xml\n",
            " 1124 sucessfully saved 36100966.xml\n"
          ],
          "name": "stdout"
        },
        {
          "output_type": "stream",
          "text": [
            "\r 74%|███████▍  | 1126/1520 [20:18<09:33,  1.45s/it]"
          ],
          "name": "stderr"
        },
        {
          "output_type": "stream",
          "text": [
            " 1125 sucessfully saved 36100966.xml\n",
            " 1126 sucessfully saved 36100966.xml\n",
            " 1127 sucessfully saved 36100966.xml\n",
            " 1128 sucessfully saved 36100966.xml\n",
            " 1129 sucessfully saved 36100966.xml\n",
            " 1130 sucessfully saved 36100966.xml\n"
          ],
          "name": "stdout"
        },
        {
          "output_type": "stream",
          "text": [
            "\r 74%|███████▍  | 1132/1520 [20:20<07:23,  1.14s/it]"
          ],
          "name": "stderr"
        },
        {
          "output_type": "stream",
          "text": [
            " 1131 sucessfully saved 36100966.xml\n"
          ],
          "name": "stdout"
        },
        {
          "output_type": "stream",
          "text": [
            "\r 75%|███████▍  | 1133/1520 [20:22<08:55,  1.38s/it]"
          ],
          "name": "stderr"
        },
        {
          "output_type": "stream",
          "text": [
            " 1132 sucessfully saved 36100966.xml\n",
            " 1133 sucessfully saved 36100966.xml\n",
            " 1134 sucessfully saved 36100966.xml\n",
            " 1135 sucessfully saved 36100966.xml\n",
            " 1136 sucessfully saved 36100966.xml\n",
            " 1137 sucessfully saved 36100966.xml\n"
          ],
          "name": "stdout"
        },
        {
          "output_type": "stream",
          "text": [
            "\r 75%|███████▍  | 1139/1520 [20:27<07:49,  1.23s/it]"
          ],
          "name": "stderr"
        },
        {
          "output_type": "stream",
          "text": [
            " 1138 sucessfully saved 36100966.xml\n",
            " 1139 sucessfully saved 36100966.xml\n",
            " 1140 sucessfully saved 36100966.xml\n"
          ],
          "name": "stdout"
        },
        {
          "output_type": "stream",
          "text": [
            " 76%|███████▌  | 1149/1520 [20:46<11:35,  1.87s/it]"
          ],
          "name": "stderr"
        },
        {
          "output_type": "stream",
          "text": [
            " 1141 sucessfully saved 36100966.xml\n",
            " 1142 sucessfully saved 36100966.xml\n",
            " 1143 sucessfully saved 36100966.xml\n",
            " 1144 sucessfully saved 36100966.xml\n",
            " 1145 sucessfully saved 36100966.xml\n",
            " 1146 sucessfully saved 36100966.xml\n",
            " 1147 sucessfully saved 36100966.xml\n",
            " 1148 sucessfully saved 36100966.xml\n",
            " 1149 sucessfully saved 36100966.xml\n",
            " 1150 sucessfully saved 36100966.xml\n",
            " 1151 sucessfully saved 36100966.xml\n"
          ],
          "name": "stdout"
        },
        {
          "output_type": "stream",
          "text": [
            " 76%|███████▌  | 1153/1520 [21:13<20:48,  3.40s/it]"
          ],
          "name": "stderr"
        },
        {
          "output_type": "stream",
          "text": [
            " 1152 sucessfully saved 36100966.xml\n",
            " 1153 sucessfully saved 36100966.xml\n",
            " 1154 sucessfully saved 36100966.xml\n",
            " 1155 sucessfully saved 36100966.xml\n",
            " 1156 sucessfully saved 36100966.xml\n",
            " 1157 sucessfully saved 36100966.xml\n"
          ],
          "name": "stdout"
        },
        {
          "output_type": "stream",
          "text": [
            "\r 76%|███████▋  | 1159/1520 [21:22<16:55,  2.81s/it]"
          ],
          "name": "stderr"
        },
        {
          "output_type": "stream",
          "text": [
            " 1158 sucessfully saved 36100966.xml\n",
            " 1159 sucessfully saved 36100966.xml\n",
            " 1160 sucessfully saved 36100966.xml\n",
            " 1161 sucessfully saved 36100966.xml\n",
            " 1162 sucessfully saved 36100966.xml\n",
            " 1163 sucessfully saved 36100966.xml\n"
          ],
          "name": "stdout"
        },
        {
          "output_type": "stream",
          "text": [
            "\r 77%|███████▋  | 1165/1520 [21:49<19:31,  3.30s/it]"
          ],
          "name": "stderr"
        },
        {
          "output_type": "stream",
          "text": [
            " 1164 sucessfully saved 36100966.xml\n",
            " 1165 sucessfully saved 36100966.xml\n",
            " 1166 sucessfully saved 36100966.xml\n",
            " 1167 sucessfully saved 36100966.xml\n",
            " 1168 sucessfully saved 36100966.xml\n",
            " 1169 sucessfully saved 36100966.xml\n",
            " 1170 sucessfully saved 36100966.xml\n",
            " 1171 sucessfully saved 36100966.xml\n",
            " 1172 sucessfully saved 36100966.xml\n",
            " 1173 sucessfully saved 36100966.xml\n",
            " 1174 sucessfully saved 36100966.xml\n",
            " 1175 sucessfully saved 36100966.xml\n",
            " 1176 sucessfully saved 36100966.xml\n",
            " 1177 sucessfully saved 36100966.xml\n",
            " 1178 sucessfully saved 36100966.xml\n",
            " 1179 sucessfully saved 36100966.xml\n",
            " 1180 sucessfully saved 36100966.xml\n",
            " 1181 sucessfully saved 36100966.xml\n",
            " 1182 sucessfully saved 36100966.xml\n",
            " 1183 sucessfully saved 36100966.xml\n",
            " 1184 sucessfully saved 36100966.xml\n",
            " 1185 sucessfully saved 36100966.xml\n",
            " 1186 sucessfully saved 36100966.xml\n",
            " 1187 sucessfully saved 36100966.xml\n",
            " 1188 sucessfully saved 36100966.xml\n",
            " 1189 sucessfully saved 36100966.xml\n",
            " 1190 sucessfully saved 36100966.xml\n",
            " 1191 sucessfully saved 36100966.xml\n",
            " 1192 sucessfully saved 36100966.xml\n",
            " 1193 sucessfully saved 36100966.xml\n",
            " 1194 sucessfully saved 36100966.xml\n",
            " 1195 sucessfully saved 36100966.xml\n",
            " 1196 sucessfully saved 36100966.xml\n",
            " 1197 sucessfully saved 36100966.xml\n",
            " 1198 sucessfully saved 36100966.xml\n",
            " 1199 sucessfully saved 36100966.xml\n",
            " 1200 sucessfully saved 36100966.xml\n",
            " 1201 sucessfully saved 36100966.xml\n",
            " 1202 sucessfully saved 36100966.xml\n",
            " 1203 sucessfully saved 36100966.xml\n"
          ],
          "name": "stdout"
        },
        {
          "output_type": "stream",
          "text": [
            "\r 79%|███████▉  | 1205/1520 [21:57<12:27,  2.37s/it]"
          ],
          "name": "stderr"
        },
        {
          "output_type": "stream",
          "text": [
            " 1204 sucessfully saved 36100966.xml\n",
            " 1205 sucessfully saved 36100966.xml\n",
            " 1206 sucessfully saved 36100966.xml\n",
            " 1207 sucessfully saved 36100966.xml\n",
            " 1208 sucessfully saved 36100966.xml\n"
          ],
          "name": "stdout"
        },
        {
          "output_type": "stream",
          "text": [
            "\r 80%|███████▉  | 1210/1520 [22:09<12:13,  2.37s/it]"
          ],
          "name": "stderr"
        },
        {
          "output_type": "stream",
          "text": [
            " 1209 sucessfully saved 36100966.xml\n",
            " 1210 sucessfully saved 36100966.xml\n",
            " 1211 sucessfully saved 36100966.xml\n",
            " 1212 sucessfully saved 36100966.xml\n",
            " 1213 sucessfully saved 36100966.xml\n",
            " 1214 sucessfully saved 36100966.xml\n"
          ],
          "name": "stdout"
        },
        {
          "output_type": "stream",
          "text": [
            "\r 80%|████████  | 1216/1520 [22:25<12:35,  2.49s/it]"
          ],
          "name": "stderr"
        },
        {
          "output_type": "stream",
          "text": [
            " 1215 sucessfully saved 36100966.xml\n",
            " 1216 sucessfully saved 36100966.xml\n",
            " 1217 sucessfully saved 36100966.xml\n",
            " 1218 sucessfully saved 36100966.xml\n",
            " 1219 sucessfully saved 36100966.xml\n",
            " 1220 sucessfully saved 36100966.xml\n",
            " 1221 sucessfully saved 36100966.xml\n",
            " 1222 sucessfully saved 36100966.xml\n",
            " 1223 sucessfully saved 36100966.xml\n",
            " 1224 sucessfully saved 36100966.xml\n",
            " 1225 sucessfully saved 36100966.xml\n",
            " 1226 sucessfully saved 36100966.xml\n",
            " 1227 sucessfully saved 36100966.xml\n",
            " 1228 sucessfully saved 36100966.xml\n",
            " 1229 sucessfully saved 36100966.xml\n",
            " 1230 sucessfully saved 36100966.xml\n",
            " 1231 sucessfully saved 36100966.xml\n"
          ],
          "name": "stdout"
        },
        {
          "output_type": "stream",
          "text": [
            "\r 81%|████████  | 1233/1520 [22:49<10:19,  2.16s/it]"
          ],
          "name": "stderr"
        },
        {
          "output_type": "stream",
          "text": [
            " 1232 sucessfully saved 36100966.xml\n",
            " 1233 sucessfully saved 36100966.xml\n",
            " 1234 sucessfully saved 36100966.xml\n",
            " 1235 sucessfully saved 36100966.xml\n",
            " 1236 sucessfully saved 36100966.xml\n",
            " 1237 sucessfully saved 36100966.xml\n",
            " 1238 sucessfully saved 36100966.xml\n",
            " 1239 sucessfully saved 36100966.xml\n",
            " 1240 sucessfully saved 36100966.xml\n",
            " 1241 sucessfully saved 36100966.xml\n",
            " 1242 sucessfully saved 36100966.xml\n",
            " 1243 sucessfully saved 36100966.xml\n",
            " 1244 sucessfully saved 36100966.xml\n",
            " 1245 sucessfully saved 36100966.xml\n",
            " 1246 sucessfully saved 36100966.xml\n",
            " 1247 sucessfully saved 36100966.xml\n",
            " 1248 sucessfully saved 36100966.xml\n",
            " 1249 sucessfully saved 36100966.xml\n",
            " 1250 sucessfully saved 36100966.xml\n",
            " 1251 sucessfully saved 36100966.xml\n",
            " 1252 sucessfully saved 36100966.xml\n",
            " 1253 sucessfully saved 36100966.xml\n",
            " 1254 sucessfully saved 36100966.xml\n",
            " 1255 sucessfully saved 36100966.xml\n",
            " 1256 sucessfully saved 36100966.xml\n"
          ],
          "name": "stdout"
        },
        {
          "output_type": "stream",
          "text": [
            "\r 83%|████████▎ | 1258/1520 [22:57<06:59,  1.60s/it]"
          ],
          "name": "stderr"
        },
        {
          "output_type": "stream",
          "text": [
            " 1257 sucessfully saved 36100966.xml\n",
            " 1258 sucessfully saved 36100966.xml\n",
            " 1259 sucessfully saved 36100966.xml\n",
            " 1260 sucessfully saved 36100966.xml\n",
            " 1261 sucessfully saved 36100966.xml\n",
            " 1262 sucessfully saved 36100966.xml\n",
            " 1263 sucessfully saved 36100966.xml\n",
            " 1264 sucessfully saved 36100966.xml\n",
            " 1265 sucessfully saved 36100966.xml\n"
          ],
          "name": "stdout"
        },
        {
          "output_type": "stream",
          "text": [
            "\r 83%|████████▎ | 1267/1520 [23:02<05:32,  1.31s/it]"
          ],
          "name": "stderr"
        },
        {
          "output_type": "stream",
          "text": [
            " 1266 sucessfully saved 36100966.xml\n"
          ],
          "name": "stdout"
        },
        {
          "output_type": "stream",
          "text": [
            " 84%|████████▍ | 1273/1520 [23:18<15:52,  3.86s/it]"
          ],
          "name": "stderr"
        },
        {
          "output_type": "stream",
          "text": [
            " 1267 sucessfully saved 36100966.xml\n",
            " 1268 sucessfully saved 36100966.xml\n",
            " 1269 sucessfully saved 36100966.xml\n",
            " 1270 sucessfully saved 36100966.xml\n",
            " 1271 sucessfully saved 36100966.xml\n",
            " 1272 sucessfully saved 36100966.xml\n",
            " 1273 sucessfully saved 36100966.xml\n",
            " 1274 sucessfully saved 36100966.xml\n",
            " 1275 sucessfully saved 36100966.xml\n",
            " 1276 sucessfully saved 36100966.xml\n",
            " 1277 sucessfully saved 36100966.xml\n",
            " 1278 sucessfully saved 36100966.xml\n",
            " 1279 sucessfully saved 36100966.xml\n",
            " 1280 sucessfully saved 36100966.xml\n",
            " 1281 sucessfully saved 36100966.xml\n"
          ],
          "name": "stdout"
        },
        {
          "output_type": "stream",
          "text": [
            "\r 84%|████████▍ | 1283/1520 [23:19<10:45,  2.72s/it]"
          ],
          "name": "stderr"
        },
        {
          "output_type": "stream",
          "text": [
            " 1282 sucessfully saved 36100966.xml\n"
          ],
          "name": "stdout"
        },
        {
          "output_type": "stream",
          "text": [
            "\r 85%|████████▍ | 1285/1520 [23:28<13:01,  3.33s/it]"
          ],
          "name": "stderr"
        },
        {
          "output_type": "stream",
          "text": [
            " 1283 sucessfully saved 36100966.xml\n",
            " 1284 sucessfully saved 36100966.xml\n",
            " 1285 sucessfully saved 36100966.xml\n",
            " 1286 sucessfully saved 36100966.xml\n",
            " 1287 sucessfully saved 36100966.xml\n"
          ],
          "name": "stdout"
        },
        {
          "output_type": "stream",
          "text": [
            "\r 85%|████████▍ | 1289/1520 [23:49<15:02,  3.91s/it]"
          ],
          "name": "stderr"
        },
        {
          "output_type": "stream",
          "text": [
            " 1288 sucessfully saved 36100966.xml\n",
            " 1289 sucessfully saved 36100966.xml\n",
            " 1290 sucessfully saved 36100966.xml\n",
            " 1291 sucessfully saved 36100966.xml\n",
            " 1292 sucessfully saved 36100966.xml\n",
            " 1293 sucessfully saved 36100966.xml\n",
            " 1294 sucessfully saved 36100966.xml\n",
            " 1295 sucessfully saved 36100966.xml\n",
            " 1296 sucessfully saved 36100966.xml\n",
            " 1297 sucessfully saved 36100966.xml\n",
            " 1298 sucessfully saved 36100966.xml\n",
            " 1299 sucessfully saved 36100966.xml\n",
            " 1300 sucessfully saved 36100966.xml\n",
            " 1301 sucessfully saved 36100966.xml\n",
            " 1302 sucessfully saved 36100966.xml\n",
            " 1303 sucessfully saved 36100966.xml\n",
            " 1304 sucessfully saved 36100966.xml\n",
            " 1305 sucessfully saved 36100966.xml\n",
            " 1306 sucessfully saved 36100966.xml\n",
            " 1307 sucessfully saved 36100966.xml\n",
            " 1308 sucessfully saved 36100966.xml\n",
            " 1309 sucessfully saved 36100966.xml\n"
          ],
          "name": "stdout"
        },
        {
          "output_type": "stream",
          "text": [
            "\r 86%|████████▋ | 1311/1520 [23:53<09:43,  2.79s/it]"
          ],
          "name": "stderr"
        },
        {
          "output_type": "stream",
          "text": [
            " 1310 sucessfully saved 36100966.xml\n",
            " 1311 sucessfully saved 36100966.xml\n",
            " 1312 sucessfully saved 36100966.xml\n",
            " 1313 sucessfully saved 36100966.xml\n"
          ],
          "name": "stdout"
        },
        {
          "output_type": "stream",
          "text": [
            "\r 87%|████████▋ | 1315/1520 [24:02<08:46,  2.57s/it]"
          ],
          "name": "stderr"
        },
        {
          "output_type": "stream",
          "text": [
            " 1314 sucessfully saved 36100966.xml\n",
            " 1315 sucessfully saved 36100966.xml\n",
            " 1316 sucessfully saved 36100966.xml\n",
            " 1317 sucessfully saved 36100966.xml\n",
            " 1318 sucessfully saved 36100966.xml\n",
            " 1319 sucessfully saved 36100966.xml\n"
          ],
          "name": "stdout"
        },
        {
          "output_type": "stream",
          "text": [
            "\r 87%|████████▋ | 1321/1520 [24:17<08:30,  2.57s/it]"
          ],
          "name": "stderr"
        },
        {
          "output_type": "stream",
          "text": [
            " 1320 sucessfully saved 36100966.xml\n",
            " 1321 sucessfully saved 36100966.xml\n",
            " 1322 sucessfully saved 36100966.xml\n",
            " 1323 sucessfully saved 36100966.xml\n"
          ],
          "name": "stdout"
        },
        {
          "output_type": "stream",
          "text": [
            "\r 87%|████████▋ | 1325/1520 [24:21<06:53,  2.12s/it]"
          ],
          "name": "stderr"
        },
        {
          "output_type": "stream",
          "text": [
            " 1324 sucessfully saved 36100966.xml\n",
            " 1325 sucessfully saved 36100966.xml\n",
            " 1326 sucessfully saved 36100966.xml\n",
            " 1327 sucessfully saved 36100966.xml\n",
            " 1328 sucessfully saved 36100966.xml\n",
            " 1329 sucessfully saved 36100966.xml\n",
            " 1330 sucessfully saved 36100966.xml\n"
          ],
          "name": "stdout"
        },
        {
          "output_type": "stream",
          "text": [
            "\r 88%|████████▊ | 1332/1520 [24:37<06:49,  2.18s/it]"
          ],
          "name": "stderr"
        },
        {
          "output_type": "stream",
          "text": [
            " 1331 sucessfully saved 36100966.xml\n",
            " 1332 sucessfully saved 36100966.xml\n",
            " 1333 sucessfully saved 36100966.xml\n",
            " 1334 sucessfully saved 36100966.xml\n",
            " 1335 sucessfully saved 36100966.xml\n",
            " 1336 sucessfully saved 36100966.xml\n",
            " 1337 sucessfully saved 36100966.xml\n",
            " 1338 sucessfully saved 36100966.xml\n",
            " 1339 sucessfully saved 36100966.xml\n",
            " 1340 sucessfully saved 36100966.xml\n",
            " 1341 sucessfully saved 36100966.xml\n",
            " 1342 sucessfully saved 36100966.xml\n",
            " 1343 sucessfully saved 36100966.xml\n",
            " 1344 sucessfully saved 36100966.xml\n",
            " 1345 sucessfully saved 36100966.xml\n",
            " 1346 sucessfully saved 36100966.xml\n",
            " 1347 sucessfully saved 36100966.xml\n",
            " 1348 sucessfully saved 36100966.xml\n"
          ],
          "name": "stdout"
        },
        {
          "output_type": "stream",
          "text": [
            "\r 89%|████████▉ | 1350/1520 [24:49<04:52,  1.72s/it]"
          ],
          "name": "stderr"
        },
        {
          "output_type": "stream",
          "text": [
            " 1349 sucessfully saved 36100966.xml\n",
            " 1350 sucessfully saved 36100966.xml\n",
            " 1351 sucessfully saved 36100966.xml\n",
            " 1352 sucessfully saved 36100966.xml\n",
            " 1353 sucessfully saved 36100966.xml\n",
            " 1354 sucessfully saved 36100966.xml\n"
          ],
          "name": "stdout"
        },
        {
          "output_type": "stream",
          "text": [
            "\r 89%|████████▉ | 1356/1520 [25:04<05:17,  1.94s/it]"
          ],
          "name": "stderr"
        },
        {
          "output_type": "stream",
          "text": [
            " 1355 sucessfully saved 36100966.xml\n",
            " 1356 sucessfully saved 36100966.xml\n"
          ],
          "name": "stdout"
        },
        {
          "output_type": "stream",
          "text": [
            "\r 89%|████████▉ | 1358/1520 [25:52<23:09,  8.58s/it]"
          ],
          "name": "stderr"
        },
        {
          "output_type": "stream",
          "text": [
            " 1357 sucessfully saved 36100966.xml\n",
            " 1358 sucessfully saved 36100966.xml\n",
            " 1359 sucessfully saved 36100966.xml\n",
            " 1360 sucessfully saved 36100966.xml\n",
            " 1361 sucessfully saved 36100966.xml\n",
            " 1362 sucessfully saved 36100966.xml\n",
            " 1363 sucessfully saved 36100966.xml\n",
            " 1364 sucessfully saved 36100966.xml\n",
            " 1365 sucessfully saved 36100966.xml\n",
            " 1366 sucessfully saved 36100966.xml\n",
            " 1367 sucessfully saved 36100966.xml\n",
            " 1368 sucessfully saved 36100966.xml\n",
            " 1369 sucessfully saved 36100966.xml\n",
            " 1370 sucessfully saved 36100966.xml\n",
            " 1371 sucessfully saved 36100966.xml\n",
            " 1372 sucessfully saved 36100966.xml\n",
            " 1373 sucessfully saved 36100966.xml\n",
            " 1374 sucessfully saved 36100966.xml\n",
            " 1375 sucessfully saved 36100966.xml\n",
            " 1376 sucessfully saved 36100966.xml\n",
            " 1377 sucessfully saved 36100966.xml\n",
            " 1378 sucessfully saved 36100966.xml\n",
            " 1379 sucessfully saved 36100966.xml\n",
            " 1380 sucessfully saved 36100966.xml\n",
            " 1381 sucessfully saved 36100966.xml\n",
            " 1382 sucessfully saved 36100966.xml\n",
            " 1383 sucessfully saved 36100966.xml\n",
            " 1384 sucessfully saved 36100966.xml\n",
            " 1385 sucessfully saved 36100966.xml\n",
            " 1386 sucessfully saved 36100966.xml\n",
            " 1387 sucessfully saved 36100966.xml\n",
            " 1388 sucessfully saved 36100966.xml\n",
            " 1389 sucessfully saved 36100966.xml\n",
            " 1390 sucessfully saved 36100966.xml\n",
            " 1391 sucessfully saved 36100966.xml\n",
            " 1392 sucessfully saved 36100966.xml\n",
            " 1393 sucessfully saved 36100966.xml\n",
            " 1394 sucessfully saved 36100966.xml\n",
            " 1395 sucessfully saved 36100966.xml\n",
            " 1396 sucessfully saved 36100966.xml\n",
            " 1397 sucessfully saved 36100966.xml\n",
            " 1398 sucessfully saved 36100966.xml\n",
            " 1399 sucessfully saved 36100966.xml\n",
            " 1400 sucessfully saved 36100966.xml\n",
            " 1401 sucessfully saved 36100966.xml\n",
            " 1402 sucessfully saved 36100966.xml\n",
            " 1403 sucessfully saved 36100966.xml\n",
            " 1404 sucessfully saved 36100966.xml\n"
          ],
          "name": "stdout"
        },
        {
          "output_type": "stream",
          "text": [
            "\r 92%|█████████▎| 1406/1520 [25:59<11:29,  6.05s/it]"
          ],
          "name": "stderr"
        },
        {
          "output_type": "stream",
          "text": [
            " 1405 sucessfully saved 36100966.xml\n",
            " 1406 sucessfully saved 36100966.xml\n",
            " 1407 sucessfully saved 36100966.xml\n",
            " 1408 sucessfully saved 36100966.xml\n",
            " 1409 sucessfully saved 36100966.xml\n",
            " 1410 sucessfully saved 36100966.xml\n",
            " 1411 sucessfully saved 36100966.xml\n",
            " 1412 sucessfully saved 36100966.xml\n",
            " 1413 sucessfully saved 36100966.xml\n",
            " 1414 sucessfully saved 36100966.xml\n",
            " 1415 sucessfully saved 36100966.xml\n"
          ],
          "name": "stdout"
        },
        {
          "output_type": "stream",
          "text": [
            "\r 93%|█████████▎| 1417/1520 [26:04<07:31,  4.38s/it]"
          ],
          "name": "stderr"
        },
        {
          "output_type": "stream",
          "text": [
            " 1416 sucessfully saved 36100966.xml\n",
            " 1417 sucessfully saved 36100966.xml\n",
            " 1418 sucessfully saved 36100966.xml\n",
            " 1419 sucessfully saved 36100966.xml\n",
            " 1420 sucessfully saved 36100966.xml\n",
            " 1421 sucessfully saved 36100966.xml\n",
            " 1422 sucessfully saved 36100966.xml\n",
            " 1423 sucessfully saved 36100966.xml\n",
            " 1424 sucessfully saved 36100966.xml\n"
          ],
          "name": "stdout"
        },
        {
          "output_type": "stream",
          "text": [
            "\r 94%|█████████▍| 1426/1520 [26:15<05:21,  3.41s/it]"
          ],
          "name": "stderr"
        },
        {
          "output_type": "stream",
          "text": [
            " 1425 sucessfully saved 36100966.xml\n",
            " 1426 sucessfully saved 36100966.xml\n",
            " 1427 sucessfully saved 36100966.xml\n",
            " 1428 sucessfully saved 36100966.xml\n",
            " 1429 sucessfully saved 36100966.xml\n",
            " 1430 sucessfully saved 36100966.xml\n",
            " 1431 sucessfully saved 36100966.xml\n",
            " 1432 sucessfully saved 36100966.xml\n",
            " 1433 sucessfully saved 36100966.xml\n",
            " 1434 sucessfully saved 36100966.xml\n",
            " 1435 sucessfully saved 36100966.xml\n",
            " 1436 sucessfully saved 36100966.xml\n",
            " 1437 sucessfully saved 36100966.xml\n",
            " 1438 sucessfully saved 36100966.xml\n",
            " 1439 sucessfully saved 36100966.xml\n",
            " 1440 sucessfully saved 36100966.xml\n",
            " 1441 sucessfully saved 36100966.xml\n",
            " 1442 sucessfully saved 36100966.xml\n",
            " 1443 sucessfully saved 36100966.xml\n",
            " 1444 sucessfully saved 36100966.xml\n",
            " 1445 sucessfully saved 36100966.xml\n"
          ],
          "name": "stdout"
        },
        {
          "output_type": "stream",
          "text": [
            "\r 95%|█████████▌| 1447/1520 [26:19<02:59,  2.46s/it]"
          ],
          "name": "stderr"
        },
        {
          "output_type": "stream",
          "text": [
            " 1446 sucessfully saved 36100966.xml\n"
          ],
          "name": "stdout"
        },
        {
          "output_type": "stream",
          "text": [
            "\r 95%|█████████▌| 1448/1520 [26:26<04:40,  3.89s/it]"
          ],
          "name": "stderr"
        },
        {
          "output_type": "stream",
          "text": [
            " 1447 sucessfully saved 36100966.xml\n",
            " 1448 sucessfully saved 36100966.xml\n",
            " 1449 sucessfully saved 36100966.xml\n",
            " 1450 sucessfully saved 36100966.xml\n"
          ],
          "name": "stdout"
        },
        {
          "output_type": "stream",
          "text": [
            "\r 96%|█████████▌| 1452/1520 [26:28<03:14,  2.87s/it]"
          ],
          "name": "stderr"
        },
        {
          "output_type": "stream",
          "text": [
            " 1451 sucessfully saved 36100966.xml\n",
            " 1452 sucessfully saved 36100966.xml\n",
            " 1453 sucessfully saved 36100966.xml\n",
            " 1454 sucessfully saved 36100966.xml\n",
            " 1455 sucessfully saved 36100966.xml\n",
            " 1456 sucessfully saved 36100966.xml\n",
            " 1457 sucessfully saved 36100966.xml\n"
          ],
          "name": "stdout"
        },
        {
          "output_type": "stream",
          "text": [
            "\r 96%|█████████▌| 1459/1520 [26:37<02:23,  2.36s/it]"
          ],
          "name": "stderr"
        },
        {
          "output_type": "stream",
          "text": [
            " 1458 sucessfully saved 36100966.xml\n",
            " 1459 sucessfully saved 36100966.xml\n"
          ],
          "name": "stdout"
        },
        {
          "output_type": "stream",
          "text": [
            "\r 96%|█████████▌| 1461/1520 [26:53<04:06,  4.17s/it]"
          ],
          "name": "stderr"
        },
        {
          "output_type": "stream",
          "text": [
            " 1460 sucessfully saved 36100966.xml\n",
            " 1461 sucessfully saved 36100966.xml\n",
            " 1462 sucessfully saved 36100966.xml\n",
            " 1463 sucessfully saved 36100966.xml\n",
            " 1464 sucessfully saved 36100966.xml\n",
            " 1465 sucessfully saved 36100966.xml\n",
            " 1466 sucessfully saved 36100966.xml\n",
            " 1467 sucessfully saved 36100966.xml\n",
            " 1468 sucessfully saved 36100966.xml\n",
            " 1469 sucessfully saved 36100966.xml\n",
            " 1470 sucessfully saved 36100966.xml\n",
            " 1471 sucessfully saved 36100966.xml\n",
            " 1472 sucessfully saved 36100966.xml\n",
            " 1473 sucessfully saved 36100966.xml\n",
            " 1474 sucessfully saved 36100966.xml\n",
            " 1475 sucessfully saved 36100966.xml\n",
            " 1476 sucessfully saved 36100966.xml\n",
            " 1477 sucessfully saved 36100966.xml\n",
            " 1478 sucessfully saved 36100966.xml\n",
            " 1479 sucessfully saved 36100966.xml\n",
            " 1480 sucessfully saved 36100966.xml\n"
          ],
          "name": "stdout"
        },
        {
          "output_type": "stream",
          "text": [
            "\r 98%|█████████▊| 1482/1520 [27:00<01:54,  3.01s/it]"
          ],
          "name": "stderr"
        },
        {
          "output_type": "stream",
          "text": [
            " 1481 sucessfully saved 36100966.xml\n",
            " 1482 sucessfully saved 36100966.xml\n",
            " 1483 sucessfully saved 36100966.xml\n",
            " 1484 sucessfully saved 36100966.xml\n",
            " 1485 sucessfully saved 36100966.xml\n",
            " 1486 sucessfully saved 36100966.xml\n",
            " 1487 sucessfully saved 36100966.xml\n",
            " 1488 sucessfully saved 36100966.xml\n",
            " 1489 sucessfully saved 36100966.xml\n"
          ],
          "name": "stdout"
        },
        {
          "output_type": "stream",
          "text": [
            "\r 98%|█████████▊| 1491/1520 [27:36<01:35,  3.30s/it]"
          ],
          "name": "stderr"
        },
        {
          "output_type": "stream",
          "text": [
            " 1490 sucessfully saved 36100966.xml\n",
            " 1491 sucessfully saved 36100966.xml\n",
            " 1492 sucessfully saved 36100966.xml\n",
            " 1493 sucessfully saved 36100966.xml\n",
            " 1494 sucessfully saved 36100966.xml\n",
            " 1495 sucessfully saved 36100966.xml\n",
            " 1496 sucessfully saved 36100966.xml\n",
            " 1497 sucessfully saved 36100966.xml\n",
            " 1498 sucessfully saved 36100966.xml\n",
            " 1499 sucessfully saved 36100966.xml\n",
            " 1500 sucessfully saved 36100966.xml\n",
            " 1501 sucessfully saved 36100966.xml\n",
            " 1502 sucessfully saved 36100966.xml\n",
            " 1503 sucessfully saved 36100966.xml\n",
            " 1504 sucessfully saved 36100966.xml\n",
            " 1505 sucessfully saved 36100966.xml\n",
            " 1506 sucessfully saved 36100966.xml\n",
            " 1507 sucessfully saved 36100966.xml\n",
            " 1508 sucessfully saved 36100966.xml\n",
            " 1509 sucessfully saved 36100966.xml\n",
            " 1510 sucessfully saved 36100966.xml\n",
            " 1511 sucessfully saved 36100966.xml\n",
            " 1512 sucessfully saved 36100966.xml\n",
            " 1513 sucessfully saved 36100966.xml\n",
            " 1514 sucessfully saved 36100966.xml\n",
            " 1515 sucessfully saved 36100966.xml\n",
            " 1516 sucessfully saved 36100966.xml\n",
            " 1517 sucessfully saved 36100966.xml\n"
          ],
          "name": "stdout"
        },
        {
          "output_type": "stream",
          "text": [
            "100%|██████████| 1520/1520 [27:46<00:00,  1.10s/it]"
          ],
          "name": "stderr"
        },
        {
          "output_type": "stream",
          "text": [
            " 1518 sucessfully saved 36100966.xml\n",
            " 1519 sucessfully saved 36100966.xml\n"
          ],
          "name": "stdout"
        },
        {
          "output_type": "stream",
          "text": [
            "\n"
          ],
          "name": "stderr"
        }
      ]
    },
    {
      "cell_type": "code",
      "metadata": {
        "colab": {
          "base_uri": "https://localhost:8080/"
        },
        "id": "sPOhlSY1grG1",
        "outputId": "bc729599-d26e-495c-a334-b72740c6f508"
      },
      "source": [
        "! zip -r xml.zip *"
      ],
      "execution_count": null,
      "outputs": [
        {
          "output_type": "stream",
          "text": [
            "  adding: 11503920.xml (deflated 84%)\n",
            "  adding: 17333180.xml (deflated 83%)\n",
            "  adding: 17699853.xml (deflated 83%)\n",
            "  adding: 20670612.xml (deflated 85%)\n",
            "  adding: 21801668.xml (deflated 84%)\n",
            "  adding: 22062213.xml (deflated 84%)\n",
            "  adding: 22303684.xml (deflated 84%)\n",
            "  adding: 22318476.xml (deflated 83%)\n",
            "  adding: 22552026.xml (deflated 85%)\n",
            "  adding: 23106013.xml (deflated 84%)\n",
            "  adding: 23197837.xml (deflated 83%)\n",
            "  adding: 23267873.xml (deflated 84%)\n",
            "  adding: 23308087.xml (deflated 82%)\n",
            "  adding: 23367261.xml (deflated 84%)\n",
            "  adding: 23401438.xml (deflated 83%)\n",
            "  adding: 23447923.xml (deflated 83%)\n",
            "  adding: 23766634.xml (deflated 80%)\n",
            "  adding: 24154742.xml (deflated 86%)\n",
            "  adding: 24212581.xml (deflated 82%)\n",
            "  adding: 24612045.xml (deflated 84%)\n",
            "  adding: 24763621.xml (deflated 82%)\n",
            "  adding: 24909347.xml (deflated 83%)\n",
            "  adding: 25446343.xml (deflated 83%)\n",
            "  adding: 25489134.xml (deflated 82%)\n",
            "  adding: 25613472.xml (deflated 84%)\n",
            "  adding: 25740412.xml (deflated 81%)\n",
            "  adding: 25813942.xml (deflated 83%)\n",
            "  adding: 25877663.xml (deflated 83%)\n",
            "  adding: 25893783.xml (deflated 84%)\n",
            "  adding: 25895524.xml (deflated 82%)\n",
            "  adding: 26032825.xml (deflated 81%)\n",
            "  adding: 26074156.xml (deflated 83%)\n",
            "  adding: 26532714.xml (deflated 86%)\n",
            "  adding: 26542535.xml (deflated 83%)\n",
            "  adding: 26795307.xml (deflated 82%)\n",
            "  adding: 27188596.xml (deflated 82%)\n",
            "  adding: 27242442.xml (deflated 85%)\n",
            "  adding: 27366528.xml (deflated 85%)\n",
            "  adding: 27883214.xml (deflated 82%)\n",
            "  adding: 27917674.xml (deflated 84%)\n",
            "  adding: 28006096.xml (deflated 84%)\n",
            "  adding: 28006120.xml (deflated 84%)\n",
            "  adding: 28016509.xml (deflated 83%)\n",
            "  adding: 28110850.xml (deflated 83%)\n",
            "  adding: 28116739.xml (deflated 83%)\n",
            "  adding: 28220647.xml (deflated 83%)\n",
            "  adding: 28220971.xml (deflated 83%)\n",
            "  adding: 28243032.xml (deflated 83%)\n",
            "  adding: 28260402.xml (deflated 83%)\n",
            "  adding: 28335698.xml (deflated 83%)\n",
            "  adding: 28449207.xml (deflated 82%)\n",
            "  adding: 28450775.xml (deflated 83%)\n",
            "  adding: 28458598.xml (deflated 81%)\n",
            "  adding: 28512671.xml (deflated 82%)\n",
            "  adding: 28811016.xml (deflated 83%)\n",
            "  adding: 28811018.xml (deflated 84%)\n",
            "  adding: 28814765.xml (deflated 85%)\n",
            "  adding: 28820997.xml (deflated 82%)\n",
            "  adding: 28919058.xml (deflated 82%)\n",
            "  adding: 28953803.xml (deflated 86%)\n",
            "  adding: 28954189.xml (deflated 83%)\n",
            "  adding: 28962996.xml (deflated 83%)\n",
            "  adding: 28965131.xml (deflated 83%)\n",
            "  adding: 29069374.xml (deflated 83%)\n",
            "  adding: 29095401.xml (deflated 85%)\n",
            "  adding: 29095429.xml (deflated 86%)\n",
            "  adding: 29100223.xml (deflated 84%)\n",
            "  adding: 29214727.xml (deflated 84%)\n",
            "  adding: 29237211.xml (deflated 85%)\n",
            "  adding: 29283884.xml (deflated 82%)\n",
            "  adding: 29326301.xml (deflated 85%)\n",
            "  adding: 29363501.xml (deflated 84%)\n",
            "  adding: 29385546.xml (deflated 83%)\n",
            "  adding: 29386918.xml (deflated 82%)\n",
            "  adding: 29430746.xml (deflated 84%)\n",
            "  adding: 29430845.xml (deflated 84%)\n",
            "  adding: 29456569.xml (deflated 83%)\n",
            "  adding: 29496196.xml (deflated 83%)\n",
            "  adding: 29496208.xml (deflated 83%)\n",
            "  adding: 29507117.xml (deflated 84%)\n",
            "  adding: 29563587.xml (deflated 85%)\n",
            "  adding: 29589074.xml (deflated 84%)\n",
            "  adding: 29635592.xml (deflated 84%)\n",
            "  adding: 29739361.xml (deflated 83%)\n",
            "  adding: 29772863.xml (deflated 84%)\n",
            "  adding: 29775583.xml (deflated 85%)\n",
            "  adding: 29864343.xml (deflated 83%)\n",
            "  adding: 29889716.xml (deflated 83%)\n",
            "  adding: 29904278.xml (deflated 84%)\n",
            "  adding: 29906980.xml (deflated 81%)\n",
            "  adding: 29936927.xml (deflated 84%)\n",
            "  adding: 29939148.xml (deflated 83%)\n",
            "  adding: 29939160.xml (deflated 84%)\n",
            "  adding: 29939230.xml (deflated 82%)\n",
            "  adding: 29972029.xml (deflated 84%)\n",
            "  adding: 29983711.xml (deflated 82%)\n",
            "  adding: 30025336.xml (deflated 83%)\n",
            "  adding: 30037871.xml (deflated 84%)\n",
            "  adding: 30037873.xml (deflated 85%)\n",
            "  adding: 30038960.xml (deflated 85%)\n",
            "  adding: 30038988.xml (deflated 85%)\n",
            "  adding: 30075662.xml (deflated 82%)\n",
            "  adding: 30078650.xml (deflated 84%)\n",
            "  adding: 30102870.xml (deflated 83%)\n",
            "  adding: 30107571.xml (deflated 84%)\n",
            "  adding: 30117284.xml (deflated 81%)\n",
            "  adding: 30134847.xml (deflated 85%)\n",
            "  adding: 30145126.xml (deflated 82%)\n",
            "  adding: 30145666.xml (deflated 84%)\n",
            "  adding: 30145677.xml (deflated 85%)\n",
            "  adding: 30153293.xml (deflated 82%)\n",
            "  adding: 30166573.xml (deflated 82%)\n",
            "  adding: 30166695.xml (deflated 84%)\n",
            "  adding: 30169100.xml (deflated 84%)\n",
            "  adding: 30199426.xml (deflated 82%)\n",
            "  adding: 30213950.xml (deflated 82%)\n",
            "  adding: 30221892.xml (deflated 83%)\n",
            "  adding: 30223025.xml (deflated 83%)\n",
            "  adding: 30227022.xml (deflated 81%)\n",
            "  adding: 30231729.xml (deflated 83%)\n",
            "  adding: 30231755.xml (deflated 85%)\n",
            "  adding: 30231812.xml (deflated 84%)\n",
            "  adding: 30253864.xml (deflated 84%)\n",
            "  adding: 30254920.xml (deflated 86%)\n",
            "  adding: 30254963.xml (deflated 86%)\n",
            "  adding: 30256224.xml (deflated 83%)\n",
            "  adding: 30256248.xml (deflated 84%)\n",
            "  adding: 30257963.xml (deflated 81%)\n",
            "  adding: 30267929.xml (deflated 84%)\n",
            "  adding: 30268071.xml (deflated 87%)\n",
            "  adding: 30285766.xml (deflated 83%)\n",
            "  adding: 30288282.xml (deflated 83%)\n",
            "  adding: 30297153.xml (deflated 84%)\n",
            "  adding: 30304222.xml (deflated 86%)\n",
            "  adding: 30312547.xml (deflated 85%)\n",
            "  adding: 30312747.xml (deflated 86%)\n",
            "  adding: 30312891.xml (deflated 81%)\n",
            "  adding: 30334134.xml (deflated 81%)\n",
            "  adding: 30358505.xml (deflated 83%)\n",
            "  adding: 30364127.xml (deflated 86%)\n",
            "  adding: 30375426.xml (deflated 86%)\n",
            "  adding: 30531870.xml (deflated 84%)\n",
            "  adding: 30555639.xml (deflated 85%)\n",
            "  adding: 30623067.xml (deflated 85%)\n",
            "  adding: 30629730.xml (deflated 82%)\n",
            "  adding: 30649506.xml (deflated 85%)\n",
            "  adding: 30649795.xml (deflated 83%)\n",
            "  adding: 30653828.xml (deflated 84%)\n",
            "  adding: 30653853.xml (deflated 83%)\n",
            "  adding: 30653928.xml (deflated 84%)\n",
            "  adding: 30653967.xml (deflated 83%)\n",
            "  adding: 30658435.xml (deflated 84%)\n",
            "  adding: 30687916.xml (deflated 84%)\n",
            "  adding: 30688013.xml (deflated 83%)\n",
            "  adding: 30688435.xml (deflated 81%)\n",
            "  adding: 30688762.xml (deflated 83%)\n",
            "  adding: 30688763.xml (deflated 84%)\n",
            "  adding: 30689330.xml (deflated 82%)\n",
            "  adding: 30724132.xml (deflated 83%)\n",
            "  adding: 30753646.xml (deflated 83%)\n",
            "  adding: 30753821.xml (deflated 84%)\n",
            "  adding: 30753828.xml (deflated 81%)\n",
            "  adding: 30753841.xml (deflated 84%)\n",
            "  adding: 30753852.xml (deflated 83%)\n",
            "  adding: 30753987.xml (deflated 82%)\n",
            "  adding: 30754980.xml (deflated 86%)\n",
            "  adding: 30758586.xml (deflated 84%)\n",
            "  adding: 30760782.xml (deflated 86%)\n",
            "  adding: 30780283.xml (deflated 82%)\n",
            "  adding: 30781490.xml (deflated 83%)\n",
            "  adding: 30809689.xml (deflated 83%)\n",
            "  adding: 30809786.xml (deflated 83%)\n",
            "  adding: 30820956.xml (deflated 84%)\n",
            "  adding: 30841984.xml (deflated 82%)\n",
            "  adding: 30901608.xml (deflated 83%)\n",
            "  adding: 30956087.xml (deflated 84%)\n",
            "  adding: 30962055.xml (deflated 83%)\n",
            "  adding: 30962267.xml (deflated 84%)\n",
            "  adding: 30969755.xml (deflated 84%)\n",
            "  adding: 30971664.xml (deflated 84%)\n",
            "  adding: 30971731.xml (deflated 84%)\n",
            "  adding: 30971755.xml (deflated 83%)\n",
            "  adding: 31076583.xml (deflated 82%)\n",
            "  adding: 31125554.xml (deflated 83%)\n",
            "  adding: 31140332.xml (deflated 83%)\n",
            "  adding: 31145091.xml (deflated 84%)\n",
            "  adding: 31145178.xml (deflated 85%)\n",
            "  adding: 31145185.xml (deflated 85%)\n",
            "  adding: 31147267.xml (deflated 84%)\n",
            "  adding: 31159601.xml (deflated 83%)\n",
            "  adding: 31159759.xml (deflated 83%)\n",
            "  adding: 31170723.xml (deflated 81%)\n",
            "  adding: 31180248.xml (deflated 82%)\n",
            "  adding: 31183180.xml (deflated 85%)\n",
            "  adding: 31184479.xml (deflated 85%)\n",
            "  adding: 31202835.xml (deflated 84%)\n",
            "  adding: 31207017.xml (deflated 83%)\n",
            "  adding: 31208653.xml (deflated 84%)\n",
            "  adding: 31213373.xml (deflated 86%)\n",
            "  adding: 31213737.xml (deflated 84%)\n",
            "  adding: 31215005.xml (deflated 86%)\n",
            "  adding: 31223882.xml (deflated 85%)\n",
            "  adding: 31247643.xml (deflated 85%)\n",
            "  adding: 31247841.xml (deflated 86%)\n",
            "  adding: 31324863.xml (deflated 82%)\n",
            "  adding: 31329547.xml (deflated 85%)\n",
            "  adding: 31338724.xml (deflated 85%)\n",
            "  adding: 31340805.xml (deflated 86%)\n",
            "  adding: 31340859.xml (deflated 86%)\n",
            "  adding: 31371728.xml (deflated 83%)\n",
            "  adding: 31373184.xml (deflated 84%)\n",
            "  adding: 31379212.xml (deflated 85%)\n",
            "  adding: 31387199.xml (deflated 84%)\n",
            "  adding: 31396389.xml (deflated 85%)\n",
            "  adding: 31409135.xml (deflated 82%)\n",
            "  adding: 31415529.xml (deflated 83%)\n",
            "  adding: 31420708.xml (deflated 83%)\n",
            "  adding: 31421117.xml (deflated 82%)\n",
            "  adding: 31423449.xml (deflated 85%)\n",
            "  adding: 31423547.xml (deflated 86%)\n",
            "  adding: 31434883.xml (deflated 82%)\n",
            "  adding: 31443394.xml (deflated 82%)\n",
            "  adding: 31450633.xml (deflated 84%)\n",
            "  adding: 31450739.xml (deflated 86%)\n",
            "  adding: 31450766.xml (deflated 82%)\n",
            "  adding: 31450774.xml (deflated 85%)\n",
            "  adding: 31450852.xml (deflated 82%)\n",
            "  adding: 31451086.xml (deflated 85%)\n",
            "  adding: 31451186.xml (deflated 83%)\n",
            "  adding: 31456756.xml (deflated 86%)\n",
            "  adding: 31522139.xml (deflated 83%)\n",
            "  adding: 31522415.xml (deflated 84%)\n",
            "  adding: 31554413.xml (deflated 83%)\n",
            "  adding: 31574739.xml (deflated 84%)\n",
            "  adding: 31624473.xml (deflated 84%)\n",
            "  adding: 31625048.xml (deflated 82%)\n",
            "  adding: 31625636.xml (deflated 84%)\n",
            "  adding: 31625795.xml (deflated 86%)\n",
            "  adding: 31694016.xml (deflated 82%)\n",
            "  adding: 31707101.xml (deflated 85%)\n",
            "  adding: 31751591.xml (deflated 83%)\n",
            "  adding: 31751594.xml (deflated 85%)\n",
            "  adding: 31752152.xml (deflated 83%)\n",
            "  adding: 31817749.xml (deflated 83%)\n",
            "  adding: 31848282.xml (deflated 82%)\n",
            "  adding: 31848288.xml (deflated 84%)\n",
            "  adding: 31869108.xml (deflated 83%)\n",
            "  adding: 31915218.xml (deflated 83%)\n",
            "  adding: 31920777.xml (deflated 82%)\n",
            "  adding: 31920820.xml (deflated 84%)\n",
            "  adding: 31931941.xml (deflated 82%)\n",
            "  adding: 31934379.xml (deflated 82%)\n",
            "  adding: 31944679.xml (deflated 83%)\n",
            "  adding: 31944749.xml (deflated 86%)\n",
            "  adding: 31944953.xml (deflated 85%)\n",
            "  adding: 32024902.xml (deflated 85%)\n",
            "  adding: 32051902.xml (deflated 86%)\n",
            "  adding: 32051912.xml (deflated 83%)\n",
            "  adding: 32052074.xml (deflated 84%)\n",
            "  adding: 32075662.xml (deflated 83%)\n",
            "  adding: 32075671.xml (deflated 83%)\n",
            "  adding: 32075825.xml (deflated 83%)\n",
            "  adding: 32076670.xml (deflated 84%)\n",
            "  adding: 32076678.xml (deflated 83%)\n",
            "  adding: 32078787.xml (deflated 83%)\n",
            "  adding: 32080126.xml (deflated 82%)\n",
            "  adding: 32145091.xml (deflated 83%)\n",
            "  adding: 32148009.xml (deflated 84%)\n",
            "  adding: 32148570.xml (deflated 82%)\n",
            "  adding: 32191664.xml (deflated 85%)\n",
            "  adding: 32191677.xml (deflated 84%)\n",
            "  adding: 32191710.xml (deflated 84%)\n",
            "  adding: 32283133.xml (deflated 82%)\n",
            "  adding: 32283423.xml (deflated 83%)\n",
            "  adding: 32311036.xml (deflated 85%)\n",
            "  adding: 32333338.xml (deflated 84%)\n",
            "  adding: 32335532.xml (deflated 86%)\n",
            "  adding: 32336154.xml (deflated 84%)\n",
            "  adding: 32336166.xml (deflated 85%)\n",
            "  adding: 32337902.xml (deflated 83%)\n",
            "  adding: 32337904.xml (deflated 84%)\n",
            "  adding: 32446949.xml (deflated 83%)\n",
            "  adding: 32487617.xml (deflated 83%)\n",
            "  adding: 32497911.xml (deflated 85%)\n",
            "  adding: 32498038.xml (deflated 84%)\n",
            "  adding: 32498122.xml (deflated 84%)\n",
            "  adding: 32508692.xml (deflated 86%)\n",
            "  adding: 32566407.xml (deflated 85%)\n",
            "  adding: 32572166.xml (deflated 83%)\n",
            "  adding: 32573185.xml (deflated 84%)\n",
            "  adding: 32600726.xml (deflated 84%)\n",
            "  adding: 32604351.xml (deflated 84%)\n",
            "  adding: 32618983.xml (deflated 84%)\n",
            "  adding: 32620332.xml (deflated 81%)\n",
            "  adding: 32620356.xml (deflated 83%)\n",
            "  adding: 32623542.xml (deflated 85%)\n",
            "  adding: 32682118.xml (deflated 83%)\n",
            "  adding: 32711417.xml (deflated 85%)\n",
            "  adding: 32714100.xml (deflated 83%)\n",
            "  adding: 32737127.xml (deflated 83%)\n",
            "  adding: 32777609.xml (deflated 86%)\n",
            "  adding: 32796253.xml (deflated 83%)\n",
            "  adding: 32828538.xml (deflated 83%)\n",
            "  adding: 32835140.xml (deflated 85%)\n",
            "  adding: 32848471.xml (deflated 83%)\n",
            "  adding: 32894542.xml (deflated 84%)\n",
            "  adding: 32905343.xml (deflated 83%)\n",
            "  adding: 32920015.xml (deflated 84%)\n",
            "  adding: 32920226.xml (deflated 83%)\n",
            "  adding: 32922275.xml (deflated 84%)\n",
            "  adding: 32927239.xml (deflated 84%)\n",
            "  adding: 32938155.xml (deflated 84%)\n",
            "  adding: 32940857.xml (deflated 86%)\n",
            "  adding: 32940866.xml (deflated 84%)\n",
            "  adding: 33004208.xml (deflated 83%)\n",
            "  adding: 33004293.xml (deflated 83%)\n",
            "  adding: 33080122.xml (deflated 83%)\n",
            "  adding: 33099371.xml (deflated 84%)\n",
            "  adding: 33151805.xml (deflated 84%)\n",
            "  adding: 33158525.xml (deflated 86%)\n",
            "  adding: 33161035.xml (deflated 86%)\n",
            "  adding: 33163378.xml (deflated 82%)\n",
            "  adding: 33199875.xml (deflated 83%)\n",
            "  adding: 33208115.xml (deflated 86%)\n",
            "  adding: 33253215.xml (deflated 81%)\n",
            "  adding: 33257757.xml (deflated 82%)\n",
            "  adding: 33282947.xml (deflated 84%)\n",
            "  adding: 33296129.xml (deflated 83%)\n",
            "  adding: 33347428.xml (deflated 83%)\n",
            "  adding: 33357930.xml (deflated 84%)\n",
            "  adding: 33368917.xml (deflated 84%)\n",
            "  adding: 33375618.xml (deflated 85%)\n",
            "  adding: 33376257.xml (deflated 86%)\n",
            "  adding: 33381433.xml (deflated 83%)\n",
            "  adding: 33385229.xml (deflated 82%)\n",
            "  adding: 33386034.xml (deflated 85%)\n",
            "  adding: 33387769.xml (deflated 84%)\n",
            "  adding: 33398243.xml (deflated 84%)\n",
            "  adding: 33413556.xml (deflated 83%)\n",
            "  adding: 33516589.xml (deflated 84%)\n",
            "  adding: 33540347.xml (deflated 85%)\n",
            "  adding: 33541526.xml (deflated 83%)\n",
            "  adding: 33555224.xml (deflated 83%)\n",
            "  adding: 33571713.xml (deflated 83%)\n",
            "  adding: 33571767.xml (deflated 85%)\n",
            "  adding: 33572350.xml (deflated 82%)\n",
            "  adding: 33572784.xml (deflated 83%)\n",
            "  adding: 33574090.xml (deflated 84%)\n",
            "  adding: 33585392.xml (deflated 83%)\n",
            "  adding: 33585540.xml (deflated 86%)\n",
            "  adding: 33590210.xml (deflated 82%)\n",
            "  adding: 33590214.xml (deflated 83%)\n",
            "  adding: 33590260.xml (deflated 82%)\n",
            "  adding: 33597147.xml (deflated 83%)\n",
            "  adding: 33598223.xml (deflated 82%)\n",
            "  adding: 33602101.xml (deflated 84%)\n",
            "  adding: 33606259.xml (deflated 86%)\n",
            "  adding: 33621427.xml (deflated 82%)\n",
            "  adding: 33631747.xml (deflated 86%)\n",
            "  adding: 33656178.xml (deflated 85%)\n",
            "  adding: 33670466.xml (deflated 84%)\n",
            "  adding: 33784323.xml (deflated 85%)\n",
            "  adding: 33785205.xml (deflated 83%)\n",
            "  adding: 33785828.xml (deflated 82%)\n",
            "  adding: 33810737.xml (deflated 85%)\n",
            "  adding: 33828743.xml (deflated 83%)\n",
            "  adding: 33865643.xml (deflated 85%)\n",
            "  adding: 33898867.xml (deflated 84%)\n",
            "  adding: 33898878.xml (deflated 84%)\n",
            "  adding: 33916024.xml (deflated 83%)\n",
            "  adding: 33916061.xml (deflated 82%)\n",
            "  adding: 33916342.xml (deflated 84%)\n",
            "  adding: 33917107.xml (deflated 81%)\n",
            "  adding: 33921696.xml (deflated 86%)\n",
            "  adding: 33965707.xml (deflated 84%)\n",
            "  adding: 34002132.xml (deflated 82%)\n",
            "  adding: 34016988.xml (deflated 85%)\n",
            "  adding: 34017050.xml (deflated 84%)\n",
            "  adding: 34019083.xml (deflated 83%)\n",
            "  adding: 34040263.xml (deflated 86%)\n",
            "  adding: 34050917.xml (deflated 83%)\n",
            "  adding: 34061743.xml (deflated 85%)\n",
            "  adding: 34063669.xml (deflated 84%)\n",
            "  adding: 34066621.xml (deflated 83%)\n",
            "  adding: 34068481.xml (deflated 83%)\n",
            "  adding: 34076952.xml (deflated 82%)\n",
            "  adding: 34104392.xml (deflated 84%)\n",
            "  adding: 34128219.xml (deflated 83%)\n",
            "  adding: 34129998.xml (deflated 86%)\n",
            "  adding: 34130008.xml (deflated 84%)\n",
            "  adding: 34137106.xml (deflated 85%)\n",
            "  adding: 34138013.xml (deflated 82%)\n",
            "  adding: 34139539.xml (deflated 83%)\n",
            "  adding: 34144863.xml (deflated 86%)\n",
            "  adding: 34184069.xml (deflated 83%)\n",
            "  adding: 34189556.xml (deflated 83%)\n",
            "  adding: 34204247.xml (deflated 86%)\n",
            "  adding: 34219801.xml (deflated 84%)\n",
            "  adding: 34219824.xml (deflated 86%)\n",
            "  adding: 34219845.xml (deflated 84%)\n",
            "  adding: 34237826.xml (deflated 80%)\n",
            "  adding: 34262106.xml (deflated 83%)\n",
            "  adding: 34273236.xml (deflated 82%)\n",
            "  adding: 34274957.xml (deflated 83%)\n",
            "  adding: 34275212.xml (deflated 83%)\n",
            "  adding: 34275220.xml (deflated 85%)\n",
            "  adding: 34275222.xml (deflated 83%)\n",
            "  adding: 34275231.xml (deflated 83%)\n",
            "  adding: 34275232.xml (deflated 83%)\n",
            "  adding: 34311452.xml (deflated 84%)\n",
            "  adding: 34313931.xml (deflated 82%)\n",
            "  adding: 34315901.xml (deflated 83%)\n",
            "  adding: 34325090.xml (deflated 83%)\n",
            "  adding: 34347433.xml (deflated 84%)\n",
            "  adding: 34374628.xml (deflated 83%)\n",
            "  adding: 34376890.xml (deflated 86%)\n",
            "  adding: 34386617.xml (deflated 85%)\n",
            "  adding: 34427199.xml (deflated 85%)\n",
            "  adding: 34445373.xml (deflated 86%)\n",
            "  adding: 34449265.xml (deflated 84%)\n",
            "  adding: 34451544.xml (deflated 84%)\n",
            "  adding: 34466674.xml (deflated 85%)\n",
            "  adding: 34466893.xml (deflated 84%)\n",
            "  adding: 34466910.xml (deflated 82%)\n",
            "  adding: 34466922.xml (deflated 82%)\n",
            "  adding: 34467031.xml (deflated 84%)\n",
            "  adding: 34490192.xml (deflated 84%)\n",
            "  adding: 34504361.xml (deflated 85%)\n",
            "  adding: 34506912.xml (deflated 84%)\n",
            "  adding: 34506937.xml (deflated 85%)\n",
            "  adding: 34563821.xml (deflated 83%)\n",
            "  adding: 34565022.xml (deflated 84%)\n",
            "  adding: 34593560.xml (deflated 85%)\n",
            "  adding: 34594981.xml (deflated 85%)\n",
            "  adding: 34594982.xml (deflated 86%)\n",
            "  adding: 34684620.xml (deflated 82%)\n",
            "  adding: 34684622.xml (deflated 82%)\n",
            "  adding: 34685945.xml (deflated 84%)\n",
            "  adding: 34726469.xml (deflated 84%)\n",
            "  adding: 34728667.xml (deflated 82%)\n",
            "  adding: 34753166.xml (deflated 85%)\n",
            "  adding: 34757023.xml (deflated 83%)\n",
            "  adding: 34762552.xml (deflated 83%)\n",
            "  adding: 34791219.xml (deflated 86%)\n",
            "  adding: 34810320.xml (deflated 83%)\n",
            "  adding: 34848682.xml (deflated 84%)\n",
            "  adding: 34849019.xml (deflated 85%)\n",
            "  adding: 34849021.xml (deflated 85%)\n",
            "  adding: 34853119.xml (deflated 86%)\n",
            "  adding: 34859714.xml (deflated 83%)\n",
            "  adding: 34878094.xml (deflated 85%)\n",
            "  adding: 34913174.xml (deflated 83%)\n",
            "  adding: 34927828.xml (deflated 82%)\n",
            "  adding: 34928122.xml (deflated 82%)\n",
            "  adding: 34928902.xml (deflated 82%)\n",
            "  adding: 34930815.xml (deflated 85%)\n",
            "  adding: 34947549.xml (deflated 84%)\n",
            "  adding: 34950852.xml (deflated 83%)\n",
            "  adding: 34954925.xml (deflated 85%)\n",
            "  adding: 34963526.xml (deflated 86%)\n",
            "  adding: 34964905.xml (deflated 83%)\n",
            "  adding: 34964998.xml (deflated 82%)\n",
            "  adding: 34966859.xml (deflated 83%)\n",
            "  adding: 34974310.xml (deflated 83%)\n",
            "  adding: 34992929.xml (deflated 82%)\n",
            "  adding: 34992959.xml (deflated 83%)\n",
            "  adding: 35018200.xml (deflated 85%)\n",
            "  adding: 35018901.xml (deflated 83%)\n",
            "  adding: 35019996.xml (deflated 83%)\n",
            "  adding: 35035160.xml (deflated 84%)\n",
            "  adding: 35052265.xml (deflated 82%)\n",
            "  adding: 35068526.xml (deflated 84%)\n",
            "  adding: 35068683.xml (deflated 83%)\n",
            "  adding: 35069206.xml (deflated 85%)\n",
            "  adding: 35085389.xml (deflated 84%)\n",
            "  adding: 35099035.xml (deflated 83%)\n",
            "  adding: 35099718.xml (deflated 83%)\n",
            "  adding: 35105799.xml (deflated 82%)\n",
            "  adding: 35108805.xml (deflated 81%)\n",
            "  adding: 35126152.xml (deflated 82%)\n",
            "  adding: 35133064.xml (deflated 84%)\n",
            "  adding: 35133922.xml (deflated 81%)\n",
            "  adding: 35133923.xml (deflated 83%)\n",
            "  adding: 35137915.xml (deflated 83%)\n",
            "  adding: 35138182.xml (deflated 86%)\n",
            "  adding: 35173603.xml (deflated 85%)\n",
            "  adding: 35181833.xml (deflated 84%)\n",
            "  adding: 35182933.xml (deflated 86%)\n",
            "  adding: 35187203.xml (deflated 81%)\n",
            "  adding: 35230913.xml (deflated 84%)\n",
            "  adding: 35247769.xml (deflated 85%)\n",
            "  adding: 35248504.xml (deflated 86%)\n",
            "  adding: 35259574.xml (deflated 85%)\n",
            "  adding: 35259631.xml (deflated 84%)\n",
            "  adding: 35260128.xml (deflated 85%)\n",
            "  adding: 35271190.xml (deflated 82%)\n",
            "  adding: 35271196.xml (deflated 83%)\n",
            "  adding: 35271238.xml (deflated 83%)\n",
            "  adding: 35271523.xml (deflated 82%)\n",
            "  adding: 35297272.xml (deflated 83%)\n",
            "  adding: 35297390.xml (deflated 83%)\n",
            "  adding: 35297403.xml (deflated 83%)\n",
            "  adding: 35297426.xml (deflated 84%)\n",
            "  adding: 35297455.xml (deflated 86%)\n",
            "  adding: 35297469.xml (deflated 85%)\n",
            "  adding: 35297544.xml (deflated 84%)\n",
            "  adding: 35297562.xml (deflated 85%)\n",
            "  adding: 35305625.xml (deflated 84%)\n",
            "  adding: 35306053.xml (deflated 85%)\n",
            "  adding: 35340555.xml (deflated 84%)\n",
            "  adding: 35342927.xml (deflated 83%)\n",
            "  adding: 35342928.xml (deflated 84%)\n",
            "  adding: 35342935.xml (deflated 83%)\n",
            "  adding: 35356376.xml (deflated 85%)\n",
            "  adding: 35356379.xml (deflated 86%)\n",
            "  adding: 35356382.xml (deflated 83%)\n",
            "  adding: 35396839.xml (deflated 86%)\n",
            "  adding: 35396841.xml (deflated 84%)\n",
            "  adding: 35397026.xml (deflated 83%)\n",
            "  adding: 35398011.xml (deflated 85%)\n",
            "  adding: 35403058.xml (deflated 84%)\n",
            "  adding: 35410511.xml (deflated 82%)\n",
            "  adding: 35412097.xml (deflated 84%)\n",
            "  adding: 35414997.xml (deflated 83%)\n",
            "  adding: 35457273.xml (deflated 84%)\n",
            "  adding: 35457359.xml (deflated 83%)\n",
            "  adding: 35464020.xml (deflated 83%)\n",
            "  adding: 35480518.xml (deflated 84%)\n",
            "  adding: 35488059.xml (deflated 85%)\n",
            "  adding: 35495083.xml (deflated 84%)\n",
            "  adding: 35504431.xml (deflated 82%)\n",
            "  adding: 35520012.xml (deflated 84%)\n",
            "  adding: 35540804.xml (deflated 84%)\n",
            "  adding: 35566693.xml (deflated 86%)\n",
            "  adding: 35580105.xml (deflated 86%)\n",
            "  adding: 35582344.xml (deflated 85%)\n",
            "  adding: 35592077.xml (deflated 84%)\n",
            "  adding: 35604682.xml (deflated 83%)\n",
            "  adding: 35604686.xml (deflated 82%)\n",
            "  adding: 35604796.xml (deflated 82%)\n",
            "  adding: 35606041.xml (deflated 83%)\n",
            "  adding: 35606560.xml (deflated 85%)\n",
            "  adding: 35631757.xml (deflated 86%)\n",
            "  adding: 35651693.xml (deflated 86%)\n",
            "  adding: 35655156.xml (deflated 85%)\n",
            "  adding: 35684941.xml (deflated 84%)\n",
            "  adding: 35696171.xml (deflated 80%)\n",
            "  adding: 35702241.xml (deflated 81%)\n",
            "  adding: 35710709.xml (deflated 83%)\n",
            "  adding: 35718164.xml (deflated 84%)\n",
            "  adding: 35741051.xml (deflated 86%)\n",
            "  adding: 35743037.xml (deflated 84%)\n",
            "  adding: 35749414.xml (deflated 78%)\n",
            "  adding: 35754629.xml (deflated 84%)\n",
            "  adding: 35758072.xml (deflated 84%)\n",
            "  adding: 35782247.xml (deflated 86%)\n",
            "  adding: 35791968.xml (deflated 83%)\n",
            "  adding: 35804613.xml (deflated 85%)\n",
            "  adding: 35819729.xml (deflated 84%)\n",
            "  adding: 35820369.xml (deflated 82%)\n",
            "  adding: 35820413.xml (deflated 82%)\n",
            "  adding: 35820633.xml (deflated 84%)\n",
            "  adding: 35820656.xml (deflated 84%)\n",
            "  adding: 35833840.xml (deflated 86%)\n",
            "  adding: 35839437.xml (deflated 83%)\n",
            "  adding: 35840657.xml (deflated 84%)\n",
            "  adding: 35876360.xml (deflated 84%)\n",
            "  adding: 35887181.xml (deflated 81%)\n",
            "  adding: 35887533.xml (deflated 84%)\n",
            "  adding: 35887567.xml (deflated 83%)\n",
            "  adding: 35889209.xml (deflated 85%)\n",
            "  adding: 35901186.xml (deflated 83%)\n",
            "  adding: 35920112.xml (deflated 83%)\n",
            "  adding: 35924698.xml (deflated 85%)\n",
            "  adding: 35924705.xml (deflated 86%)\n",
            "  adding: 35952871.xml (deflated 83%)\n",
            "  adding: 35953464.xml (deflated 84%)\n",
            "  adding: 35959199.xml (deflated 83%)\n",
            "  adding: 35959613.xml (deflated 85%)\n",
            "  adding: 35959634.xml (deflated 85%)\n",
            "  adding: 35959678.xml (deflated 84%)\n",
            "  adding: 35959740.xml (deflated 81%)\n",
            "  adding: 35989512.xml (deflated 85%)\n",
            "  adding: 35995489.xml (deflated 84%)\n",
            "  adding: 35999004.xml (deflated 85%)\n",
            "  adding: 36001408.xml (deflated 84%)\n",
            "  adding: 36036176.xml (deflated 85%)\n",
            "  adding: 36049101.xml (deflated 83%)\n",
            "  adding: 36082326.xml (deflated 83%)\n",
            "  adding: 36086513.xml (deflated 84%)\n",
            "  adding: 36086537.xml (deflated 83%)\n",
            "  adding: 36097619.xml (deflated 85%)\n",
            "  adding: 36100966.xml (deflated 86%)\n",
            "  adding: 36117813.xml (deflated 83%)\n",
            "  adding: 36124936.xml (deflated 82%)\n",
            "  adding: 36127488.xml (deflated 85%)\n",
            "  adding: 36203391.xml (deflated 82%)\n",
            "  adding: 36204070.xml (deflated 82%)\n",
            "  adding: 36204285.xml (deflated 84%)\n",
            "  adding: 36205015.xml (deflated 83%)\n",
            "  adding: 36206433.xml (deflated 86%)\n",
            "  adding: 36220698.xml (deflated 84%)\n",
            "  adding: 36220700.xml (deflated 84%)\n",
            "  adding: 36222611.xml (deflated 83%)\n",
            "  adding: 36222733.xml (deflated 82%)\n",
            "  adding: 36223860.xml (deflated 84%)\n",
            "  adding: 36249638.xml (deflated 84%)\n",
            "  adding: 36261280.xml (deflated 85%)\n",
            "  adding: 36263943.xml (deflated 84%)\n",
            "  adding: 36301036.xml (deflated 84%)\n",
            "  adding: 36329818.xml (deflated 83%)\n",
            "  adding: 36337550.xml (deflated 82%)\n",
            "  adding: 36341204.xml (deflated 83%)\n",
            "  adding: 36341620.xml (deflated 82%)\n",
            "  adding: 36341728.xml (deflated 82%)\n",
            "  adding: 36341954.xml (deflated 86%)\n",
            "  adding: 36342156.xml (deflated 84%)\n",
            "  adding: 36348525.xml (deflated 84%)\n",
            "  adding: 36353103.xml (deflated 83%)\n",
            "  adding: 36369872.xml (deflated 84%)\n",
            "  adding: 36373280.xml (deflated 84%)\n",
            "  adding: 36373398.xml (deflated 85%)\n",
            "  adding: 36373406.xml (deflated 85%)\n",
            "  adding: 36373407.xml (deflated 85%)\n",
            "  adding: 36373417.xml (deflated 83%)\n",
            "  adding: 36373463.xml (deflated 83%)\n",
            "  adding: 36373481.xml (deflated 83%)\n",
            "  adding: 36373560.xml (deflated 82%)\n",
            "  adding: 36373562.xml (deflated 86%)\n",
            "  adding: 36373564.xml (deflated 83%)\n",
            "  adding: 36373639.xml (deflated 83%)\n",
            "  adding: 36373648.xml (deflated 83%)\n",
            "  adding: 36373688.xml (deflated 83%)\n",
            "  adding: 36373825.xml (deflated 86%)\n",
            "  adding: 36374390.xml (deflated 86%)\n",
            "  adding: 36381052.xml (deflated 83%)\n",
            "  adding: 36381085.xml (deflated 83%)\n",
            "  adding: 36381091.xml (deflated 84%)\n",
            "  adding: 36381100.xml (deflated 85%)\n",
            "  adding: 36385830.xml (deflated 83%)\n",
            "  adding: 36388243.xml (deflated 83%)\n",
            "  adding: 36391536.xml (deflated 82%)\n",
            "  adding: 36395764.xml (deflated 84%)\n",
            "  adding: 36395874.xml (deflated 83%)\n",
            "  adding: 36407347.xml (deflated 84%)\n",
            "  adding: 36442813.xml (deflated 84%)\n",
            "  adding: 36443315.xml (deflated 86%)\n",
            "  adding: 36448554.xml (deflated 84%)\n",
            "  adding: 36456129.xml (deflated 86%)\n",
            "  adding: 36467874.xml (deflated 85%)\n",
            "  adding: 36477795.xml (deflated 85%)\n",
            "  adding: 36479356.xml (deflated 85%)\n",
            "  adding: 36479694.xml (deflated 86%)\n",
            "  adding: 36492488.xml (deflated 82%)\n",
            "  adding: 36507099.xml (deflated 81%)\n",
            "  adding: 36510722.xml (deflated 82%)\n",
            "  adding: 36511805.xml (deflated 84%)\n",
            "  adding: 36521316.xml (deflated 83%)\n",
            "  adding: 36538785.xml (deflated 82%)\n",
            "  adding: 36546633.xml (deflated 85%)\n",
            "  adding: 36546966.xml (deflated 83%)\n",
            "  adding: 36577586.xml (deflated 83%)\n",
            "  adding: 36587905.xml (deflated 83%)\n",
            "  adding: 36589701.xml (deflated 83%)\n",
            "  adding: 36593240.xml (deflated 83%)\n",
            "  adding: 36601937.xml (deflated 85%)\n",
            "  adding: 36604959.xml (deflated 84%)\n",
            "  adding: 36614133.xml (deflated 84%)\n",
            "  adding: 36627287.xml (deflated 85%)\n",
            "  adding: 36636727.xml (deflated 83%)\n",
            "  adding: 36638638.xml (deflated 85%)\n",
            "  adding: 36644148.xml (deflated 83%)\n",
            "  adding: 36692478.xml (deflated 83%)\n",
            "  adding: 36694914.xml (deflated 85%)\n",
            "  adding: 36700347.xml (deflated 84%)\n",
            "  adding: 36710811.xml (deflated 81%)\n",
            "  adding: 36711236.xml (deflated 84%)\n",
            "  adding: 36722606.xml (deflated 84%)\n",
            "  adding: 36723031.xml (deflated 83%)\n",
            "  adding: 36723245.xml (deflated 84%)\n",
            "  adding: 36723246.xml (deflated 82%)\n",
            "  adding: 36739320.xml (deflated 83%)\n",
            "  adding: 36739329.xml (deflated 82%)\n",
            "  adding: 36739330.xml (deflated 84%)\n",
            "  adding: 36742978.xml (deflated 83%)\n",
            "  adding: 36742998.xml (deflated 85%)\n",
            "  adding: 36743867.xml (deflated 84%)\n",
            "  adding: 36750068.xml (deflated 84%)\n",
            "  adding: 36840397.xml (deflated 82%)\n",
            "  adding: 36856216.xml (deflated 84%)\n",
            "  adding: 36875820.xml (deflated 84%)\n",
            "  adding: 36906099.xml (deflated 85%)\n",
            "  adding: 36906346.xml (deflated 83%)\n",
            "  adding: 36959639.xml (deflated 84%)\n",
            "  adding: 36963204.xml (deflated 85%)\n",
            "  adding: 36987719.xml (deflated 84%)\n",
            "  adding: 37007781.xml (deflated 82%)\n",
            "  adding: 37168303.xml (deflated 83%)\n",
            "  adding: 37486222.xml (deflated 83%)\n",
            "  adding: 37486540.xml (deflated 82%)\n",
            "  adding: 37488430.xml (deflated 84%)\n",
            "  adding: 37491890.xml (deflated 85%)\n",
            "  adding: 37506301.xml (deflated 86%)\n",
            "  adding: 37510662.xml (deflated 84%)\n",
            "  adding: 37533587.xml (deflated 82%)\n",
            "  adding: 37534577.xml (deflated 85%)\n",
            "  adding: 37534762.xml (deflated 83%)\n",
            "  adding: 37534835.xml (deflated 83%)\n",
            "  adding: 37534901.xml (deflated 85%)\n",
            "  adding: 37534907.xml (deflated 83%)\n",
            "  adding: 37539001.xml (deflated 83%)\n",
            "  adding: 37570546.xml (deflated 83%)\n",
            "  adding: 37570548.xml (deflated 83%)\n",
            "  adding: 37587820.xml (deflated 83%)\n",
            "  adding: 37588357.xml (deflated 83%)\n",
            "  adding: 37638128.xml (deflated 84%)\n",
            "  adding: 37638161.xml (deflated 86%)\n",
            "  adding: 37678631.xml (deflated 84%)\n",
            "  adding: 37703550.xml (deflated 81%)\n",
            "  adding: 37769929.xml (deflated 83%)\n",
            "  adding: 37796866.xml (deflated 81%)\n",
            "  adding: 37805223.xml (deflated 84%)\n",
            "  adding: 37822631.xml (deflated 85%)\n",
            "  adding: 37822649.xml (deflated 84%)\n",
            "  adding: 37824221.xml (deflated 85%)\n",
            "  adding: 37826508.xml (deflated 84%)\n",
            "  adding: 37880094.xml (deflated 83%)\n",
            "  adding: 37941942.xml (deflated 83%)\n",
            "  adding: 37946116.xml (deflated 86%)\n",
            "  adding: 37946414.xml (deflated 83%)\n",
            "  adding: 37954228.xml (deflated 85%)\n",
            "  adding: 37976541.xml (deflated 82%)\n",
            "  adding: 38099642.xml (deflated 83%)\n",
            "  adding: 38121211.xml (deflated 85%)\n",
            "  adding: 38186611.xml (deflated 83%)\n",
            "  adding: 38212158.xml (deflated 82%)\n",
            "  adding: 38225791.xml (deflated 84%)\n",
            "  adding: 38236861.xml (deflated 82%)\n",
            "  adding: 38237340.xml (deflated 82%)\n",
            "  adding: 38255339.xml (deflated 85%)\n",
            "  adding: 38355304.xml (deflated 84%)\n",
            "  adding: 38355410.xml (deflated 84%)\n",
            "  adding: 38362809.xml (deflated 83%)\n",
            "  adding: 38362811.xml (deflated 83%)\n",
            "  adding: 38363272.xml (deflated 83%)\n",
            "  adding: 38363799.xml (deflated 83%)\n",
            "  adding: 38392331.xml (deflated 85%)\n",
            "  adding: 38395454.xml (deflated 85%)\n",
            "  adding: 38452813.xml (deflated 84%)\n",
            "  adding: 38495981.xml (deflated 86%)\n",
            "  adding: 38496758.xml (deflated 84%)\n",
            "  adding: 38502290.xml (deflated 86%)\n",
            "  adding: 38503484.xml (deflated 83%)\n",
            "  adding: 38508771.xml (deflated 83%)\n",
            "  adding: 38524301.xml (deflated 85%)\n",
            "  adding: 38525349.xml (deflated 83%)\n",
            "  adding: 38530939.xml (deflated 83%)\n",
            "  adding: 38532145.xml (deflated 84%)\n",
            "  adding: 38532187.xml (deflated 86%)\n",
            "  adding: 38532190.xml (deflated 86%)\n",
            "  adding: 38589832.xml (deflated 83%)\n",
            "  adding: 38595349.xml (deflated 86%)\n",
            "  adding: 38608066.xml (deflated 84%)\n",
            "  adding: 38609428.xml (deflated 85%)\n",
            "  adding: 38649805.xml (deflated 84%)\n",
            "  adding: 38656999.xml (deflated 83%)\n",
            "  adding: 38657386.xml (deflated 84%)\n",
            "  adding: 38714362.xml (deflated 85%)\n",
            "  adding: 38720939.xml (deflated 83%)\n",
            "  adding: 38744839.xml (deflated 82%)\n",
            "  adding: 38749668.xml (deflated 84%)\n",
            "  adding: 38791999.xml (deflated 86%)\n",
            "  adding: 38812893.xml (deflated 86%)\n",
            "  adding: 38819868.xml (deflated 83%)\n",
            "  adding: 38820046.xml (deflated 82%)\n",
            "  adding: 38820047.xml (deflated 81%)\n",
            "  adding: 38903002.xml (deflated 85%)\n",
            "  adding: 38919266.xml (deflated 85%)\n",
            "  adding: 38926328.xml (deflated 84%)\n",
            "  adding: 38926449.xml (deflated 87%)\n",
            "  adding: 39022876.xml (deflated 84%)\n",
            "  adding: 39026990.xml (deflated 84%)\n",
            "  adding: 39072220.xml (deflated 83%)\n",
            "  adding: 39073378.xml (deflated 84%)\n",
            "  adding: 39073387.xml (deflated 85%)\n",
            "  adding: 39086215.xml (deflated 84%)\n",
            "  adding: 39122774.xml (deflated 84%)\n",
            "  adding: 39216478.xml (deflated 84%)\n",
            "  adding: 39217633.xml (deflated 84%)\n",
            "  adding: 39217756.xml (deflated 84%)\n",
            "  adding: 39217966.xml (deflated 83%)\n",
            "  adding: 39218044.xml (deflated 83%)\n",
            "  adding: 39218350.xml (deflated 81%)\n",
            "  adding: 39280445.xml (deflated 83%)\n",
            "  adding: 39280558.xml (deflated 84%)\n",
            "  adding: 39296114.xml (deflated 85%)\n",
            "  adding: 39319247.xml (deflated 85%)\n",
            "  adding: 39325105.xml (deflated 83%)\n",
            "  adding: 39338454.xml (deflated 83%)\n",
            "  adding: 39348113.xml (deflated 83%)\n",
            "  adding: 39507318.xml (deflated 82%)\n",
            "  adding: 39655232.xml (deflated 84%)\n",
            "  adding: 39656141.xml (deflated 86%)\n",
            "  adding: 39707880.xml (deflated 85%)\n",
            "  adding: 39709060.xml (deflated 83%)\n",
            "  adding: 39723581.xml (deflated 82%)\n",
            "  adding: 39725622.xml (deflated 82%)\n",
            "  adding: 39790706.xml (deflated 83%)\n",
            "  adding: 39796904.xml (deflated 84%)\n",
            "  adding: 39797678.xml (deflated 85%)\n",
            "  adding: 39804936.xml (deflated 81%)\n",
            "  adding: 39828805.xml (deflated 84%)\n",
            "  adding: 39847584.xml (deflated 83%)\n",
            "  adding: 39855034.xml (deflated 85%)\n",
            "  adding: 39855052.xml (deflated 82%)\n",
            "  adding: 39858047.xml (deflated 85%)\n",
            "  adding: 39862558.xml (deflated 83%)\n",
            "  adding: 39863169.xml (deflated 84%)\n",
            "  adding: 39863238.xml (deflated 82%)\n",
            "  adding: 39863277.xml (deflated 84%)\n",
            "  adding: 39863399.xml (deflated 84%)\n",
            "  adding: 39863405.xml (deflated 83%)\n",
            "  adding: 39863464.xml (deflated 83%)\n",
            "  adding: 39863482.xml (deflated 83%)\n",
            "  adding: 39863488.xml (deflated 83%)\n",
            "  adding: 39863498.xml (deflated 81%)\n",
            "  adding: 39863515.xml (deflated 83%)\n",
            "  adding: 39884337.xml (deflated 84%)\n",
            "  adding: 39893545.xml (deflated 84%)\n",
            "  adding: 39893619.xml (deflated 85%)\n",
            "  adding: 39943621.xml (deflated 84%)\n",
            "  adding: 39977443.xml (deflated 85%)\n",
            "  adding: 39999461.xml (deflated 84%)\n",
            "  adding: 40004097.xml (deflated 84%)\n",
            "  adding: 40006421.xml (deflated 85%)\n",
            "  adding: 40009804.xml (deflated 84%)\n",
            "  adding: 40024139.xml (deflated 83%)\n",
            "  adding: 40046084.xml (deflated 84%)\n",
            "  adding: 40046136.xml (deflated 86%)\n",
            "  adding: 40065317.xml (deflated 84%)\n",
            "  adding: 40097951.xml (deflated 82%)\n",
            "  adding: 40121378.xml (deflated 83%)\n",
            "  adding: 40121946.xml (deflated 84%)\n",
            "  adding: 40121959.xml (deflated 83%)\n",
            "  adding: 40121980.xml (deflated 85%)\n",
            "  adding: 40121985.xml (deflated 81%)\n",
            "  adding: 40121993.xml (deflated 84%)\n",
            "  adding: 40130093.xml (deflated 82%)\n",
            "  adding: 40139216.xml (deflated 85%)\n",
            "  adding: 40148146.xml (deflated 83%)\n",
            "  adding: 40163119.xml (deflated 83%)\n",
            "  adding: 40165912.xml (deflated 84%)\n",
            "  adding: 40170039.xml (deflated 85%)\n",
            "  adding: 40180060.xml (deflated 83%)\n",
            "  adding: 40180065.xml (deflated 83%)\n",
            "  adding: 40180121.xml (deflated 85%)\n",
            "  adding: 40189670.xml (deflated 83%)\n",
            "  adding: 40206380.xml (deflated 85%)\n",
            "  adding: 40221498.xml (deflated 86%)\n",
            "  adding: 40239755.xml (deflated 83%)\n",
            "  adding: 40265832.xml (deflated 81%)\n",
            "  adding: 40277241.xml (deflated 83%)\n",
            "  adding: 40360266.xml (deflated 84%)\n",
            "  adding: 40364332.xml (deflated 83%)\n",
            "  adding: 40365093.xml (deflated 84%)\n",
            "  adding: 40367270.xml (deflated 83%)\n",
            "  adding: 40381319.xml (deflated 82%)\n",
            "  adding: 40381392.xml (deflated 83%)\n",
            "  adding: 40390714.xml (deflated 83%)\n",
            "  adding: 40390757.xml (deflated 85%)\n",
            "  adding: 40390766.xml (deflated 83%)\n",
            "  adding: 40405444.xml (deflated 82%)\n",
            "  adding: 40516960.xml (deflated 84%)\n",
            "  adding: 40519259.xml (deflated 84%)\n",
            "  adding: 40523931.xml (deflated 82%)\n",
            "  adding: 40524312.xml (deflated 82%)\n",
            "  adding: 40524608.xml (deflated 86%)\n",
            "  adding: 40524748.xml (deflated 85%)\n",
            "  adding: 40536335.xml (deflated 83%)\n",
            "  adding: 40538657.xml (deflated 83%)\n",
            "  adding: 40538681.xml (deflated 82%)\n",
            "  adding: 40538764.xml (deflated 86%)\n",
            "  adding: 40539126.xml (deflated 84%)\n",
            "  adding: 40539165.xml (deflated 84%)\n",
            "  adding: 40545956.xml (deflated 84%)\n",
            "  adding: 40546098.xml (deflated 83%)\n",
            "  adding: 40574441.xml (deflated 83%)\n",
            "  adding: 40591267.xml (deflated 84%)\n",
            "  adding: 40594422.xml (deflated 82%)\n",
            "  adding: 40595446.xml (deflated 83%)\n",
            "  adding: 40597264.xml (deflated 84%)\n",
            "  adding: 40597810.xml (deflated 84%)\n",
            "  adding: 40598936.xml (deflated 84%)\n",
            "  adding: 40607588.xml (deflated 86%)\n",
            "  adding: 40611194.xml (deflated 85%)\n",
            "  adding: 40629159.xml (deflated 86%)\n",
            "  adding: 40645634.xml (deflated 84%)\n",
            "  adding: 40680971.xml (deflated 86%)\n",
            "  adding: 40680973.xml (deflated 86%)\n",
            "  adding: 40695682.xml (deflated 83%)\n",
            "  adding: 40696751.xml (deflated 84%)\n",
            "  adding: 40696923.xml (deflated 82%)\n",
            "  adding: 40696964.xml (deflated 84%)\n",
            "  adding: 40697540.xml (deflated 83%)\n",
            "  adding: 40725252.xml (deflated 83%)\n",
            "  adding: 40766383.xml (deflated 86%)\n",
            "  adding: 40776644.xml (deflated 82%)\n",
            "  adding: 40796103.xml (deflated 86%)\n",
            "  adding: 40796136.xml (deflated 85%)\n",
            "  adding: 40796177.xml (deflated 85%)\n",
            "  adding: 40819522.xml (deflated 84%)\n",
            "  adding: 40864247.xml (deflated 85%)\n",
            "  adding: 40864790.xml (deflated 85%)\n",
            "  adding: 40864841.xml (deflated 84%)\n",
            "  adding: 40909463.xml (deflated 85%)\n",
            "  adding: 40916358.xml (deflated 85%)\n",
            "  adding: 40933227.xml (deflated 81%)\n",
            "  adding: 40944115.xml (deflated 86%)\n",
            "  adding: 40983137.xml (deflated 85%)\n",
            "  adding: 40988979.xml (deflated 84%)\n",
            "  adding: 41012533.xml (deflated 80%)\n",
            "  adding: 41057294.xml (deflated 82%)\n",
            "  adding: 41063454.xml (deflated 83%)\n",
            "  adding: 41066983.xml (deflated 84%)\n",
            "  adding: 41067826.xml (deflated 85%)\n",
            "  adding: 41081925.xml (deflated 84%)\n",
            "  adding: 41093489.xml (deflated 84%)\n",
            "  adding: 41104077.xml (deflated 82%)\n",
            "  adding: 41147279.xml (deflated 83%)\n",
            "  adding: 41150287.xml (deflated 83%)\n",
            "  adding: 41150382.xml (deflated 83%)\n",
            "  adding: 41154268.xml (deflated 84%)\n",
            "  adding: 41154293.xml (deflated 85%)\n",
            "  adding: 41154327.xml (deflated 82%)\n",
            "  adding: 41155069.xml (deflated 85%)\n",
            "  adding: 41183554.xml (deflated 87%)\n",
            "  adding: 41188319.xml (deflated 84%)\n",
            "  adding: 41212753.xml (deflated 81%)\n",
            "  adding: 41219132.xml (deflated 86%)\n",
            "  adding: 41219594.xml (deflated 83%)\n",
            "  adding: 41241311.xml (deflated 85%)\n",
            "  adding: 41391399.xml (deflated 84%)\n",
            "  adding: 41429527.xml (deflated 86%)\n",
            "  adding: 41429806.xml (deflated 84%)\n",
            "  adding: 41443051.xml (deflated 85%)\n",
            "  adding: 41450662.xml (deflated 83%)\n",
            "  adding: 41451728.xml (deflated 87%)\n",
            "  adding: 41451729.xml (deflated 87%)\n",
            "  adding: 41454042.xml (deflated 84%)\n",
            "  adding: 41473872.xml (deflated 84%)\n",
            "  adding: 41552709.xml (deflated 82%)\n",
            "  adding: 41555927.xml (deflated 84%)\n",
            "  adding: 41555942.xml (deflated 84%)\n",
            "  adding: 41555947.xml (deflated 83%)\n",
            "  adding: 41556734.xml (deflated 83%)\n",
            "  adding: 41571753.xml (deflated 83%)\n",
            "  adding: 41574287.xml (deflated 83%)\n",
            "  adding: 41644326.xml (deflated 84%)\n",
            "  adding: 41716679.xml (deflated 83%)\n",
            "  adding: 41716904.xml (deflated 81%)\n",
            "  adding: 41716930.xml (deflated 84%)\n",
            "  adding: 41723456.xml (deflated 84%)\n",
            "  adding: 41745412.xml (deflated 85%)\n",
            "  adding: 41746324.xml (deflated 85%)\n",
            "  adding: 41796203.xml (deflated 84%)\n",
            "  adding: 41812788.xml (deflated 85%)\n",
            "  adding: 41812830.xml (deflated 82%)\n",
            "  adding: 41817481.xml (deflated 83%)\n",
            "  adding: 41824495.xml (deflated 82%)\n",
            "  adding: 41880044.xml (deflated 83%)\n",
            "  adding: 41880602.xml (deflated 83%)\n",
            "  adding: 41880609.xml (deflated 83%)\n",
            "  adding: 41883932.xml (deflated 83%)\n",
            "  adding: 41888678.xml (deflated 85%)\n",
            "  adding: 41893832.xml (deflated 84%)\n",
            "  adding: 41940236.xml (deflated 83%)\n",
            "  adding: 41940280.xml (deflated 85%)\n",
            "  adding: 41940306.xml (deflated 83%)\n",
            "  adding: 41940388.xml (deflated 85%)\n",
            "  adding: 41948849.xml (deflated 85%)\n",
            "  adding: 41954470.xml (deflated 86%)\n",
            "  adding: 41954471.xml (deflated 86%)\n",
            "  adding: 41954472.xml (deflated 86%)\n",
            "  adding: 42036538.xml (deflated 82%)\n",
            "  adding: 42036965.xml (deflated 83%)\n",
            "  adding: 42046110.xml (deflated 83%)\n",
            "  adding: 42046112.xml (deflated 82%)\n",
            "  adding: 42060068.xml (deflated 85%)\n",
            "  adding: 42079209.xml (deflated 84%)\n",
            "  adding: 42080142.xml (deflated 83%)\n",
            "  adding: 42097227.xml (deflated 86%)\n",
            "  adding: 42101728.xml (deflated 84%)\n",
            "  adding: 42118050.xml (deflated 83%)\n",
            "  adding: 42121525.xml (deflated 83%)\n",
            "  adding: 42121526.xml (deflated 84%)\n",
            "  adding: 42135029.xml (deflated 82%)\n",
            "  adding: 42186023.xml (deflated 85%)\n",
            "  adding: 42188604.xml (deflated 84%)\n",
            "  adding: 42201100.xml (deflated 83%)\n",
            "  adding: 42201377.xml (deflated 83%)\n",
            "  adding: 42201395.xml (deflated 83%)\n",
            "  adding: 42201850.xml (deflated 83%)\n",
            "  adding: 42201962.xml (deflated 84%)\n",
            "  adding: 42201996.xml (deflated 83%)\n",
            "  adding: 42202117.xml (deflated 84%)\n",
            "  adding: 42207168.xml (deflated 84%)\n",
            "  adding: 42245770.xml (deflated 84%)\n",
            "  adding: 42260978.xml (deflated 82%)\n",
            "  adding: 42279228.xml (deflated 83%)\n",
            "  adding: 42283286.xml (deflated 83%)\n",
            "  adding: 42366224.xml (deflated 84%)\n",
            "  adding: 42368604.xml (deflated 84%)\n",
            "  adding: 42397849.xml (deflated 84%)\n",
            "  adding: 42431386.xml (deflated 83%)\n",
            "  adding: 42505366.xml (deflated 83%)\n",
            "  adding: 42506471.xml (deflated 84%)\n",
            "  adding: 42527596.xml (deflated 83%)\n",
            "  adding: 42527866.xml (deflated 84%)\n",
            "  adding: 42583941.xml (deflated 85%)\n",
            "  adding: 42589678.xml (deflated 83%)\n",
            "  adding: 42592353.xml (deflated 84%)\n",
            "  adding: 42599067.xml (deflated 84%)\n",
            "  adding: 42599605.xml (deflated 85%)\n",
            "  adding: 42616620.xml (deflated 85%)\n",
            "  adding: 42642044.xml (deflated 85%)\n",
            "  adding: 42667807.xml (deflated 85%)\n",
            "  adding: 42729452.xml (deflated 84%)\n",
            "  adding: 42771754.xml (deflated 84%)\n",
            "  adding: 42779092.xml (deflated 84%)\n",
            "  adding: 42785750.xml (deflated 86%)\n",
            "  adding: 42785825.xml (deflated 82%)\n",
            "  adding: 42815544.xml (deflated 83%)\n",
            "  adding: 42835876.xml (deflated 85%)\n",
            "  adding: 42881101.xml (deflated 84%)\n",
            "  adding: 42931503.xml (deflated 86%)\n",
            "  adding: 42972023.xml (deflated 82%)\n",
            "  adding: 42975172.xml (deflated 82%)\n",
            "  adding: 42976592.xml (deflated 83%)\n",
            "  adding: 42977358.xml (deflated 85%)\n",
            "  adding: 43120234.xml (deflated 86%)\n",
            "  adding: 43124132.xml (deflated 86%)\n",
            "  adding: 43126457.xml (deflated 84%)\n",
            "  adding: 43128231.xml (deflated 84%)\n",
            "  adding: 43160651.xml (deflated 84%)\n",
            "  adding: 43190272.xml (deflated 83%)\n",
            "  adding: 43204703.xml (deflated 82%)\n",
            "  adding: 43205122.xml (deflated 83%)\n",
            "  adding: 43220998.xml (deflated 83%)\n",
            "  adding: 43225180.xml (deflated 84%)\n",
            "  adding: 43231095.xml (deflated 84%)\n",
            "  adding: 43231099.xml (deflated 85%)\n",
            "  adding: 43261128.xml (deflated 86%)\n",
            "  adding: 43261151.xml (deflated 85%)\n",
            "  adding: 43261166.xml (deflated 84%)\n",
            "  adding: 43263237.xml (deflated 84%)\n",
            "  adding: 43263491.xml (deflated 83%)\n",
            "  adding: 43263515.xml (deflated 84%)\n",
            "  adding: 43263520.xml (deflated 83%)\n",
            "  adding: 43263670.xml (deflated 84%)\n",
            "  adding: 43263680.xml (deflated 82%)\n",
            "  adding: 43307358.xml (deflated 86%)\n",
            "  adding: 43309518.xml (deflated 85%)\n",
            "  adding: 43319657.xml (deflated 84%)\n",
            "  adding: 43386674.xml (deflated 84%)\n",
            "  adding: 43453642.xml (deflated 85%)\n",
            "  adding: 43453732.xml (deflated 85%)\n",
            "  adding: 43497893.xml (deflated 85%)\n",
            "  adding: 43506916.xml (deflated 84%)\n",
            "  adding: 43521657.xml (deflated 82%)\n",
            "  adding: 43521693.xml (deflated 83%)\n",
            "  adding: 43522576.xml (deflated 83%)\n",
            "  adding: 43557477.xml (deflated 84%)\n",
            "  adding: 43565381.xml (deflated 82%)\n",
            "  adding: 43575115.xml (deflated 83%)\n",
            "  adding: 43582376.xml (deflated 82%)\n",
            "  adding: 43603066.xml (deflated 84%)\n",
            "  adding: 43615787.xml (deflated 84%)\n",
            "  adding: 43616063.xml (deflated 84%)\n",
            "  adding: 43659628.xml (deflated 85%)\n",
            "  adding: 43662690.xml (deflated 86%)\n",
            "  adding: 43671848.xml (deflated 85%)\n",
            "  adding: 43682552.xml (deflated 85%)\n",
            "  adding: 43697186.xml (deflated 83%)\n",
            "  adding: 43706714.xml (deflated 85%)\n",
            "  adding: 43706730.xml (deflated 86%)\n",
            "  adding: 43723901.xml (deflated 83%)\n",
            "  adding: 43726619.xml (deflated 85%)\n",
            "  adding: 43744300.xml (deflated 83%)\n",
            "  adding: 43785830.xml (deflated 84%)\n",
            "  adding: 43798285.xml (deflated 82%)\n",
            "  adding: 43801817.xml (deflated 82%)\n",
            "  adding: 43821991.xml (deflated 84%)\n",
            "  adding: 43822024.xml (deflated 83%)\n",
            "  adding: 43822523.xml (deflated 85%)\n",
            "  adding: 43822665.xml (deflated 84%)\n",
            "  adding: 43822700.xml (deflated 85%)\n",
            "  adding: 43822791.xml (deflated 84%)\n",
            "  adding: 43822820.xml (deflated 83%)\n",
            "  adding: 43834909.xml (deflated 83%)\n",
            "  adding: 43838654.xml (deflated 86%)\n",
            "  adding: 43848929.xml (deflated 81%)\n",
            "  adding: 43849324.xml (deflated 85%)\n",
            "  adding: 43852758.xml (deflated 84%)\n",
            "  adding: 43853210.xml (deflated 86%)\n",
            "  adding: 43884186.xml (deflated 84%)\n",
            "  adding: 43885041.xml (deflated 85%)\n",
            "  adding: 43885930.xml (deflated 84%)\n",
            "  adding: 43889825.xml (deflated 84%)\n",
            "  adding: 43908975.xml (deflated 85%)\n",
            "  adding: 43908981.xml (deflated 83%)\n",
            "  adding: 43923951.xml (deflated 83%)\n",
            "  adding: 43925876.xml (deflated 83%)\n",
            "  adding: 43979540.xml (deflated 84%)\n",
            "  adding: 43982054.xml (deflated 83%)\n",
            "  adding: 43984883.xml (deflated 82%)\n",
            "  adding: 44012880.xml (deflated 82%)\n",
            "  adding: 44017627.xml (deflated 84%)\n",
            "  adding: 44023770.xml (deflated 85%)\n",
            "  adding: 44034500.xml (deflated 85%)\n",
            "  adding: 44034616.xml (deflated 83%)\n",
            "  adding: 44064563.xml (deflated 84%)\n",
            "  adding: 44065062.xml (deflated 83%)\n",
            "  adding: 44077284.xml (deflated 83%)\n",
            "  adding: 44094014.xml (deflated 84%)\n",
            "  adding: 44094069.xml (deflated 85%)\n",
            "  adding: 44107480.xml (deflated 85%)\n",
            "  adding: 44139418.xml (deflated 82%)\n",
            "  adding: 44157727.xml (deflated 85%)\n",
            "  adding: 44280825.xml (deflated 85%)\n",
            "  adding: 44280868.xml (deflated 84%)\n",
            "  adding: 44280883.xml (deflated 85%)\n",
            "  adding: 44281034.xml (deflated 84%)\n",
            "  adding: 44281326.xml (deflated 83%)\n",
            "  adding: 44286431.xml (deflated 83%)\n",
            "  adding: 44286536.xml (deflated 85%)\n",
            "  adding: 44288534.xml (deflated 84%)\n",
            "  adding: 44303730.xml (deflated 83%)\n",
            "  adding: 44303982.xml (deflated 85%)\n",
            "  adding: 44313592.xml (deflated 85%)\n",
            "  adding: 44318414.xml (deflated 83%)\n",
            "  adding: 44349541.xml (deflated 84%)\n",
            "  adding: 44419612.xml (deflated 86%)\n",
            "  adding: 44428899.xml (deflated 83%)\n",
            "  adding: 44429515.xml (deflated 83%)\n",
            "  adding: 44441884.xml (deflated 85%)\n",
            "  adding: 44510385.xml (deflated 84%)\n",
            "  adding: 44526650.xml (deflated 82%)\n",
            "  adding: 44527315.xml (deflated 85%)\n",
            "  adding: 44564972.xml (deflated 83%)\n",
            "  adding: 44571368.xml (deflated 85%)\n",
            "  adding: 44573628.xml (deflated 84%)\n",
            "  adding: 44575111.xml (deflated 85%)\n",
            "  adding: 44581496.xml (deflated 85%)\n",
            "  adding: 44581535.xml (deflated 82%)\n",
            "  adding: 44582454.xml (deflated 83%)\n",
            "  adding: 44595007.xml (deflated 84%)\n",
            "  adding: 44600621.xml (deflated 83%)\n",
            "  adding: 44654627.xml (deflated 84%)\n",
            "  adding: 44767037.xml (deflated 85%)\n",
            "  adding: 44767249.xml (deflated 83%)\n",
            "  adding: 44767265.xml (deflated 82%)\n",
            "  adding: 44774415.xml (deflated 85%)\n",
            "  adding: 44776548.xml (deflated 84%)\n",
            "  adding: 44778083.xml (deflated 82%)\n",
            "  adding: 44779280.xml (deflated 85%)\n",
            "  adding: 44781454.xml (deflated 85%)\n",
            "  adding: 44791629.xml (deflated 84%)\n",
            "  adding: 44804077.xml (deflated 84%)\n",
            "  adding: 44890081.xml (deflated 81%)\n",
            "  adding: 44890112.xml (deflated 85%)\n",
            "  adding: 44900082.xml (deflated 85%)\n",
            "  adding: 44908180.xml (deflated 84%)\n",
            "  adding: 44908411.xml (deflated 84%)\n",
            "  adding: 44909230.xml (deflated 84%)\n",
            "  adding: 45033931.xml (deflated 83%)\n",
            "  adding: 45045129.xml (deflated 84%)\n",
            "  adding: 45046555.xml (deflated 84%)\n",
            "  adding: 45046567.xml (deflated 84%)\n",
            "  adding: 45046690.xml (deflated 83%)\n",
            "  adding: 45046742.xml (deflated 84%)\n",
            "  adding: 45046743.xml (deflated 83%)\n",
            "  adding: 45046893.xml (deflated 83%)\n",
            "  adding: 45153160.xml (deflated 85%)\n",
            "  adding: 45155609.xml (deflated 83%)\n",
            "  adding: 45167624.xml (deflated 83%)\n",
            "  adding: 45169415.xml (deflated 85%)\n",
            "  adding: 45169737.xml (deflated 85%)\n",
            "  adding: 45181834.xml (deflated 85%)\n",
            "  adding: 45186565.xml (deflated 83%)\n",
            "  adding: 45240918.xml (deflated 84%)\n",
            "  adding: 45294613.xml (deflated 83%)\n",
            "  adding: 45343240.xml (deflated 83%)\n",
            "  adding: 45422268.xml (deflated 83%)\n",
            "  adding: 45449811.xml (deflated 85%)\n",
            "  adding: 45485735.xml (deflated 85%)\n",
            "  adding: 45553638.xml (deflated 84%)\n",
            "  adding: 45730161.xml (deflated 86%)\n",
            "  adding: 45730512.xml (deflated 85%)\n",
            "  adding: 45754981.xml (deflated 82%)\n",
            "  adding: 45754985.xml (deflated 83%)\n",
            "  adding: 45872054.xml (deflated 84%)\n",
            "  adding: 45874065.xml (deflated 84%)\n",
            "  adding: 45885644.xml (deflated 83%)\n",
            "  adding: 45892276.xml (deflated 84%)\n",
            "  adding: 45895070.xml (deflated 85%)\n",
            "  adding: 45895148.xml (deflated 86%)\n",
            "  adding: 45897568.xml (deflated 83%)\n",
            "  adding: 45899240.xml (deflated 85%)\n",
            "  adding: 45915136.xml (deflated 86%)\n",
            "  adding: 45992717.xml (deflated 82%)\n",
            "  adding: 46002342.xml (deflated 83%)\n",
            "  adding: 46041442.xml (deflated 84%)\n",
            "  adding: 46064076.xml (deflated 84%)\n",
            "  adding: 46114262.xml (deflated 83%)\n",
            "  adding: 46127757.xml (deflated 85%)\n",
            "  adding: 46131607.xml (deflated 86%)\n",
            "  adding: 46196106.xml (deflated 85%)\n",
            "  adding: 46206688.xml (deflated 83%)\n",
            "  adding: 46223297.xml (deflated 83%)\n",
            "  adding: 46223323.xml (deflated 86%)\n",
            "  adding: 46225061.xml (deflated 84%)\n",
            "  adding: 46263943.xml (deflated 83%)\n",
            "  adding: 46264398.xml (deflated 83%)\n",
            "  adding: 48510012.xml (deflated 87%)\n",
            "  adding: 48564330.xml (deflated 83%)\n",
            "  adding: 48570454.xml (deflated 82%)\n",
            "  adding: 48589203.xml (deflated 84%)\n",
            "  adding: 48590165.xml (deflated 84%)\n",
            "  adding: 48590973.xml (deflated 84%)\n",
            "  adding: 48595550.xml (deflated 84%)\n",
            "  adding: 48613168.xml (deflated 84%)\n",
            "  adding: 48613333.xml (deflated 86%)\n",
            "  adding: 48637750.xml (deflated 83%)\n",
            "  adding: 48677123.xml (deflated 81%)\n",
            "  adding: 48678117.xml (deflated 84%)\n",
            "  adding: 48717403.xml (deflated 84%)\n",
            "  adding: 48717744.xml (deflated 84%)\n",
            "  adding: 48829708.xml (deflated 82%)\n",
            "  adding: 48836769.xml (deflated 82%)\n",
            "  adding: 48838041.xml (deflated 82%)\n",
            "  adding: 48842183.xml (deflated 84%)\n",
            "  adding: 48848254.xml (deflated 82%)\n",
            "  adding: 48868613.xml (deflated 84%)\n",
            "  adding: 48890486.xml (deflated 84%)\n",
            "  adding: 48925415.xml (deflated 86%)\n",
            "  adding: 48932414.xml (deflated 86%)\n",
            "  adding: 48945757.xml (deflated 84%)\n",
            "  adding: 48983247.xml (deflated 84%)\n",
            "  adding: 48984964.xml (deflated 85%)\n",
            "  adding: 48989372.xml (deflated 84%)\n",
            "  adding: 48995022.xml (deflated 85%)\n",
            "  adding: 49003616.xml (deflated 85%)\n",
            "  adding: 49021976.xml (deflated 82%)\n",
            "  adding: 49024173.xml (deflated 85%)\n",
            "  adding: 49025767.xml (deflated 84%)\n",
            "  adding: 49090884.xml (deflated 83%)\n",
            "  adding: 49099926.xml (deflated 84%)\n",
            "  adding: 49127471.xml (deflated 84%)\n",
            "  adding: 49127539.xml (deflated 85%)\n",
            "  adding: 49127718.xml (deflated 83%)\n",
            "  adding: 49128526.xml (deflated 84%)\n",
            "  adding: 49150990.xml (deflated 83%)\n",
            "  adding: 49151299.xml (deflated 84%)\n",
            "  adding: 49202118.xml (deflated 82%)\n",
            "  adding: 49216540.xml (deflated 86%)\n",
            "  adding: 49235526.xml (deflated 83%)\n",
            "  adding: 49239093.xml (deflated 84%)\n",
            "  adding: 49247242.xml (deflated 83%)\n",
            "  adding: 49247317.xml (deflated 84%)\n",
            "  adding: 49295297.xml (deflated 84%)\n",
            "  adding: 49374505.xml (deflated 84%)\n",
            "  adding: 49381341.xml (deflated 84%)\n",
            "  adding: 49397758.xml (deflated 84%)\n",
            "  adding: 49398072.xml (deflated 83%)\n",
            "  adding: 49614207.xml (deflated 85%)\n",
            "  adding: 49629448.xml (deflated 84%)\n",
            "  adding: 49630911.xml (deflated 85%)\n",
            "  adding: 49699400.xml (deflated 86%)\n",
            "  adding: 49758584.xml (deflated 83%)\n",
            "  adding: 49789629.xml (deflated 83%)\n",
            "  adding: 49814602.xml (deflated 85%)\n",
            "  adding: 49814631.xml (deflated 85%)\n",
            "  adding: 49867430.xml (deflated 83%)\n",
            "  adding: 49867447.xml (deflated 84%)\n",
            "  adding: 49882356.xml (deflated 84%)\n",
            "  adding: 49917829.xml (deflated 85%)\n",
            "  adding: 49933185.xml (deflated 84%)\n",
            "  adding: 49960031.xml (deflated 84%)\n",
            "  adding: 49960370.xml (deflated 83%)\n",
            "  adding: 50001299.xml (deflated 84%)\n",
            "  adding: 50010932.xml (deflated 85%)\n",
            "  adding: 50043108.xml (deflated 84%)\n",
            "  adding: 50088631.xml (deflated 83%)\n",
            "  adding: 50089336.xml (deflated 84%)\n",
            "  adding: 50092714.xml (deflated 84%)\n",
            "  adding: 50093704.xml (deflated 83%)\n",
            "  adding: 50121213.xml (deflated 83%)\n",
            "  adding: 50130587.xml (deflated 83%)\n",
            "  adding: 50158128.xml (deflated 83%)\n",
            "  adding: 50159129.xml (deflated 86%)\n",
            "  adding: 50165539.xml (deflated 85%)\n",
            "  adding: 50173134.xml (deflated 82%)\n",
            "  adding: 50202953.xml (deflated 83%)\n",
            "  adding: 50206920.xml (deflated 83%)\n",
            "  adding: 50214741.xml (deflated 84%)\n",
            "  adding: 50215810.xml (deflated 86%)\n",
            "  adding: 50225678.xml (deflated 83%)\n",
            "  adding: 50285848.xml (deflated 86%)\n",
            "  adding: 50358101.xml (deflated 83%)\n",
            "  adding: 50358133.xml (deflated 83%)\n",
            "  adding: 50437277.xml (deflated 85%)\n",
            "  adding: 50438921.xml (deflated 86%)\n",
            "  adding: 50490087.xml (deflated 85%)\n",
            "  adding: 50496840.xml (deflated 83%)\n",
            "  adding: 50496875.xml (deflated 82%)\n",
            "  adding: 50496918.xml (deflated 84%)\n",
            "  adding: 50548197.xml (deflated 81%)\n",
            "  adding: 50607466.xml (deflated 84%)\n",
            "  adding: 50607901.xml (deflated 84%)\n",
            "  adding: 50623864.xml (deflated 81%)\n",
            "  adding: 50634450.xml (deflated 82%)\n",
            "  adding: 50669534.xml (deflated 84%)\n",
            "  adding: 50699224.xml (deflated 85%)\n",
            "  adding: 50706476.xml (deflated 84%)\n",
            "  adding: 50706646.xml (deflated 82%)\n",
            "  adding: 50722115.xml (deflated 84%)\n",
            "  adding: 50734400.xml (deflated 84%)\n",
            "  adding: 50772888.xml (deflated 83%)\n",
            "  adding: 50794839.xml (deflated 83%)\n",
            "  adding: 50833559.xml (deflated 84%)\n",
            "  adding: 50887097.xml (deflated 83%)\n",
            "  adding: 50892014.xml (deflated 85%)\n",
            "  adding: 50892212.xml (deflated 82%)\n",
            "  adding: 50892287.xml (deflated 84%)\n",
            "  adding: 50892288.xml (deflated 83%)\n",
            "  adding: 50892338.xml (deflated 82%)\n",
            "  adding: 50892349.xml (deflated 83%)\n",
            "  adding: 50892360.xml (deflated 83%)\n",
            "  adding: 50892433.xml (deflated 83%)\n",
            "  adding: 50898135.xml (deflated 85%)\n",
            "  adding: 50898148.xml (deflated 86%)\n",
            "  adding: 50945960.xml (deflated 84%)\n",
            "  adding: 50997643.xml (deflated 85%)\n",
            "  adding: 50998099.xml (deflated 84%)\n",
            "  adding: 50998132.xml (deflated 84%)\n",
            "  adding: 50998813.xml (deflated 84%)\n",
            "  adding: 50998947.xml (deflated 86%)\n",
            "  adding: 51038307.xml (deflated 86%)\n",
            "  adding: 51045613.xml (deflated 84%)\n",
            "  adding: 51079278.xml (deflated 83%)\n",
            "  adding: 51079282.xml (deflated 84%)\n",
            "  adding: 51082172.xml (deflated 84%)\n",
            "  adding: 51100577.xml (deflated 84%)\n",
            "  adding: 51116307.xml (deflated 84%)\n",
            "  adding: 51152447.xml (deflated 81%)\n",
            "  adding: 51154724.xml (deflated 84%)\n",
            "  adding: 51166519.xml (deflated 84%)\n",
            "  adding: 51169341.xml (deflated 84%)\n",
            "  adding: 51171377.xml (deflated 82%)\n",
            "  adding: 51175739.xml (deflated 83%)\n",
            "  adding: 51179533.xml (deflated 85%)\n",
            "  adding: 51182571.xml (deflated 83%)\n",
            "  adding: 51182650.xml (deflated 84%)\n",
            "  adding: 51199750.xml (deflated 85%)\n",
            "  adding: 51204046.xml (deflated 83%)\n",
            "  adding: 51227088.xml (deflated 83%)\n",
            "  adding: 51231889.xml (deflated 85%)\n",
            "  adding: 51239966.xml (deflated 83%)\n",
            "  adding: 51253514.xml (deflated 83%)\n",
            "  adding: 51277288.xml (deflated 83%)\n",
            "  adding: 51285366.xml (deflated 85%)\n",
            "  adding: 51285456.xml (deflated 83%)\n",
            "  adding: 51285749.xml (deflated 83%)\n",
            "  adding: 51300436.xml (deflated 84%)\n",
            "  adding: 51307102.xml (deflated 85%)\n",
            "  adding: 51323365.xml (deflated 84%)\n",
            "  adding: 51323393.xml (deflated 84%)\n",
            "  adding: 51326665.xml (deflated 86%)\n",
            "  adding: 51457317.xml (deflated 85%)\n",
            "  adding: 51472378.xml (deflated 86%)\n",
            "  adding: 51475322.xml (deflated 81%)\n",
            "  adding: 51518972.xml (deflated 85%)\n",
            "  adding: 51541496.xml (deflated 82%)\n",
            "  adding: 51542211.xml (deflated 84%)\n",
            "  adding: 51542229.xml (deflated 83%)\n",
            "  adding: 51601851.xml (deflated 85%)\n",
            "  adding: 51601913.xml (deflated 84%)\n",
            "  adding: 51620141.xml (deflated 85%)\n",
            "  adding: 51644251.xml (deflated 85%)\n",
            "  adding: 51700301.xml (deflated 84%)\n",
            "  adding: 51700803.xml (deflated 83%)\n",
            "  adding: 51736714.xml (deflated 85%)\n",
            "  adding: 51791252.xml (deflated 83%)\n",
            "  adding: 51792100.xml (deflated 83%)\n",
            "  adding: 51794301.xml (deflated 86%)\n",
            "  adding: 51802456.xml (deflated 84%)\n",
            "  adding: 51807232.xml (deflated 84%)\n",
            "  adding: 51822870.xml (deflated 85%)\n",
            "  adding: 51854625.xml (deflated 83%)\n",
            "  adding: 51931067.xml (deflated 83%)\n",
            "  adding: 51934207.xml (deflated 84%)\n",
            "  adding: 51938590.xml (deflated 83%)\n",
            "  adding: 51952357.xml (deflated 85%)\n",
            "  adding: 51987993.xml (deflated 81%)\n",
            "  adding: 51988656.xml (deflated 84%)\n",
            "  adding: 52024847.xml (deflated 85%)\n",
            "  adding: 52024896.xml (deflated 85%)\n",
            "  adding: 52027711.xml (deflated 86%)\n",
            "  adding: 52028349.xml (deflated 84%)\n",
            "  adding: 52041387.xml (deflated 83%)\n",
            "  adding: 52048467.xml (deflated 83%)\n",
            "  adding: 52090855.xml (deflated 84%)\n",
            "  adding: 52090948.xml (deflated 84%)\n",
            "  adding: 52117860.xml (deflated 83%)\n",
            "  adding: 52129515.xml (deflated 84%)\n",
            "  adding: 52163147.xml (deflated 82%)\n",
            "  adding: 52166786.xml (deflated 83%)\n",
            "  adding: 52176814.xml (deflated 84%)\n",
            "  adding: 52180399.xml (deflated 83%)\n",
            "  adding: 52180973.xml (deflated 85%)\n",
            "  adding: 52186796.xml (deflated 82%)\n",
            "  adding: 52216445.xml (deflated 85%)\n",
            "  adding: 52220686.xml (deflated 84%)\n",
            "  adding: 52222275.xml (deflated 81%)\n",
            "  adding: 52226559.xml (deflated 83%)\n",
            "  adding: 52273975.xml (deflated 85%)\n",
            "  adding: 52339313.xml (deflated 83%)\n",
            "  adding: 52359590.xml (deflated 84%)\n",
            "  adding: 52366322.xml (deflated 85%)\n",
            "  adding: 52378525.xml (deflated 82%)\n",
            "  adding: 52378682.xml (deflated 83%)\n",
            "  adding: 52380340.xml (deflated 84%)\n",
            "  adding: 52381770.xml (deflated 84%)\n",
            "  adding: 52410331.xml (deflated 81%)\n",
            "  adding: 52439531.xml (deflated 83%)\n",
            "  adding: 52454426.xml (deflated 82%)\n",
            "  adding: 52507955.xml (deflated 85%)\n",
            "  adding: 52515165.xml (deflated 84%)\n",
            "  adding: 52516332.xml (deflated 83%)\n",
            "  adding: 52520675.xml (deflated 84%)\n",
            "  adding: 52535437.xml (deflated 85%)\n",
            "  adding: 52539131.xml (deflated 84%)\n",
            "  adding: 52578297.xml (deflated 83%)\n",
            "  adding: 52578861.xml (deflated 84%)\n",
            "  adding: 52581895.xml (deflated 83%)\n",
            "  adding: 52584411.xml (deflated 84%)\n",
            "  adding: 52585101.xml (deflated 84%)\n",
            "  adding: 52594581.xml (deflated 84%)\n",
            "  adding: 52597312.xml (deflated 81%)\n",
            "  adding: 52622380.xml (deflated 85%)\n",
            "  adding: 52637764.xml (deflated 85%)\n",
            "  adding: 52641647.xml (deflated 86%)\n",
            "  adding: 52661162.xml (deflated 82%)\n",
            "  adding: 52668915.xml (deflated 83%)\n",
            "  adding: 52669505.xml (deflated 83%)\n",
            "  adding: 52686687.xml (deflated 84%)\n",
            "  adding: 52696537.xml (deflated 83%)\n",
            "  adding: 52698452.xml (deflated 83%)\n",
            "  adding: 52703177.xml (deflated 83%)\n",
            "  adding: 52709482.xml (deflated 83%)\n",
            "  adding: 52713814.xml (deflated 84%)\n",
            "  adding: 52715989.xml (deflated 83%)\n",
            "  adding: 52722079.xml (deflated 83%)\n",
            "  adding: 52741293.xml (deflated 82%)\n",
            "  adding: 52755548.xml (deflated 83%)\n",
            "  adding: 52757853.xml (deflated 85%)\n",
            "  adding: 52762903.xml (deflated 84%)\n",
            "  adding: 52766000.xml (deflated 84%)\n",
            "  adding: 52766407.xml (deflated 84%)\n",
            "  adding: 52767659.xml (deflated 83%)\n",
            "  adding: 52780142.xml (deflated 84%)\n",
            "  adding: 52838315.xml (deflated 84%)\n",
            "  adding: 52843246.xml (deflated 84%)\n",
            "  adding: 52845775.xml (deflated 82%)\n",
            "  adding: 52854164.xml (deflated 85%)\n",
            "  adding: 52854406.xml (deflated 85%)\n",
            "  adding: 52855024.xml (deflated 84%)\n",
            "  adding: 52861201.xml (deflated 81%)\n",
            "  adding: 52863345.xml (deflated 84%)\n",
            "  adding: 52867387.xml (deflated 83%)\n",
            "  adding: 52879286.xml (deflated 81%)\n",
            "  adding: 52894214.xml (deflated 84%)\n",
            "  adding: 52905471.xml (deflated 84%)\n",
            "  adding: 52915426.xml (deflated 84%)\n",
            "  adding: 52945057.xml (deflated 85%)\n",
            "  adding: 53008508.xml (deflated 83%)\n",
            "  adding: 53011908.xml (deflated 82%)\n",
            "  adding: 53025903.xml (deflated 84%)\n",
            "  adding: 53064545.xml (deflated 85%)\n",
            "  adding: 53103895.xml (deflated 83%)\n",
            "  adding: 53105938.xml (deflated 86%)\n",
            "  adding: 53152636.xml (deflated 83%)\n",
            "  adding: 53166909.xml (deflated 83%)\n",
            "  adding: 53265647.xml (deflated 84%)\n",
            "  adding: 53287484.xml (deflated 83%)\n",
            "  adding: 53299031.xml (deflated 86%)\n",
            "  adding: 53317913.xml (deflated 81%)\n",
            "  adding: 53358818.xml (deflated 84%)\n",
            "  adding: 53370248.xml (deflated 84%)\n",
            "  adding: 53431510.xml (deflated 83%)\n",
            "  adding: 53869658.xml (deflated 84%)\n",
            "  adding: 53916142.xml (deflated 84%)\n",
            "  adding: 53945491.xml (deflated 86%)\n",
            "  adding: 54019416.xml (deflated 85%)\n",
            "  adding: 54081499.xml (deflated 81%)\n",
            "  adding: 54110137.xml (deflated 85%)\n",
            "  adding: 54358975.xml (deflated 84%)\n",
            "  adding: 54442955.xml (deflated 85%)\n",
            "  adding: 54467737.xml (deflated 84%)\n",
            "  adding: 54554819.xml (deflated 84%)\n",
            "  adding: 54899915.xml (deflated 84%)\n",
            "  adding: 54911607.xml (deflated 84%)\n",
            "  adding: 55052604.xml (deflated 84%)\n",
            "  adding: 55106555.xml (deflated 86%)\n",
            "  adding: 55124276.xml (deflated 86%)\n",
            "  adding: 55359022.xml (deflated 82%)\n",
            "  adding: 55456522.xml (deflated 87%)\n",
            "  adding: 55551726.xml (deflated 86%)\n",
            "  adding: 55596862.xml (deflated 85%)\n",
            "  adding: 55851555.xml (deflated 84%)\n",
            "  adding: book_id.pkl (deflated 60%)\n",
            "  adding: sample_data/ (stored 0%)\n",
            "  adding: sample_data/anscombe.json (deflated 83%)\n",
            "  adding: sample_data/README.md (deflated 42%)\n",
            "  adding: sample_data/mnist_train_small.csv (deflated 88%)\n",
            "  adding: sample_data/california_housing_train.csv (deflated 79%)\n",
            "  adding: sample_data/california_housing_test.csv (deflated 76%)\n",
            "  adding: sample_data/mnist_test.csv (deflated 88%)\n"
          ],
          "name": "stdout"
        }
      ]
    },
    {
      "cell_type": "code",
      "metadata": {
        "id": "iqknuVwtsu_L"
      },
      "source": [
        "!cp xml.zip /content/drive/MyDrive"
      ],
      "execution_count": 17,
      "outputs": []
    },
    {
      "cell_type": "code",
      "metadata": {
        "colab": {
          "base_uri": "https://localhost:8080/"
        },
        "id": "F2683x9Srvt1",
        "outputId": "76a24185-9c21-4f0b-b094-2590e6ed9a3c"
      },
      "source": [
        "from google.colab import drive\n",
        "drive.mount('/content/drive')"
      ],
      "execution_count": null,
      "outputs": [
        {
          "output_type": "stream",
          "text": [
            "Mounted at /content/drive\n"
          ],
          "name": "stdout"
        }
      ]
    },
    {
      "source": [
        "## Inspecting the web page (xml) "
      ],
      "cell_type": "markdown",
      "metadata": {}
    },
    {
      "source": [
        "import pickle\n",
        "\n",
        "with open('newer-books/book_id.pkl', 'rb') as handle:\n",
        "    book_ids = pickle.load(handle)\n",
        "len(book_ids)"
      ],
      "cell_type": "code",
      "metadata": {},
      "execution_count": 134,
      "outputs": [
        {
          "output_type": "execute_result",
          "data": {
            "text/plain": [
              "1520"
            ]
          },
          "metadata": {},
          "execution_count": 134
        }
      ]
    },
    {
      "cell_type": "code",
      "execution_count": 176,
      "metadata": {},
      "outputs": [],
      "source": [
        "import re\n",
        "from bs4 import BeautifulSoup\n",
        "import requests"
      ]
    },
    {
      "cell_type": "code",
      "execution_count": 193,
      "metadata": {},
      "outputs": [
        {
          "output_type": "execute_result",
          "data": {
            "text/plain": [
              "[3779, 1418, 699, 524, 395, 321, 258, 205, 179, 176]"
            ]
          },
          "metadata": {},
          "execution_count": 193
        }
      ],
      "source": [
        "# book_id,goodreads_book_id,best_book_id,work_id,books_count,isbn,isbn13,authors,original_publication_year,original_title,title,language_code,average_rating,ratings_count,work_ratings_count,work_text_reviews_count,ratings_1,ratings_2,ratings_3,ratings_4,ratings_5,image_url,small_image_url\n",
        "\n",
        "# i += 1\n",
        "# with open(f'newer-books/{book_ids[i]}.xml', 'rb') as page:\n",
        "#     soup = BeautifulSoup(page, 'html.parser')\n",
        "\n",
        "# book_id = int\n",
        "# goodreads_book_id = int\n",
        "# books_count = int(''.join(d for d in soup.select('.row')[0].text.strip() \n",
        "#                 if d.isdigit()))\n",
        "# isbn = soup.select('.infoBoxRowItem')[1].text.strip()\n",
        "# try: isbn13 = int(isbn[isbn.find(':')+2:-1])\n",
        "# except: isbn13 = None\n",
        "# try: isbn = int(isbn[:isbn.find('\\n')])\n",
        "# except: isbn = None\n",
        "# authors = soup.select('.authorName')[0].text.strip()\n",
        "# original_publication_year = int(''.join(i for i \n",
        "#                               in soup.select('.row')[1].text.strip() \n",
        "#                               if i.isdigit())[-4:])\n",
        "# original_title = soup.select('.infoBoxRowItem')[0].text.strip()\n",
        "# title = soup.select('#bookTitle')[0].text.strip()\n",
        "# language_code = soup.select('.infoBoxRowItem')[2].text.strip()\n",
        "# average_rating = float(soup.find_all('span', {'itemprop': 'ratingValue'})[0].text.strip())\n",
        "# rating_count = int(''.join(filter(str.isdigit, \n",
        "#                     soup.find_all('meta', {'itemprop': 'ratingCount'})[0].text.strip())))\n",
        "# image_url = soup.find_all('img', {'id': 'coverImage'})[0].get('src')\n",
        "# try: \n",
        "#     t = re.search(r'_(.+)_', image_url).span()\n",
        "#     small_image_url = image_url[:t[0]] + '_SX98_' + image_url[t[1]:]\n",
        "# except:\n",
        "#     small_image_url = image_url[:-3] + '_SX98_' + image_url[-4:]\n",
        "# try: requests.get(small_image_url).status_code == 200\n",
        "# except: small_image_url = image_url\n",
        "\n",
        "# cdata = soup.find_all(text=re.compile(\"CDATA\"))\n",
        "# [r_5, r_4, r_3, r_2, r_1] = [int(x) for x in re.findall(r'% \\((\\d+)\\)', cdata[7])]\n",
        "\n",
        "tags = [int(_) for _ in eval(re.search(r'tags\", (.+)\\)', cdata[2]).group(1))]\n",
        "tags_count = [int(''.join(i for i in g.text.strip() if i.isdigit()))\n",
        "                for g in soup.find_all('div', {'class': 'right'})]\n",
        "\n",
        "# {'book_id': int, 'goodreads_book_id': int,\n",
        "#  'books_count': books_count, 'isbn': isbn, 'isbn13': isbn13,\n",
        "#  'authors': authors, 'original_publication_year': original_publication_year,\n",
        "#  'original_title': original_title, 'title': title, 'language_code': language_code,\n",
        "#  'average_rating': average_rating, 'rating_count': rating_count,\n",
        "#  'rating_1': r_1, 'rating_2': r_2, 'rating_3': r_3, 'rating_4': r_4, 'rating_5': r_5,\n",
        "#  'image_url': image_url, 'small_image_url': small_image_url, 'tags': tags}, requests.get(small_image_url).status_code"
      ]
    },
    {
      "source": [
        "## Finally, collect data"
      ],
      "cell_type": "markdown",
      "metadata": {}
    },
    {
      "cell_type": "code",
      "execution_count": 91,
      "metadata": {},
      "outputs": [],
      "source": [
        "import re\n",
        "from bs4 import BeautifulSoup\n",
        "import requests\n",
        "\n",
        "def get_data(i):\n",
        "\n",
        "    with open(f'newer-books/{i}.xml', 'rb') as page:\n",
        "        soup = BeautifulSoup(page, 'html.parser')\n",
        "    # print(soup)\n",
        "    book_id = int\n",
        "    goodreads_book_id = int(i)\n",
        "    try: books_count = int(''.join(d for d in soup.select('.row')[0].text.strip() \n",
        "                    if d.isdigit()))\n",
        "    except: books_count = None\n",
        "    try: isbn = soup.select('.infoBoxRowItem')[1].text.strip()\n",
        "    except: isbn = None\n",
        "    try: \n",
        "        isbn13 = int(isbn[isbn.find(':')+2:-1])\n",
        "    except: \n",
        "        isbn13 = None\n",
        "    try: \n",
        "        isbn = int(isbn[:isbn.find('\\n')])\n",
        "    except: \n",
        "        isbn = None\n",
        "    try: authors = soup.select('.authorName')[0].text.strip()\n",
        "    except: authors = None\n",
        "    try: original_publication_year = int(''.join(i for i \n",
        "                                    in soup.select('.row')[1].text.strip() \n",
        "                                    if i.isdigit())[-4:])\n",
        "    except: original_publication_year = None    \n",
        "    try: original_title = soup.select('.infoBoxRowItem')[0].text.strip()\n",
        "    except: original_title = None \n",
        "    try: title = soup.select('#bookTitle')[0].text.strip()\n",
        "    except: title = None\n",
        "    try: language_code = soup.select('.infoBoxRowItem')[2].text.strip()\n",
        "    except: language_code = None\n",
        "    try: average_rating = float(soup.find_all('span', {'itemprop': 'ratingValue'})[0].text.strip())\n",
        "    except: average_rating = NOne\n",
        "    try: rating_count = int(''.join(filter(str.isdigit, \n",
        "                        soup.find_all('meta', {'itemprop': 'ratingCount'})[0].text.strip())))\n",
        "    except: rating_count = None\n",
        "    try: image_url = soup.find_all('img', {'id': 'coverImage'})[0].get('src')\n",
        "    except: image_url = None\n",
        "    try: \n",
        "        t = re.search(r'_(.+)_', image_url).span()\n",
        "        small_image_url = image_url[:t[0]] + '_SX98_' + image_url[t[1]:]\n",
        "    except:\n",
        "        small_image_url = image_url[:-3] + '_SX98_' + image_url[-4:]\n",
        "    try: \n",
        "        requests.get(small_image_url).status_code == 200\n",
        "    except: \n",
        "        small_image_url = image_url\n",
        "\n",
        "    try: \n",
        "        cdata = soup.find_all(text=re.compile(\"CDATA\"))\n",
        "        [r_5, r_4, r_3, r_2, r_1] = [int(x) for x in re.findall(r'% \\((\\d+)\\)', cdata[7])]\n",
        "    except:\n",
        "        [r_5, r_4, r_3, r_2, r_1] = [None, None, None, None, None]\n",
        "\n",
        "    book_data = {'book_id': book_id, 'goodreads_book_id': goodreads_book_id,\n",
        "                 'books_count': books_count, 'isbn': isbn, 'isbn13': isbn13,\n",
        "                 'authors': authors, 'original_publication_year': original_publication_year,\n",
        "                 'original_title': original_title, 'title': title, 'language_code': language_code,\n",
        "                 'average_rating': average_rating, 'rating_count': rating_count,\n",
        "                 'rating_1': r_1, 'rating_2': r_2, 'rating_3': r_3, 'rating_4': r_4, 'rating_5': r_5,\n",
        "                 'image_url': image_url, 'small_image_url': small_image_url}\n",
        "\n",
        "    # book_pd = book_pd.append(book_data, ignore_index=True)\n",
        "\n",
        "\n",
        "    # tags\n",
        "    try: \n",
        "        tags_id = [int(_) for _ in eval(re.search(r'tags\", (.+)\\)', cdata[2]).group(1))]\n",
        "\n",
        "        tags_count = []\n",
        "        for g in soup.find_all('div', {'class': 'right'}):\n",
        "            try:\n",
        "                tags_count.append(int(''.join(filter(str.isdigit, g.text.strip()))))\n",
        "            except: \n",
        "                continue\n",
        "        \n",
        "        book_tags = []\n",
        "        for i in range(len(tags_id)):\n",
        "            d = {'goodreads_book_id': goodreads_book_id, \n",
        "                        'tag_id': tags_id[i],\n",
        "                        'count': tags_count[i]}\n",
        "            book_tags.append(d)\n",
        "    except:\n",
        "        book_tags = [{'goodreads_book_id': goodreads_book_id, \n",
        "                        'tag_id': None,\n",
        "                        'count': None}]\n",
        "\n",
        "    \n",
        "    return book_data, book_tags\n",
        "    \n",
        "#     print(f'Added ebook id {book_id} to the datarame. ({round(time.time()-toc, 2)}s) | ({title}) ')\n",
        "# print(f'Total elapsed time: {round(time.time()-tic, 2)}s')\n",
        "\n",
        "# book_pd.to_csv('book.csv', index=False)\n",
        "# book_tags.to_csv('book_tags.csv', index=False)"
      ]
    },
    {
      "cell_type": "code",
      "execution_count": 79,
      "metadata": {},
      "outputs": [
        {
          "output_type": "execute_result",
          "data": {
            "text/plain": [
              "(1520, ('31443394', 10001), 1520, 1520)"
            ]
          },
          "metadata": {},
          "execution_count": 79
        }
      ],
      "source": [
        "import pickle\n",
        "\n",
        "with open('newer-books/book_id.pkl', 'rb') as handle:\n",
        "    book_ids = pickle.load(handle)\n",
        "\n",
        "book_id = []\n",
        "for i in range(len(book_ids)):\n",
        "    book_id.append((book_ids[i], i+10000))\n",
        "books_count = int(''.join(d for d in soup.select('.row')[0].text.strip() \n",
        "                          if d.isdigit()))\n",
        "# book = [dict for i in book_id]\n",
        "# book_tags = [dict for i in range(len(book_id))]\n",
        "len(book_id), book_id[1], len(book), len(book_tags)"
      ]
    },
    {
      "cell_type": "code",
      "execution_count": 92,
      "metadata": {},
      "outputs": [
        {
          "output_type": "stream",
          "name": "stderr",
          "text": [
            "  0%|          | 0/903 [00:00<?, ?it/s]\n"
          ]
        },
        {
          "output_type": "error",
          "ename": "NameError",
          "evalue": "name 'NOne' is not defined",
          "traceback": [
            "\u001b[0;31m---------------------------------------------------------------------------\u001b[0m",
            "\u001b[0;31mIndexError\u001b[0m                                Traceback (most recent call last)",
            "\u001b[0;32m<ipython-input-91-44a9310a5cb6>\u001b[0m in \u001b[0;36mget_data\u001b[0;34m(i)\u001b[0m\n\u001b[1;32m     36\u001b[0m     \u001b[0;32mexcept\u001b[0m\u001b[0;34m:\u001b[0m \u001b[0mlanguage_code\u001b[0m \u001b[0;34m=\u001b[0m \u001b[0;32mNone\u001b[0m\u001b[0;34m\u001b[0m\u001b[0;34m\u001b[0m\u001b[0m\n\u001b[0;32m---> 37\u001b[0;31m     \u001b[0;32mtry\u001b[0m\u001b[0;34m:\u001b[0m \u001b[0maverage_rating\u001b[0m \u001b[0;34m=\u001b[0m \u001b[0mfloat\u001b[0m\u001b[0;34m(\u001b[0m\u001b[0msoup\u001b[0m\u001b[0;34m.\u001b[0m\u001b[0mfind_all\u001b[0m\u001b[0;34m(\u001b[0m\u001b[0;34m'span'\u001b[0m\u001b[0;34m,\u001b[0m \u001b[0;34m{\u001b[0m\u001b[0;34m'itemprop'\u001b[0m\u001b[0;34m:\u001b[0m \u001b[0;34m'ratingValue'\u001b[0m\u001b[0;34m}\u001b[0m\u001b[0;34m)\u001b[0m\u001b[0;34m[\u001b[0m\u001b[0;36m0\u001b[0m\u001b[0;34m]\u001b[0m\u001b[0;34m.\u001b[0m\u001b[0mtext\u001b[0m\u001b[0;34m.\u001b[0m\u001b[0mstrip\u001b[0m\u001b[0;34m(\u001b[0m\u001b[0;34m)\u001b[0m\u001b[0;34m)\u001b[0m\u001b[0;34m\u001b[0m\u001b[0;34m\u001b[0m\u001b[0m\n\u001b[0m\u001b[1;32m     38\u001b[0m     \u001b[0;32mexcept\u001b[0m\u001b[0;34m:\u001b[0m \u001b[0maverage_rating\u001b[0m \u001b[0;34m=\u001b[0m \u001b[0mNOne\u001b[0m\u001b[0;34m\u001b[0m\u001b[0;34m\u001b[0m\u001b[0m\n",
            "\u001b[0;31mIndexError\u001b[0m: list index out of range",
            "\nDuring handling of the above exception, another exception occurred:\n",
            "\u001b[0;31mNameError\u001b[0m                                 Traceback (most recent call last)",
            "\u001b[0;32m<ipython-input-92-f741a27db996>\u001b[0m in \u001b[0;36m<module>\u001b[0;34m\u001b[0m\n\u001b[1;32m      6\u001b[0m \u001b[0;31m# with concurrent.futures.ThreadPoolExecutor() as executor:\u001b[0m\u001b[0;34m\u001b[0m\u001b[0;34m\u001b[0m\u001b[0;34m\u001b[0m\u001b[0m\n\u001b[1;32m      7\u001b[0m \u001b[0mfuture\u001b[0m \u001b[0;34m=\u001b[0m \u001b[0mmap\u001b[0m\u001b[0;34m(\u001b[0m\u001b[0mget_data\u001b[0m\u001b[0;34m,\u001b[0m \u001b[0mbook_ids\u001b[0m\u001b[0;34m[\u001b[0m\u001b[0mn\u001b[0m\u001b[0;34m:\u001b[0m\u001b[0;34m]\u001b[0m\u001b[0;34m)\u001b[0m\u001b[0;34m\u001b[0m\u001b[0;34m\u001b[0m\u001b[0m\n\u001b[0;32m----> 8\u001b[0;31m \u001b[0;32mfor\u001b[0m \u001b[0mi\u001b[0m\u001b[0;34m,\u001b[0m \u001b[0mf\u001b[0m \u001b[0;32min\u001b[0m \u001b[0menumerate\u001b[0m\u001b[0;34m(\u001b[0m\u001b[0mtqdm\u001b[0m\u001b[0;34m(\u001b[0m\u001b[0mfuture\u001b[0m\u001b[0;34m,\u001b[0m \u001b[0mtotal\u001b[0m\u001b[0;34m=\u001b[0m\u001b[0mlen\u001b[0m\u001b[0;34m(\u001b[0m\u001b[0mbook_ids\u001b[0m\u001b[0;34m[\u001b[0m\u001b[0mn\u001b[0m\u001b[0;34m:\u001b[0m\u001b[0;34m]\u001b[0m\u001b[0;34m)\u001b[0m\u001b[0;34m)\u001b[0m\u001b[0;34m)\u001b[0m\u001b[0;34m:\u001b[0m\u001b[0;34m\u001b[0m\u001b[0;34m\u001b[0m\u001b[0m\n\u001b[0m\u001b[1;32m      9\u001b[0m     \u001b[0mbook\u001b[0m\u001b[0;34m[\u001b[0m\u001b[0mi\u001b[0m\u001b[0;34m+\u001b[0m\u001b[0mn\u001b[0m\u001b[0;34m]\u001b[0m \u001b[0;34m=\u001b[0m \u001b[0mf\u001b[0m\u001b[0;34m[\u001b[0m\u001b[0;36m0\u001b[0m\u001b[0;34m]\u001b[0m\u001b[0;34m\u001b[0m\u001b[0;34m\u001b[0m\u001b[0m\n\u001b[1;32m     10\u001b[0m     \u001b[0mbook_tags\u001b[0m\u001b[0;34m[\u001b[0m\u001b[0mi\u001b[0m\u001b[0;34m+\u001b[0m\u001b[0mn\u001b[0m\u001b[0;34m]\u001b[0m \u001b[0;34m=\u001b[0m \u001b[0mf\u001b[0m\u001b[0;34m[\u001b[0m\u001b[0;36m1\u001b[0m\u001b[0;34m]\u001b[0m\u001b[0;34m\u001b[0m\u001b[0;34m\u001b[0m\u001b[0m\n",
            "\u001b[0;32m~/anaconda3/lib/python3.8/site-packages/tqdm/std.py\u001b[0m in \u001b[0;36m__iter__\u001b[0;34m(self)\u001b[0m\n\u001b[1;32m   1163\u001b[0m \u001b[0;34m\u001b[0m\u001b[0m\n\u001b[1;32m   1164\u001b[0m         \u001b[0;32mtry\u001b[0m\u001b[0;34m:\u001b[0m\u001b[0;34m\u001b[0m\u001b[0;34m\u001b[0m\u001b[0m\n\u001b[0;32m-> 1165\u001b[0;31m             \u001b[0;32mfor\u001b[0m \u001b[0mobj\u001b[0m \u001b[0;32min\u001b[0m \u001b[0miterable\u001b[0m\u001b[0;34m:\u001b[0m\u001b[0;34m\u001b[0m\u001b[0;34m\u001b[0m\u001b[0m\n\u001b[0m\u001b[1;32m   1166\u001b[0m                 \u001b[0;32myield\u001b[0m \u001b[0mobj\u001b[0m\u001b[0;34m\u001b[0m\u001b[0;34m\u001b[0m\u001b[0m\n\u001b[1;32m   1167\u001b[0m                 \u001b[0;31m# Update and possibly print the progressbar.\u001b[0m\u001b[0;34m\u001b[0m\u001b[0;34m\u001b[0m\u001b[0;34m\u001b[0m\u001b[0m\n",
            "\u001b[0;32m<ipython-input-91-44a9310a5cb6>\u001b[0m in \u001b[0;36mget_data\u001b[0;34m(i)\u001b[0m\n\u001b[1;32m     36\u001b[0m     \u001b[0;32mexcept\u001b[0m\u001b[0;34m:\u001b[0m \u001b[0mlanguage_code\u001b[0m \u001b[0;34m=\u001b[0m \u001b[0;32mNone\u001b[0m\u001b[0;34m\u001b[0m\u001b[0;34m\u001b[0m\u001b[0m\n\u001b[1;32m     37\u001b[0m     \u001b[0;32mtry\u001b[0m\u001b[0;34m:\u001b[0m \u001b[0maverage_rating\u001b[0m \u001b[0;34m=\u001b[0m \u001b[0mfloat\u001b[0m\u001b[0;34m(\u001b[0m\u001b[0msoup\u001b[0m\u001b[0;34m.\u001b[0m\u001b[0mfind_all\u001b[0m\u001b[0;34m(\u001b[0m\u001b[0;34m'span'\u001b[0m\u001b[0;34m,\u001b[0m \u001b[0;34m{\u001b[0m\u001b[0;34m'itemprop'\u001b[0m\u001b[0;34m:\u001b[0m \u001b[0;34m'ratingValue'\u001b[0m\u001b[0;34m}\u001b[0m\u001b[0;34m)\u001b[0m\u001b[0;34m[\u001b[0m\u001b[0;36m0\u001b[0m\u001b[0;34m]\u001b[0m\u001b[0;34m.\u001b[0m\u001b[0mtext\u001b[0m\u001b[0;34m.\u001b[0m\u001b[0mstrip\u001b[0m\u001b[0;34m(\u001b[0m\u001b[0;34m)\u001b[0m\u001b[0;34m)\u001b[0m\u001b[0;34m\u001b[0m\u001b[0;34m\u001b[0m\u001b[0m\n\u001b[0;32m---> 38\u001b[0;31m     \u001b[0;32mexcept\u001b[0m\u001b[0;34m:\u001b[0m \u001b[0maverage_rating\u001b[0m \u001b[0;34m=\u001b[0m \u001b[0mNOne\u001b[0m\u001b[0;34m\u001b[0m\u001b[0;34m\u001b[0m\u001b[0m\n\u001b[0m\u001b[1;32m     39\u001b[0m     try: rating_count = int(''.join(filter(str.isdigit, \n\u001b[1;32m     40\u001b[0m                         soup.find_all('meta', {'itemprop': 'ratingCount'})[0].text.strip())))\n",
            "\u001b[0;31mNameError\u001b[0m: name 'NOne' is not defined"
          ]
        }
      ],
      "source": [
        "import concurrent.futures\n",
        "from tqdm import tqdm\n",
        "# import pandas as pd\n",
        "# import time\n",
        "n = 618\n",
        "# with concurrent.futures.ThreadPoolExecutor() as executor:\n",
        "future = map(get_data, book_ids[n:])\n",
        "for i, f in enumerate(tqdm(future, total=len(book_ids[n:]))):\n",
        "    book[i+n] = f[0]\n",
        "    book_tags[i+n] = f[1]\n",
        "    # print(i)\n",
        "\n",
        "import csv\n",
        "for i in range(len(book)):\n",
        "    book[i]['book_id'] = i + 10001\n",
        "keys = book[0].keys()\n",
        "with open('book.csv', 'w', newline='')  as output_file:\n",
        "    dict_writer = csv.DictWriter(output_file, keys)\n",
        "    dict_writer.writeheader()\n",
        "    dict_writer.writerows(book)\n",
        "\n",
        "book_tags = [item for sublist in book_tags for item in sublist]\n",
        "keys = book_tags[0].keys()\n",
        "with open('book_tags.csv', 'w', newline='')  as output_file:\n",
        "    dict_writer = csv.DictWriter(output_file, keys)\n",
        "    dict_writer.writeheader()\n",
        "    dict_writer.writerows(book_tags)"
      ]
    },
    {
      "cell_type": "code",
      "execution_count": 88,
      "metadata": {},
      "outputs": [
        {
          "output_type": "execute_result",
          "data": {
            "text/plain": [
              "616"
            ]
          },
          "metadata": {},
          "execution_count": 88
        }
      ],
      "source": [
        "i+n"
      ]
    },
    {
      "source": [
        "problematic:\n",
        "\n",
        "282\n",
        "\n",
        "428\n",
        "\n",
        "429\n",
        "\n",
        "616\n",
        "\n",
        "617"
      ],
      "cell_type": "markdown",
      "metadata": {}
    }
  ]
}